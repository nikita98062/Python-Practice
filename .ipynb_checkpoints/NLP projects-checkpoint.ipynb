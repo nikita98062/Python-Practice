{
 "cells": [
  {
   "cell_type": "markdown",
   "id": "211c8a61",
   "metadata": {},
   "source": [
    "## 15-04-2025"
   ]
  },
  {
   "cell_type": "code",
   "execution_count": 1,
   "id": "b51811d7",
   "metadata": {},
   "outputs": [],
   "source": [
    "#Sentiment Analysis using Logistic Regression\n",
    "import pandas as pd\n",
    "import numpy as np\n",
    "import matplotlib.pyplot as plt\n",
    "import seaborn as sns"
   ]
  },
  {
   "cell_type": "code",
   "execution_count": 2,
   "id": "d6dba8a0",
   "metadata": {},
   "outputs": [
    {
     "data": {
      "text/html": [
       "<div>\n",
       "<style scoped>\n",
       "    .dataframe tbody tr th:only-of-type {\n",
       "        vertical-align: middle;\n",
       "    }\n",
       "\n",
       "    .dataframe tbody tr th {\n",
       "        vertical-align: top;\n",
       "    }\n",
       "\n",
       "    .dataframe thead th {\n",
       "        text-align: right;\n",
       "    }\n",
       "</style>\n",
       "<table border=\"1\" class=\"dataframe\">\n",
       "  <thead>\n",
       "    <tr style=\"text-align: right;\">\n",
       "      <th></th>\n",
       "      <th>review</th>\n",
       "      <th>sentiment</th>\n",
       "    </tr>\n",
       "  </thead>\n",
       "  <tbody>\n",
       "    <tr>\n",
       "      <th>0</th>\n",
       "      <td>One of the other reviewers has mentioned that ...</td>\n",
       "      <td>positive</td>\n",
       "    </tr>\n",
       "    <tr>\n",
       "      <th>1</th>\n",
       "      <td>A wonderful little production. &lt;br /&gt;&lt;br /&gt;The...</td>\n",
       "      <td>positive</td>\n",
       "    </tr>\n",
       "    <tr>\n",
       "      <th>2</th>\n",
       "      <td>I thought this was a wonderful way to spend ti...</td>\n",
       "      <td>positive</td>\n",
       "    </tr>\n",
       "    <tr>\n",
       "      <th>3</th>\n",
       "      <td>Basically there's a family where a little boy ...</td>\n",
       "      <td>negative</td>\n",
       "    </tr>\n",
       "    <tr>\n",
       "      <th>4</th>\n",
       "      <td>Petter Mattei's \"Love in the Time of Money\" is...</td>\n",
       "      <td>positive</td>\n",
       "    </tr>\n",
       "    <tr>\n",
       "      <th>...</th>\n",
       "      <td>...</td>\n",
       "      <td>...</td>\n",
       "    </tr>\n",
       "    <tr>\n",
       "      <th>29994</th>\n",
       "      <td>I enjoyed the first \"Toxic Avenger,\" but the s...</td>\n",
       "      <td>negative</td>\n",
       "    </tr>\n",
       "    <tr>\n",
       "      <th>29995</th>\n",
       "      <td>New York, I Love You finally makes it to our s...</td>\n",
       "      <td>positive</td>\n",
       "    </tr>\n",
       "    <tr>\n",
       "      <th>29996</th>\n",
       "      <td>This movie makes you wish imdb would let you v...</td>\n",
       "      <td>negative</td>\n",
       "    </tr>\n",
       "    <tr>\n",
       "      <th>29997</th>\n",
       "      <td>Space Camp, which had the unfortunate luck to ...</td>\n",
       "      <td>negative</td>\n",
       "    </tr>\n",
       "    <tr>\n",
       "      <th>29998</th>\n",
       "      <td>Octavio Paz, Mexican poet, writer, and diploma...</td>\n",
       "      <td>positive</td>\n",
       "    </tr>\n",
       "  </tbody>\n",
       "</table>\n",
       "<p>29999 rows × 2 columns</p>\n",
       "</div>"
      ],
      "text/plain": [
       "                                                  review sentiment\n",
       "0      One of the other reviewers has mentioned that ...  positive\n",
       "1      A wonderful little production. <br /><br />The...  positive\n",
       "2      I thought this was a wonderful way to spend ti...  positive\n",
       "3      Basically there's a family where a little boy ...  negative\n",
       "4      Petter Mattei's \"Love in the Time of Money\" is...  positive\n",
       "...                                                  ...       ...\n",
       "29994  I enjoyed the first \"Toxic Avenger,\" but the s...  negative\n",
       "29995  New York, I Love You finally makes it to our s...  positive\n",
       "29996  This movie makes you wish imdb would let you v...  negative\n",
       "29997  Space Camp, which had the unfortunate luck to ...  negative\n",
       "29998  Octavio Paz, Mexican poet, writer, and diploma...  positive\n",
       "\n",
       "[29999 rows x 2 columns]"
      ]
     },
     "execution_count": 2,
     "metadata": {},
     "output_type": "execute_result"
    }
   ],
   "source": [
    "df=pd.read_csv(r\"C:\\Users\\91805\\Downloads\\NLP\\IMDB Dataset.csv\")\n",
    "df"
   ]
  },
  {
   "cell_type": "code",
   "execution_count": 3,
   "id": "5458ea4d",
   "metadata": {},
   "outputs": [],
   "source": [
    "df['review']=df['review'].str.lower()"
   ]
  },
  {
   "cell_type": "code",
   "execution_count": 4,
   "id": "a3153e34",
   "metadata": {},
   "outputs": [],
   "source": [
    "import re\n",
    "def remove_html_tag(text):\n",
    "    p=re.compile('<.*?>')\n",
    "    return p.sub('',text)"
   ]
  },
  {
   "cell_type": "code",
   "execution_count": 5,
   "id": "b398a49c",
   "metadata": {},
   "outputs": [],
   "source": [
    "df['review']=df['review'].apply(remove_html_tag)"
   ]
  },
  {
   "cell_type": "code",
   "execution_count": 6,
   "id": "f631e1f0",
   "metadata": {},
   "outputs": [
    {
     "data": {
      "text/html": [
       "<div>\n",
       "<style scoped>\n",
       "    .dataframe tbody tr th:only-of-type {\n",
       "        vertical-align: middle;\n",
       "    }\n",
       "\n",
       "    .dataframe tbody tr th {\n",
       "        vertical-align: top;\n",
       "    }\n",
       "\n",
       "    .dataframe thead th {\n",
       "        text-align: right;\n",
       "    }\n",
       "</style>\n",
       "<table border=\"1\" class=\"dataframe\">\n",
       "  <thead>\n",
       "    <tr style=\"text-align: right;\">\n",
       "      <th></th>\n",
       "      <th>review</th>\n",
       "      <th>sentiment</th>\n",
       "    </tr>\n",
       "  </thead>\n",
       "  <tbody>\n",
       "    <tr>\n",
       "      <th>0</th>\n",
       "      <td>one of the other reviewers has mentioned that ...</td>\n",
       "      <td>positive</td>\n",
       "    </tr>\n",
       "    <tr>\n",
       "      <th>1</th>\n",
       "      <td>a wonderful little production. the filming tec...</td>\n",
       "      <td>positive</td>\n",
       "    </tr>\n",
       "    <tr>\n",
       "      <th>2</th>\n",
       "      <td>i thought this was a wonderful way to spend ti...</td>\n",
       "      <td>positive</td>\n",
       "    </tr>\n",
       "    <tr>\n",
       "      <th>3</th>\n",
       "      <td>basically there's a family where a little boy ...</td>\n",
       "      <td>negative</td>\n",
       "    </tr>\n",
       "    <tr>\n",
       "      <th>4</th>\n",
       "      <td>petter mattei's \"love in the time of money\" is...</td>\n",
       "      <td>positive</td>\n",
       "    </tr>\n",
       "    <tr>\n",
       "      <th>...</th>\n",
       "      <td>...</td>\n",
       "      <td>...</td>\n",
       "    </tr>\n",
       "    <tr>\n",
       "      <th>29994</th>\n",
       "      <td>i enjoyed the first \"toxic avenger,\" but the s...</td>\n",
       "      <td>negative</td>\n",
       "    </tr>\n",
       "    <tr>\n",
       "      <th>29995</th>\n",
       "      <td>new york, i love you finally makes it to our s...</td>\n",
       "      <td>positive</td>\n",
       "    </tr>\n",
       "    <tr>\n",
       "      <th>29996</th>\n",
       "      <td>this movie makes you wish imdb would let you v...</td>\n",
       "      <td>negative</td>\n",
       "    </tr>\n",
       "    <tr>\n",
       "      <th>29997</th>\n",
       "      <td>space camp, which had the unfortunate luck to ...</td>\n",
       "      <td>negative</td>\n",
       "    </tr>\n",
       "    <tr>\n",
       "      <th>29998</th>\n",
       "      <td>octavio paz, mexican poet, writer, and diploma...</td>\n",
       "      <td>positive</td>\n",
       "    </tr>\n",
       "  </tbody>\n",
       "</table>\n",
       "<p>29999 rows × 2 columns</p>\n",
       "</div>"
      ],
      "text/plain": [
       "                                                  review sentiment\n",
       "0      one of the other reviewers has mentioned that ...  positive\n",
       "1      a wonderful little production. the filming tec...  positive\n",
       "2      i thought this was a wonderful way to spend ti...  positive\n",
       "3      basically there's a family where a little boy ...  negative\n",
       "4      petter mattei's \"love in the time of money\" is...  positive\n",
       "...                                                  ...       ...\n",
       "29994  i enjoyed the first \"toxic avenger,\" but the s...  negative\n",
       "29995  new york, i love you finally makes it to our s...  positive\n",
       "29996  this movie makes you wish imdb would let you v...  negative\n",
       "29997  space camp, which had the unfortunate luck to ...  negative\n",
       "29998  octavio paz, mexican poet, writer, and diploma...  positive\n",
       "\n",
       "[29999 rows x 2 columns]"
      ]
     },
     "execution_count": 6,
     "metadata": {},
     "output_type": "execute_result"
    }
   ],
   "source": [
    "df"
   ]
  },
  {
   "cell_type": "code",
   "execution_count": 7,
   "id": "3aaa6897",
   "metadata": {},
   "outputs": [],
   "source": [
    "import string\n",
    "import nltk\n",
    "from nltk.corpus import stopwords\n",
    "from sklearn.model_selection import train_test_split\n",
    "from sklearn.feature_extraction.text import TfidfVectorizer\n",
    "from sklearn.linear_model import LogisticRegression\n",
    "from sklearn.metrics import roc_auc_score,roc_curve,confusion_matrix,classification_report"
   ]
  },
  {
   "cell_type": "code",
   "execution_count": 8,
   "id": "977c6dae",
   "metadata": {},
   "outputs": [
    {
     "name": "stderr",
     "output_type": "stream",
     "text": [
      "[nltk_data] Downloading package stopwords to\n",
      "[nltk_data]     C:\\Users\\91805\\AppData\\Roaming\\nltk_data...\n",
      "[nltk_data]   Package stopwords is already up-to-date!\n"
     ]
    }
   ],
   "source": [
    "nltk.download('stopwords')\n",
    "stop_words=set(stopwords.words('english'))"
   ]
  },
  {
   "cell_type": "code",
   "execution_count": 9,
   "id": "e6f9f87a",
   "metadata": {},
   "outputs": [
    {
     "data": {
      "text/plain": [
       "'!\"#$%&\\'()*+,-./:;<=>?@[\\\\]^_`{|}~'"
      ]
     },
     "execution_count": 9,
     "metadata": {},
     "output_type": "execute_result"
    }
   ],
   "source": [
    "exclude=string.punctuation\n",
    "exclude"
   ]
  },
  {
   "cell_type": "code",
   "execution_count": 10,
   "id": "b323b45c",
   "metadata": {},
   "outputs": [],
   "source": [
    "def preprocess(text):\n",
    "    text = text.lower()\n",
    "    text = ''.join([char for char in text if char not in string.punctuation])\n",
    "    words = text.split()\n",
    "    words = [word for word in words if word not in stop_words]\n",
    "    return ' '.join(words)\n",
    "\n",
    "# Apply preprocessing\n",
    "df['review'] = df['review'].apply(preprocess)"
   ]
  },
  {
   "cell_type": "code",
   "execution_count": 11,
   "id": "799f2542",
   "metadata": {},
   "outputs": [
    {
     "data": {
      "text/html": [
       "<div>\n",
       "<style scoped>\n",
       "    .dataframe tbody tr th:only-of-type {\n",
       "        vertical-align: middle;\n",
       "    }\n",
       "\n",
       "    .dataframe tbody tr th {\n",
       "        vertical-align: top;\n",
       "    }\n",
       "\n",
       "    .dataframe thead th {\n",
       "        text-align: right;\n",
       "    }\n",
       "</style>\n",
       "<table border=\"1\" class=\"dataframe\">\n",
       "  <thead>\n",
       "    <tr style=\"text-align: right;\">\n",
       "      <th></th>\n",
       "      <th>review</th>\n",
       "      <th>sentiment</th>\n",
       "    </tr>\n",
       "  </thead>\n",
       "  <tbody>\n",
       "    <tr>\n",
       "      <th>0</th>\n",
       "      <td>one reviewers mentioned watching 1 oz episode ...</td>\n",
       "      <td>positive</td>\n",
       "    </tr>\n",
       "    <tr>\n",
       "      <th>1</th>\n",
       "      <td>wonderful little production filming technique ...</td>\n",
       "      <td>positive</td>\n",
       "    </tr>\n",
       "    <tr>\n",
       "      <th>2</th>\n",
       "      <td>thought wonderful way spend time hot summer we...</td>\n",
       "      <td>positive</td>\n",
       "    </tr>\n",
       "    <tr>\n",
       "      <th>3</th>\n",
       "      <td>basically theres family little boy jake thinks...</td>\n",
       "      <td>negative</td>\n",
       "    </tr>\n",
       "    <tr>\n",
       "      <th>4</th>\n",
       "      <td>petter matteis love time money visually stunni...</td>\n",
       "      <td>positive</td>\n",
       "    </tr>\n",
       "    <tr>\n",
       "      <th>...</th>\n",
       "      <td>...</td>\n",
       "      <td>...</td>\n",
       "    </tr>\n",
       "    <tr>\n",
       "      <th>29994</th>\n",
       "      <td>enjoyed first toxic avenger sequel didnt work ...</td>\n",
       "      <td>negative</td>\n",
       "    </tr>\n",
       "    <tr>\n",
       "      <th>29995</th>\n",
       "      <td>new york love finally makes shores 10 short st...</td>\n",
       "      <td>positive</td>\n",
       "    </tr>\n",
       "    <tr>\n",
       "      <th>29996</th>\n",
       "      <td>movie makes wish imdb would let vote zero one ...</td>\n",
       "      <td>negative</td>\n",
       "    </tr>\n",
       "    <tr>\n",
       "      <th>29997</th>\n",
       "      <td>space camp unfortunate luck planned around tim...</td>\n",
       "      <td>negative</td>\n",
       "    </tr>\n",
       "    <tr>\n",
       "      <th>29998</th>\n",
       "      <td>octavio paz mexican poet writer diplomat recei...</td>\n",
       "      <td>positive</td>\n",
       "    </tr>\n",
       "  </tbody>\n",
       "</table>\n",
       "<p>29999 rows × 2 columns</p>\n",
       "</div>"
      ],
      "text/plain": [
       "                                                  review sentiment\n",
       "0      one reviewers mentioned watching 1 oz episode ...  positive\n",
       "1      wonderful little production filming technique ...  positive\n",
       "2      thought wonderful way spend time hot summer we...  positive\n",
       "3      basically theres family little boy jake thinks...  negative\n",
       "4      petter matteis love time money visually stunni...  positive\n",
       "...                                                  ...       ...\n",
       "29994  enjoyed first toxic avenger sequel didnt work ...  negative\n",
       "29995  new york love finally makes shores 10 short st...  positive\n",
       "29996  movie makes wish imdb would let vote zero one ...  negative\n",
       "29997  space camp unfortunate luck planned around tim...  negative\n",
       "29998  octavio paz mexican poet writer diplomat recei...  positive\n",
       "\n",
       "[29999 rows x 2 columns]"
      ]
     },
     "execution_count": 11,
     "metadata": {},
     "output_type": "execute_result"
    }
   ],
   "source": [
    "df"
   ]
  },
  {
   "cell_type": "code",
   "execution_count": 12,
   "id": "1d03ae66",
   "metadata": {},
   "outputs": [],
   "source": [
    "df['label']=df['sentiment'].map({'positive':1,'negative':0})"
   ]
  },
  {
   "cell_type": "code",
   "execution_count": 13,
   "id": "3c206979",
   "metadata": {},
   "outputs": [
    {
     "data": {
      "text/html": [
       "<div>\n",
       "<style scoped>\n",
       "    .dataframe tbody tr th:only-of-type {\n",
       "        vertical-align: middle;\n",
       "    }\n",
       "\n",
       "    .dataframe tbody tr th {\n",
       "        vertical-align: top;\n",
       "    }\n",
       "\n",
       "    .dataframe thead th {\n",
       "        text-align: right;\n",
       "    }\n",
       "</style>\n",
       "<table border=\"1\" class=\"dataframe\">\n",
       "  <thead>\n",
       "    <tr style=\"text-align: right;\">\n",
       "      <th></th>\n",
       "      <th>review</th>\n",
       "      <th>sentiment</th>\n",
       "      <th>label</th>\n",
       "    </tr>\n",
       "  </thead>\n",
       "  <tbody>\n",
       "    <tr>\n",
       "      <th>0</th>\n",
       "      <td>one reviewers mentioned watching 1 oz episode ...</td>\n",
       "      <td>positive</td>\n",
       "      <td>1</td>\n",
       "    </tr>\n",
       "    <tr>\n",
       "      <th>1</th>\n",
       "      <td>wonderful little production filming technique ...</td>\n",
       "      <td>positive</td>\n",
       "      <td>1</td>\n",
       "    </tr>\n",
       "    <tr>\n",
       "      <th>2</th>\n",
       "      <td>thought wonderful way spend time hot summer we...</td>\n",
       "      <td>positive</td>\n",
       "      <td>1</td>\n",
       "    </tr>\n",
       "    <tr>\n",
       "      <th>3</th>\n",
       "      <td>basically theres family little boy jake thinks...</td>\n",
       "      <td>negative</td>\n",
       "      <td>0</td>\n",
       "    </tr>\n",
       "    <tr>\n",
       "      <th>4</th>\n",
       "      <td>petter matteis love time money visually stunni...</td>\n",
       "      <td>positive</td>\n",
       "      <td>1</td>\n",
       "    </tr>\n",
       "    <tr>\n",
       "      <th>...</th>\n",
       "      <td>...</td>\n",
       "      <td>...</td>\n",
       "      <td>...</td>\n",
       "    </tr>\n",
       "    <tr>\n",
       "      <th>29994</th>\n",
       "      <td>enjoyed first toxic avenger sequel didnt work ...</td>\n",
       "      <td>negative</td>\n",
       "      <td>0</td>\n",
       "    </tr>\n",
       "    <tr>\n",
       "      <th>29995</th>\n",
       "      <td>new york love finally makes shores 10 short st...</td>\n",
       "      <td>positive</td>\n",
       "      <td>1</td>\n",
       "    </tr>\n",
       "    <tr>\n",
       "      <th>29996</th>\n",
       "      <td>movie makes wish imdb would let vote zero one ...</td>\n",
       "      <td>negative</td>\n",
       "      <td>0</td>\n",
       "    </tr>\n",
       "    <tr>\n",
       "      <th>29997</th>\n",
       "      <td>space camp unfortunate luck planned around tim...</td>\n",
       "      <td>negative</td>\n",
       "      <td>0</td>\n",
       "    </tr>\n",
       "    <tr>\n",
       "      <th>29998</th>\n",
       "      <td>octavio paz mexican poet writer diplomat recei...</td>\n",
       "      <td>positive</td>\n",
       "      <td>1</td>\n",
       "    </tr>\n",
       "  </tbody>\n",
       "</table>\n",
       "<p>29999 rows × 3 columns</p>\n",
       "</div>"
      ],
      "text/plain": [
       "                                                  review sentiment  label\n",
       "0      one reviewers mentioned watching 1 oz episode ...  positive      1\n",
       "1      wonderful little production filming technique ...  positive      1\n",
       "2      thought wonderful way spend time hot summer we...  positive      1\n",
       "3      basically theres family little boy jake thinks...  negative      0\n",
       "4      petter matteis love time money visually stunni...  positive      1\n",
       "...                                                  ...       ...    ...\n",
       "29994  enjoyed first toxic avenger sequel didnt work ...  negative      0\n",
       "29995  new york love finally makes shores 10 short st...  positive      1\n",
       "29996  movie makes wish imdb would let vote zero one ...  negative      0\n",
       "29997  space camp unfortunate luck planned around tim...  negative      0\n",
       "29998  octavio paz mexican poet writer diplomat recei...  positive      1\n",
       "\n",
       "[29999 rows x 3 columns]"
      ]
     },
     "execution_count": 13,
     "metadata": {},
     "output_type": "execute_result"
    }
   ],
   "source": [
    "df"
   ]
  },
  {
   "cell_type": "code",
   "execution_count": 14,
   "id": "93e3c773",
   "metadata": {},
   "outputs": [],
   "source": [
    "x_train,x_test,y_train,y_test=train_test_split(df['sentiment'],df['label'],test_size=0.2,random_state=42)"
   ]
  },
  {
   "cell_type": "code",
   "execution_count": 15,
   "id": "6cd5d5d0",
   "metadata": {},
   "outputs": [],
   "source": [
    "vector=TfidfVectorizer(max_features=5000)"
   ]
  },
  {
   "cell_type": "code",
   "execution_count": 16,
   "id": "ef5b57be",
   "metadata": {},
   "outputs": [],
   "source": [
    "x_train_vec=vector.fit_transform(x_train)"
   ]
  },
  {
   "cell_type": "code",
   "execution_count": 17,
   "id": "3b3c410d",
   "metadata": {},
   "outputs": [],
   "source": [
    "x_test_vec=vector.transform(x_test)"
   ]
  },
  {
   "cell_type": "code",
   "execution_count": 18,
   "id": "8f518b0a",
   "metadata": {},
   "outputs": [],
   "source": [
    "model=LogisticRegression(max_iter=1000)"
   ]
  },
  {
   "cell_type": "code",
   "execution_count": 19,
   "id": "5ea4a66e",
   "metadata": {},
   "outputs": [
    {
     "data": {
      "text/html": [
       "<style>#sk-container-id-1 {\n",
       "  /* Definition of color scheme common for light and dark mode */\n",
       "  --sklearn-color-text: #000;\n",
       "  --sklearn-color-text-muted: #666;\n",
       "  --sklearn-color-line: gray;\n",
       "  /* Definition of color scheme for unfitted estimators */\n",
       "  --sklearn-color-unfitted-level-0: #fff5e6;\n",
       "  --sklearn-color-unfitted-level-1: #f6e4d2;\n",
       "  --sklearn-color-unfitted-level-2: #ffe0b3;\n",
       "  --sklearn-color-unfitted-level-3: chocolate;\n",
       "  /* Definition of color scheme for fitted estimators */\n",
       "  --sklearn-color-fitted-level-0: #f0f8ff;\n",
       "  --sklearn-color-fitted-level-1: #d4ebff;\n",
       "  --sklearn-color-fitted-level-2: #b3dbfd;\n",
       "  --sklearn-color-fitted-level-3: cornflowerblue;\n",
       "\n",
       "  /* Specific color for light theme */\n",
       "  --sklearn-color-text-on-default-background: var(--sg-text-color, var(--theme-code-foreground, var(--jp-content-font-color1, black)));\n",
       "  --sklearn-color-background: var(--sg-background-color, var(--theme-background, var(--jp-layout-color0, white)));\n",
       "  --sklearn-color-border-box: var(--sg-text-color, var(--theme-code-foreground, var(--jp-content-font-color1, black)));\n",
       "  --sklearn-color-icon: #696969;\n",
       "\n",
       "  @media (prefers-color-scheme: dark) {\n",
       "    /* Redefinition of color scheme for dark theme */\n",
       "    --sklearn-color-text-on-default-background: var(--sg-text-color, var(--theme-code-foreground, var(--jp-content-font-color1, white)));\n",
       "    --sklearn-color-background: var(--sg-background-color, var(--theme-background, var(--jp-layout-color0, #111)));\n",
       "    --sklearn-color-border-box: var(--sg-text-color, var(--theme-code-foreground, var(--jp-content-font-color1, white)));\n",
       "    --sklearn-color-icon: #878787;\n",
       "  }\n",
       "}\n",
       "\n",
       "#sk-container-id-1 {\n",
       "  color: var(--sklearn-color-text);\n",
       "}\n",
       "\n",
       "#sk-container-id-1 pre {\n",
       "  padding: 0;\n",
       "}\n",
       "\n",
       "#sk-container-id-1 input.sk-hidden--visually {\n",
       "  border: 0;\n",
       "  clip: rect(1px 1px 1px 1px);\n",
       "  clip: rect(1px, 1px, 1px, 1px);\n",
       "  height: 1px;\n",
       "  margin: -1px;\n",
       "  overflow: hidden;\n",
       "  padding: 0;\n",
       "  position: absolute;\n",
       "  width: 1px;\n",
       "}\n",
       "\n",
       "#sk-container-id-1 div.sk-dashed-wrapped {\n",
       "  border: 1px dashed var(--sklearn-color-line);\n",
       "  margin: 0 0.4em 0.5em 0.4em;\n",
       "  box-sizing: border-box;\n",
       "  padding-bottom: 0.4em;\n",
       "  background-color: var(--sklearn-color-background);\n",
       "}\n",
       "\n",
       "#sk-container-id-1 div.sk-container {\n",
       "  /* jupyter's `normalize.less` sets `[hidden] { display: none; }`\n",
       "     but bootstrap.min.css set `[hidden] { display: none !important; }`\n",
       "     so we also need the `!important` here to be able to override the\n",
       "     default hidden behavior on the sphinx rendered scikit-learn.org.\n",
       "     See: https://github.com/scikit-learn/scikit-learn/issues/21755 */\n",
       "  display: inline-block !important;\n",
       "  position: relative;\n",
       "}\n",
       "\n",
       "#sk-container-id-1 div.sk-text-repr-fallback {\n",
       "  display: none;\n",
       "}\n",
       "\n",
       "div.sk-parallel-item,\n",
       "div.sk-serial,\n",
       "div.sk-item {\n",
       "  /* draw centered vertical line to link estimators */\n",
       "  background-image: linear-gradient(var(--sklearn-color-text-on-default-background), var(--sklearn-color-text-on-default-background));\n",
       "  background-size: 2px 100%;\n",
       "  background-repeat: no-repeat;\n",
       "  background-position: center center;\n",
       "}\n",
       "\n",
       "/* Parallel-specific style estimator block */\n",
       "\n",
       "#sk-container-id-1 div.sk-parallel-item::after {\n",
       "  content: \"\";\n",
       "  width: 100%;\n",
       "  border-bottom: 2px solid var(--sklearn-color-text-on-default-background);\n",
       "  flex-grow: 1;\n",
       "}\n",
       "\n",
       "#sk-container-id-1 div.sk-parallel {\n",
       "  display: flex;\n",
       "  align-items: stretch;\n",
       "  justify-content: center;\n",
       "  background-color: var(--sklearn-color-background);\n",
       "  position: relative;\n",
       "}\n",
       "\n",
       "#sk-container-id-1 div.sk-parallel-item {\n",
       "  display: flex;\n",
       "  flex-direction: column;\n",
       "}\n",
       "\n",
       "#sk-container-id-1 div.sk-parallel-item:first-child::after {\n",
       "  align-self: flex-end;\n",
       "  width: 50%;\n",
       "}\n",
       "\n",
       "#sk-container-id-1 div.sk-parallel-item:last-child::after {\n",
       "  align-self: flex-start;\n",
       "  width: 50%;\n",
       "}\n",
       "\n",
       "#sk-container-id-1 div.sk-parallel-item:only-child::after {\n",
       "  width: 0;\n",
       "}\n",
       "\n",
       "/* Serial-specific style estimator block */\n",
       "\n",
       "#sk-container-id-1 div.sk-serial {\n",
       "  display: flex;\n",
       "  flex-direction: column;\n",
       "  align-items: center;\n",
       "  background-color: var(--sklearn-color-background);\n",
       "  padding-right: 1em;\n",
       "  padding-left: 1em;\n",
       "}\n",
       "\n",
       "\n",
       "/* Toggleable style: style used for estimator/Pipeline/ColumnTransformer box that is\n",
       "clickable and can be expanded/collapsed.\n",
       "- Pipeline and ColumnTransformer use this feature and define the default style\n",
       "- Estimators will overwrite some part of the style using the `sk-estimator` class\n",
       "*/\n",
       "\n",
       "/* Pipeline and ColumnTransformer style (default) */\n",
       "\n",
       "#sk-container-id-1 div.sk-toggleable {\n",
       "  /* Default theme specific background. It is overwritten whether we have a\n",
       "  specific estimator or a Pipeline/ColumnTransformer */\n",
       "  background-color: var(--sklearn-color-background);\n",
       "}\n",
       "\n",
       "/* Toggleable label */\n",
       "#sk-container-id-1 label.sk-toggleable__label {\n",
       "  cursor: pointer;\n",
       "  display: flex;\n",
       "  width: 100%;\n",
       "  margin-bottom: 0;\n",
       "  padding: 0.5em;\n",
       "  box-sizing: border-box;\n",
       "  text-align: center;\n",
       "  align-items: start;\n",
       "  justify-content: space-between;\n",
       "  gap: 0.5em;\n",
       "}\n",
       "\n",
       "#sk-container-id-1 label.sk-toggleable__label .caption {\n",
       "  font-size: 0.6rem;\n",
       "  font-weight: lighter;\n",
       "  color: var(--sklearn-color-text-muted);\n",
       "}\n",
       "\n",
       "#sk-container-id-1 label.sk-toggleable__label-arrow:before {\n",
       "  /* Arrow on the left of the label */\n",
       "  content: \"▸\";\n",
       "  float: left;\n",
       "  margin-right: 0.25em;\n",
       "  color: var(--sklearn-color-icon);\n",
       "}\n",
       "\n",
       "#sk-container-id-1 label.sk-toggleable__label-arrow:hover:before {\n",
       "  color: var(--sklearn-color-text);\n",
       "}\n",
       "\n",
       "/* Toggleable content - dropdown */\n",
       "\n",
       "#sk-container-id-1 div.sk-toggleable__content {\n",
       "  max-height: 0;\n",
       "  max-width: 0;\n",
       "  overflow: hidden;\n",
       "  text-align: left;\n",
       "  /* unfitted */\n",
       "  background-color: var(--sklearn-color-unfitted-level-0);\n",
       "}\n",
       "\n",
       "#sk-container-id-1 div.sk-toggleable__content.fitted {\n",
       "  /* fitted */\n",
       "  background-color: var(--sklearn-color-fitted-level-0);\n",
       "}\n",
       "\n",
       "#sk-container-id-1 div.sk-toggleable__content pre {\n",
       "  margin: 0.2em;\n",
       "  border-radius: 0.25em;\n",
       "  color: var(--sklearn-color-text);\n",
       "  /* unfitted */\n",
       "  background-color: var(--sklearn-color-unfitted-level-0);\n",
       "}\n",
       "\n",
       "#sk-container-id-1 div.sk-toggleable__content.fitted pre {\n",
       "  /* unfitted */\n",
       "  background-color: var(--sklearn-color-fitted-level-0);\n",
       "}\n",
       "\n",
       "#sk-container-id-1 input.sk-toggleable__control:checked~div.sk-toggleable__content {\n",
       "  /* Expand drop-down */\n",
       "  max-height: 200px;\n",
       "  max-width: 100%;\n",
       "  overflow: auto;\n",
       "}\n",
       "\n",
       "#sk-container-id-1 input.sk-toggleable__control:checked~label.sk-toggleable__label-arrow:before {\n",
       "  content: \"▾\";\n",
       "}\n",
       "\n",
       "/* Pipeline/ColumnTransformer-specific style */\n",
       "\n",
       "#sk-container-id-1 div.sk-label input.sk-toggleable__control:checked~label.sk-toggleable__label {\n",
       "  color: var(--sklearn-color-text);\n",
       "  background-color: var(--sklearn-color-unfitted-level-2);\n",
       "}\n",
       "\n",
       "#sk-container-id-1 div.sk-label.fitted input.sk-toggleable__control:checked~label.sk-toggleable__label {\n",
       "  background-color: var(--sklearn-color-fitted-level-2);\n",
       "}\n",
       "\n",
       "/* Estimator-specific style */\n",
       "\n",
       "/* Colorize estimator box */\n",
       "#sk-container-id-1 div.sk-estimator input.sk-toggleable__control:checked~label.sk-toggleable__label {\n",
       "  /* unfitted */\n",
       "  background-color: var(--sklearn-color-unfitted-level-2);\n",
       "}\n",
       "\n",
       "#sk-container-id-1 div.sk-estimator.fitted input.sk-toggleable__control:checked~label.sk-toggleable__label {\n",
       "  /* fitted */\n",
       "  background-color: var(--sklearn-color-fitted-level-2);\n",
       "}\n",
       "\n",
       "#sk-container-id-1 div.sk-label label.sk-toggleable__label,\n",
       "#sk-container-id-1 div.sk-label label {\n",
       "  /* The background is the default theme color */\n",
       "  color: var(--sklearn-color-text-on-default-background);\n",
       "}\n",
       "\n",
       "/* On hover, darken the color of the background */\n",
       "#sk-container-id-1 div.sk-label:hover label.sk-toggleable__label {\n",
       "  color: var(--sklearn-color-text);\n",
       "  background-color: var(--sklearn-color-unfitted-level-2);\n",
       "}\n",
       "\n",
       "/* Label box, darken color on hover, fitted */\n",
       "#sk-container-id-1 div.sk-label.fitted:hover label.sk-toggleable__label.fitted {\n",
       "  color: var(--sklearn-color-text);\n",
       "  background-color: var(--sklearn-color-fitted-level-2);\n",
       "}\n",
       "\n",
       "/* Estimator label */\n",
       "\n",
       "#sk-container-id-1 div.sk-label label {\n",
       "  font-family: monospace;\n",
       "  font-weight: bold;\n",
       "  display: inline-block;\n",
       "  line-height: 1.2em;\n",
       "}\n",
       "\n",
       "#sk-container-id-1 div.sk-label-container {\n",
       "  text-align: center;\n",
       "}\n",
       "\n",
       "/* Estimator-specific */\n",
       "#sk-container-id-1 div.sk-estimator {\n",
       "  font-family: monospace;\n",
       "  border: 1px dotted var(--sklearn-color-border-box);\n",
       "  border-radius: 0.25em;\n",
       "  box-sizing: border-box;\n",
       "  margin-bottom: 0.5em;\n",
       "  /* unfitted */\n",
       "  background-color: var(--sklearn-color-unfitted-level-0);\n",
       "}\n",
       "\n",
       "#sk-container-id-1 div.sk-estimator.fitted {\n",
       "  /* fitted */\n",
       "  background-color: var(--sklearn-color-fitted-level-0);\n",
       "}\n",
       "\n",
       "/* on hover */\n",
       "#sk-container-id-1 div.sk-estimator:hover {\n",
       "  /* unfitted */\n",
       "  background-color: var(--sklearn-color-unfitted-level-2);\n",
       "}\n",
       "\n",
       "#sk-container-id-1 div.sk-estimator.fitted:hover {\n",
       "  /* fitted */\n",
       "  background-color: var(--sklearn-color-fitted-level-2);\n",
       "}\n",
       "\n",
       "/* Specification for estimator info (e.g. \"i\" and \"?\") */\n",
       "\n",
       "/* Common style for \"i\" and \"?\" */\n",
       "\n",
       ".sk-estimator-doc-link,\n",
       "a:link.sk-estimator-doc-link,\n",
       "a:visited.sk-estimator-doc-link {\n",
       "  float: right;\n",
       "  font-size: smaller;\n",
       "  line-height: 1em;\n",
       "  font-family: monospace;\n",
       "  background-color: var(--sklearn-color-background);\n",
       "  border-radius: 1em;\n",
       "  height: 1em;\n",
       "  width: 1em;\n",
       "  text-decoration: none !important;\n",
       "  margin-left: 0.5em;\n",
       "  text-align: center;\n",
       "  /* unfitted */\n",
       "  border: var(--sklearn-color-unfitted-level-1) 1pt solid;\n",
       "  color: var(--sklearn-color-unfitted-level-1);\n",
       "}\n",
       "\n",
       ".sk-estimator-doc-link.fitted,\n",
       "a:link.sk-estimator-doc-link.fitted,\n",
       "a:visited.sk-estimator-doc-link.fitted {\n",
       "  /* fitted */\n",
       "  border: var(--sklearn-color-fitted-level-1) 1pt solid;\n",
       "  color: var(--sklearn-color-fitted-level-1);\n",
       "}\n",
       "\n",
       "/* On hover */\n",
       "div.sk-estimator:hover .sk-estimator-doc-link:hover,\n",
       ".sk-estimator-doc-link:hover,\n",
       "div.sk-label-container:hover .sk-estimator-doc-link:hover,\n",
       ".sk-estimator-doc-link:hover {\n",
       "  /* unfitted */\n",
       "  background-color: var(--sklearn-color-unfitted-level-3);\n",
       "  color: var(--sklearn-color-background);\n",
       "  text-decoration: none;\n",
       "}\n",
       "\n",
       "div.sk-estimator.fitted:hover .sk-estimator-doc-link.fitted:hover,\n",
       ".sk-estimator-doc-link.fitted:hover,\n",
       "div.sk-label-container:hover .sk-estimator-doc-link.fitted:hover,\n",
       ".sk-estimator-doc-link.fitted:hover {\n",
       "  /* fitted */\n",
       "  background-color: var(--sklearn-color-fitted-level-3);\n",
       "  color: var(--sklearn-color-background);\n",
       "  text-decoration: none;\n",
       "}\n",
       "\n",
       "/* Span, style for the box shown on hovering the info icon */\n",
       ".sk-estimator-doc-link span {\n",
       "  display: none;\n",
       "  z-index: 9999;\n",
       "  position: relative;\n",
       "  font-weight: normal;\n",
       "  right: .2ex;\n",
       "  padding: .5ex;\n",
       "  margin: .5ex;\n",
       "  width: min-content;\n",
       "  min-width: 20ex;\n",
       "  max-width: 50ex;\n",
       "  color: var(--sklearn-color-text);\n",
       "  box-shadow: 2pt 2pt 4pt #999;\n",
       "  /* unfitted */\n",
       "  background: var(--sklearn-color-unfitted-level-0);\n",
       "  border: .5pt solid var(--sklearn-color-unfitted-level-3);\n",
       "}\n",
       "\n",
       ".sk-estimator-doc-link.fitted span {\n",
       "  /* fitted */\n",
       "  background: var(--sklearn-color-fitted-level-0);\n",
       "  border: var(--sklearn-color-fitted-level-3);\n",
       "}\n",
       "\n",
       ".sk-estimator-doc-link:hover span {\n",
       "  display: block;\n",
       "}\n",
       "\n",
       "/* \"?\"-specific style due to the `<a>` HTML tag */\n",
       "\n",
       "#sk-container-id-1 a.estimator_doc_link {\n",
       "  float: right;\n",
       "  font-size: 1rem;\n",
       "  line-height: 1em;\n",
       "  font-family: monospace;\n",
       "  background-color: var(--sklearn-color-background);\n",
       "  border-radius: 1rem;\n",
       "  height: 1rem;\n",
       "  width: 1rem;\n",
       "  text-decoration: none;\n",
       "  /* unfitted */\n",
       "  color: var(--sklearn-color-unfitted-level-1);\n",
       "  border: var(--sklearn-color-unfitted-level-1) 1pt solid;\n",
       "}\n",
       "\n",
       "#sk-container-id-1 a.estimator_doc_link.fitted {\n",
       "  /* fitted */\n",
       "  border: var(--sklearn-color-fitted-level-1) 1pt solid;\n",
       "  color: var(--sklearn-color-fitted-level-1);\n",
       "}\n",
       "\n",
       "/* On hover */\n",
       "#sk-container-id-1 a.estimator_doc_link:hover {\n",
       "  /* unfitted */\n",
       "  background-color: var(--sklearn-color-unfitted-level-3);\n",
       "  color: var(--sklearn-color-background);\n",
       "  text-decoration: none;\n",
       "}\n",
       "\n",
       "#sk-container-id-1 a.estimator_doc_link.fitted:hover {\n",
       "  /* fitted */\n",
       "  background-color: var(--sklearn-color-fitted-level-3);\n",
       "}\n",
       "</style><div id=\"sk-container-id-1\" class=\"sk-top-container\"><div class=\"sk-text-repr-fallback\"><pre>LogisticRegression(max_iter=1000)</pre><b>In a Jupyter environment, please rerun this cell to show the HTML representation or trust the notebook. <br />On GitHub, the HTML representation is unable to render, please try loading this page with nbviewer.org.</b></div><div class=\"sk-container\" hidden><div class=\"sk-item\"><div class=\"sk-estimator fitted sk-toggleable\"><input class=\"sk-toggleable__control sk-hidden--visually\" id=\"sk-estimator-id-1\" type=\"checkbox\" checked><label for=\"sk-estimator-id-1\" class=\"sk-toggleable__label fitted sk-toggleable__label-arrow\"><div><div>LogisticRegression</div></div><div><a class=\"sk-estimator-doc-link fitted\" rel=\"noreferrer\" target=\"_blank\" href=\"https://scikit-learn.org/1.6/modules/generated/sklearn.linear_model.LogisticRegression.html\">?<span>Documentation for LogisticRegression</span></a><span class=\"sk-estimator-doc-link fitted\">i<span>Fitted</span></span></div></label><div class=\"sk-toggleable__content fitted\"><pre>LogisticRegression(max_iter=1000)</pre></div> </div></div></div></div>"
      ],
      "text/plain": [
       "LogisticRegression(max_iter=1000)"
      ]
     },
     "execution_count": 19,
     "metadata": {},
     "output_type": "execute_result"
    }
   ],
   "source": [
    "model.fit(x_train_vec,y_train)"
   ]
  },
  {
   "cell_type": "code",
   "execution_count": 20,
   "id": "016577e0",
   "metadata": {},
   "outputs": [
    {
     "data": {
      "text/plain": [
       "array([1, 0, 0, ..., 0, 1, 1], dtype=int64)"
      ]
     },
     "execution_count": 20,
     "metadata": {},
     "output_type": "execute_result"
    }
   ],
   "source": [
    "y_pred=model.predict(x_test_vec)\n",
    "y_pred"
   ]
  },
  {
   "cell_type": "code",
   "execution_count": 21,
   "id": "f287b4ec",
   "metadata": {},
   "outputs": [
    {
     "data": {
      "text/plain": [
       "array([9.99369509e-01, 6.75513815e-04, 6.75513815e-04, ...,\n",
       "       6.75513815e-04, 9.99369509e-01, 9.99369509e-01])"
      ]
     },
     "execution_count": 21,
     "metadata": {},
     "output_type": "execute_result"
    }
   ],
   "source": [
    "y_prob=model.predict_proba(x_test_vec)[:,1]\n",
    "y_prob"
   ]
  },
  {
   "cell_type": "code",
   "execution_count": 22,
   "id": "f3da5da7",
   "metadata": {},
   "outputs": [
    {
     "data": {
      "text/plain": [
       "'              precision    recall  f1-score   support\\n\\n           0       1.00      1.00      1.00      3025\\n           1       1.00      1.00      1.00      2975\\n\\n    accuracy                           1.00      6000\\n   macro avg       1.00      1.00      1.00      6000\\nweighted avg       1.00      1.00      1.00      6000\\n'"
      ]
     },
     "execution_count": 22,
     "metadata": {},
     "output_type": "execute_result"
    }
   ],
   "source": [
    "cr=classification_report(y_test,y_pred)\n",
    "cr"
   ]
  },
  {
   "cell_type": "code",
   "execution_count": 23,
   "id": "3fa5d8fc",
   "metadata": {},
   "outputs": [
    {
     "data": {
      "text/plain": [
       "1.0"
      ]
     },
     "execution_count": 23,
     "metadata": {},
     "output_type": "execute_result"
    }
   ],
   "source": [
    "auc=roc_auc_score(y_test,y_prob)\n",
    "auc"
   ]
  },
  {
   "cell_type": "code",
   "execution_count": 24,
   "id": "3d1eff14",
   "metadata": {},
   "outputs": [
    {
     "data": {
      "image/png": "[encoded data removed]",
      "text/plain": [
       "<Figure size 800x600 with 1 Axes>"
      ]
     },
     "metadata": {},
     "output_type": "display_data"
    }
   ],
   "source": [
    "fpr,tpr,_=roc_curve(y_test,y_prob)\n",
    "plt.figure(figsize=(8,6))\n",
    "plt.plot(fpr,tpr,label=f'AUC={auc:.2f}',color='blue')\n",
    "plt.plot([0,1],[1,0],'k--')\n",
    "plt.xlabel('False Positive Rate')\n",
    "plt.ylabel('True Positive Rate')\n",
    "plt.title('ROC Curve')\n",
    "plt.legend()\n",
    "plt.grid()\n",
    "plt.show()"
   ]
  },
  {
   "cell_type": "code",
   "execution_count": 25,
   "id": "4d60ee23",
   "metadata": {},
   "outputs": [
    {
     "data": {
      "image/png": "[encoded data removed]",
      "text/plain": [
       "<Figure size 640x480 with 2 Axes>"
      ]
     },
     "metadata": {},
     "output_type": "display_data"
    }
   ],
   "source": [
    "cm = confusion_matrix(y_test, y_pred)\n",
    "sns.heatmap(cm, annot=True, fmt='d', cmap='Blues', xticklabels=['Negative', 'Positive'], yticklabels=['Negative', 'Positive'])\n",
    "plt.xlabel('Predicted')\n",
    "plt.ylabel('Actual')\n",
    "plt.title('Confusion Matrix')\n",
    "plt.show()"
   ]
  },
  {
   "cell_type": "code",
   "execution_count": 26,
   "id": "5410bbba",
   "metadata": {},
   "outputs": [],
   "source": [
    "# Topic Modeling using LDA\n",
    "import pandas as pd\n",
    "import numpy as np\n",
    "import matplotlib.pyplot as plt\n",
    "import seaborn as sns\n",
    "import nltk\n",
    "import string"
   ]
  },
  {
   "cell_type": "code",
   "execution_count": 27,
   "id": "869a5b69",
   "metadata": {},
   "outputs": [
    {
     "data": {
      "text/html": [
       "<div>\n",
       "<style scoped>\n",
       "    .dataframe tbody tr th:only-of-type {\n",
       "        vertical-align: middle;\n",
       "    }\n",
       "\n",
       "    .dataframe tbody tr th {\n",
       "        vertical-align: top;\n",
       "    }\n",
       "\n",
       "    .dataframe thead th {\n",
       "        text-align: right;\n",
       "    }\n",
       "</style>\n",
       "<table border=\"1\" class=\"dataframe\">\n",
       "  <thead>\n",
       "    <tr style=\"text-align: right;\">\n",
       "      <th></th>\n",
       "      <th>text</th>\n",
       "    </tr>\n",
       "  </thead>\n",
       "  <tbody>\n",
       "    <tr>\n",
       "      <th>0</th>\n",
       "      <td>Apple is planning to release a new iPhone this...</td>\n",
       "    </tr>\n",
       "    <tr>\n",
       "      <th>1</th>\n",
       "      <td>The government announced new policies on healt...</td>\n",
       "    </tr>\n",
       "    <tr>\n",
       "      <th>2</th>\n",
       "      <td>Scientists discovered a new planet in a farawa...</td>\n",
       "    </tr>\n",
       "    <tr>\n",
       "      <th>3</th>\n",
       "      <td>Google and Microsoft are competing in the AI r...</td>\n",
       "    </tr>\n",
       "    <tr>\n",
       "      <th>4</th>\n",
       "      <td>NASA is preparing a new mission to explore the...</td>\n",
       "    </tr>\n",
       "    <tr>\n",
       "      <th>5</th>\n",
       "      <td>Stock markets fell after economic uncertainty.</td>\n",
       "    </tr>\n",
       "    <tr>\n",
       "      <th>6</th>\n",
       "      <td>OpenAI released a powerful new language model.</td>\n",
       "    </tr>\n",
       "    <tr>\n",
       "      <th>7</th>\n",
       "      <td>Elon Musk announced plans for a new Tesla fact...</td>\n",
       "    </tr>\n",
       "    <tr>\n",
       "      <th>8</th>\n",
       "      <td>Education technology is evolving with AI-based...</td>\n",
       "    </tr>\n",
       "    <tr>\n",
       "      <th>9</th>\n",
       "      <td>Climate change remains a major issue for world...</td>\n",
       "    </tr>\n",
       "  </tbody>\n",
       "</table>\n",
       "</div>"
      ],
      "text/plain": [
       "                                                text\n",
       "0  Apple is planning to release a new iPhone this...\n",
       "1  The government announced new policies on healt...\n",
       "2  Scientists discovered a new planet in a farawa...\n",
       "3  Google and Microsoft are competing in the AI r...\n",
       "4  NASA is preparing a new mission to explore the...\n",
       "5     Stock markets fell after economic uncertainty.\n",
       "6     OpenAI released a powerful new language model.\n",
       "7  Elon Musk announced plans for a new Tesla fact...\n",
       "8  Education technology is evolving with AI-based...\n",
       "9  Climate change remains a major issue for world..."
      ]
     },
     "execution_count": 27,
     "metadata": {},
     "output_type": "execute_result"
    }
   ],
   "source": [
    "data = {\n",
    "    \"text\": [\n",
    "        \"Apple is planning to release a new iPhone this fall.\",\n",
    "        \"The government announced new policies on healthcare and education.\",\n",
    "        \"Scientists discovered a new planet in a faraway galaxy.\",\n",
    "        \"Google and Microsoft are competing in the AI race.\",\n",
    "        \"NASA is preparing a new mission to explore the Moon.\",\n",
    "        \"Stock markets fell after economic uncertainty.\",\n",
    "        \"OpenAI released a powerful new language model.\",\n",
    "        \"Elon Musk announced plans for a new Tesla factory in India.\",\n",
    "        \"Education technology is evolving with AI-based personalized learning.\",\n",
    "        \"Climate change remains a major issue for world leaders.\"\n",
    "    ]\n",
    "}\n",
    "df = pd.DataFrame(data)\n",
    "df"
   ]
  },
  {
   "cell_type": "code",
   "execution_count": 28,
   "id": "a4458c43",
   "metadata": {},
   "outputs": [],
   "source": [
    "from sklearn.feature_extraction.text import CountVectorizer\n",
    "from nltk.corpus import stopwords\n",
    "from sklearn.decomposition import LatentDirichletAllocation"
   ]
  },
  {
   "cell_type": "code",
   "execution_count": 29,
   "id": "50a18549",
   "metadata": {},
   "outputs": [
    {
     "name": "stderr",
     "output_type": "stream",
     "text": [
      "[nltk_data] Downloading package stopwords to\n",
      "[nltk_data]     C:\\Users\\91805\\AppData\\Roaming\\nltk_data...\n",
      "[nltk_data]   Package stopwords is already up-to-date!\n"
     ]
    }
   ],
   "source": [
    "nltk.download('stopwords')\n",
    "stop_words=set(stopwords.words('english'))"
   ]
  },
  {
   "cell_type": "code",
   "execution_count": 30,
   "id": "9bd939b5",
   "metadata": {},
   "outputs": [],
   "source": [
    "df['text']=df['text'].str.lower()"
   ]
  },
  {
   "cell_type": "code",
   "execution_count": 31,
   "id": "470ef1f0",
   "metadata": {},
   "outputs": [
    {
     "data": {
      "text/html": [
       "<div>\n",
       "<style scoped>\n",
       "    .dataframe tbody tr th:only-of-type {\n",
       "        vertical-align: middle;\n",
       "    }\n",
       "\n",
       "    .dataframe tbody tr th {\n",
       "        vertical-align: top;\n",
       "    }\n",
       "\n",
       "    .dataframe thead th {\n",
       "        text-align: right;\n",
       "    }\n",
       "</style>\n",
       "<table border=\"1\" class=\"dataframe\">\n",
       "  <thead>\n",
       "    <tr style=\"text-align: right;\">\n",
       "      <th></th>\n",
       "      <th>text</th>\n",
       "    </tr>\n",
       "  </thead>\n",
       "  <tbody>\n",
       "    <tr>\n",
       "      <th>0</th>\n",
       "      <td>apple is planning to release a new iphone this...</td>\n",
       "    </tr>\n",
       "    <tr>\n",
       "      <th>1</th>\n",
       "      <td>the government announced new policies on healt...</td>\n",
       "    </tr>\n",
       "    <tr>\n",
       "      <th>2</th>\n",
       "      <td>scientists discovered a new planet in a farawa...</td>\n",
       "    </tr>\n",
       "    <tr>\n",
       "      <th>3</th>\n",
       "      <td>google and microsoft are competing in the ai r...</td>\n",
       "    </tr>\n",
       "    <tr>\n",
       "      <th>4</th>\n",
       "      <td>nasa is preparing a new mission to explore the...</td>\n",
       "    </tr>\n",
       "    <tr>\n",
       "      <th>5</th>\n",
       "      <td>stock markets fell after economic uncertainty.</td>\n",
       "    </tr>\n",
       "    <tr>\n",
       "      <th>6</th>\n",
       "      <td>openai released a powerful new language model.</td>\n",
       "    </tr>\n",
       "    <tr>\n",
       "      <th>7</th>\n",
       "      <td>elon musk announced plans for a new tesla fact...</td>\n",
       "    </tr>\n",
       "    <tr>\n",
       "      <th>8</th>\n",
       "      <td>education technology is evolving with ai-based...</td>\n",
       "    </tr>\n",
       "    <tr>\n",
       "      <th>9</th>\n",
       "      <td>climate change remains a major issue for world...</td>\n",
       "    </tr>\n",
       "  </tbody>\n",
       "</table>\n",
       "</div>"
      ],
      "text/plain": [
       "                                                text\n",
       "0  apple is planning to release a new iphone this...\n",
       "1  the government announced new policies on healt...\n",
       "2  scientists discovered a new planet in a farawa...\n",
       "3  google and microsoft are competing in the ai r...\n",
       "4  nasa is preparing a new mission to explore the...\n",
       "5     stock markets fell after economic uncertainty.\n",
       "6     openai released a powerful new language model.\n",
       "7  elon musk announced plans for a new tesla fact...\n",
       "8  education technology is evolving with ai-based...\n",
       "9  climate change remains a major issue for world..."
      ]
     },
     "execution_count": 31,
     "metadata": {},
     "output_type": "execute_result"
    }
   ],
   "source": [
    "df"
   ]
  },
  {
   "cell_type": "code",
   "execution_count": 32,
   "id": "a6a4a0a9",
   "metadata": {},
   "outputs": [],
   "source": [
    "import re\n",
    "def remove_html_tag(text):\n",
    "    p=re.compile('<.*?>')\n",
    "    return p.sub('',text)"
   ]
  },
  {
   "cell_type": "code",
   "execution_count": 33,
   "id": "63724e1b",
   "metadata": {},
   "outputs": [],
   "source": [
    "df['text']=df['text'].apply(remove_html_tag)"
   ]
  },
  {
   "cell_type": "code",
   "execution_count": 34,
   "id": "b9aeaec7",
   "metadata": {},
   "outputs": [
    {
     "data": {
      "text/html": [
       "<div>\n",
       "<style scoped>\n",
       "    .dataframe tbody tr th:only-of-type {\n",
       "        vertical-align: middle;\n",
       "    }\n",
       "\n",
       "    .dataframe tbody tr th {\n",
       "        vertical-align: top;\n",
       "    }\n",
       "\n",
       "    .dataframe thead th {\n",
       "        text-align: right;\n",
       "    }\n",
       "</style>\n",
       "<table border=\"1\" class=\"dataframe\">\n",
       "  <thead>\n",
       "    <tr style=\"text-align: right;\">\n",
       "      <th></th>\n",
       "      <th>text</th>\n",
       "    </tr>\n",
       "  </thead>\n",
       "  <tbody>\n",
       "    <tr>\n",
       "      <th>0</th>\n",
       "      <td>apple is planning to release a new iphone this...</td>\n",
       "    </tr>\n",
       "    <tr>\n",
       "      <th>1</th>\n",
       "      <td>the government announced new policies on healt...</td>\n",
       "    </tr>\n",
       "    <tr>\n",
       "      <th>2</th>\n",
       "      <td>scientists discovered a new planet in a farawa...</td>\n",
       "    </tr>\n",
       "    <tr>\n",
       "      <th>3</th>\n",
       "      <td>google and microsoft are competing in the ai r...</td>\n",
       "    </tr>\n",
       "    <tr>\n",
       "      <th>4</th>\n",
       "      <td>nasa is preparing a new mission to explore the...</td>\n",
       "    </tr>\n",
       "    <tr>\n",
       "      <th>5</th>\n",
       "      <td>stock markets fell after economic uncertainty.</td>\n",
       "    </tr>\n",
       "    <tr>\n",
       "      <th>6</th>\n",
       "      <td>openai released a powerful new language model.</td>\n",
       "    </tr>\n",
       "    <tr>\n",
       "      <th>7</th>\n",
       "      <td>elon musk announced plans for a new tesla fact...</td>\n",
       "    </tr>\n",
       "    <tr>\n",
       "      <th>8</th>\n",
       "      <td>education technology is evolving with ai-based...</td>\n",
       "    </tr>\n",
       "    <tr>\n",
       "      <th>9</th>\n",
       "      <td>climate change remains a major issue for world...</td>\n",
       "    </tr>\n",
       "  </tbody>\n",
       "</table>\n",
       "</div>"
      ],
      "text/plain": [
       "                                                text\n",
       "0  apple is planning to release a new iphone this...\n",
       "1  the government announced new policies on healt...\n",
       "2  scientists discovered a new planet in a farawa...\n",
       "3  google and microsoft are competing in the ai r...\n",
       "4  nasa is preparing a new mission to explore the...\n",
       "5     stock markets fell after economic uncertainty.\n",
       "6     openai released a powerful new language model.\n",
       "7  elon musk announced plans for a new tesla fact...\n",
       "8  education technology is evolving with ai-based...\n",
       "9  climate change remains a major issue for world..."
      ]
     },
     "execution_count": 34,
     "metadata": {},
     "output_type": "execute_result"
    }
   ],
   "source": [
    "df"
   ]
  },
  {
   "cell_type": "code",
   "execution_count": 35,
   "id": "54d3a475",
   "metadata": {},
   "outputs": [
    {
     "data": {
      "text/plain": [
       "'!\"#$%&\\'()*+,-./:;<=>?@[\\\\]^_`{|}~'"
      ]
     },
     "execution_count": 35,
     "metadata": {},
     "output_type": "execute_result"
    }
   ],
   "source": [
    "exclude=string.punctuation\n",
    "exclude"
   ]
  },
  {
   "cell_type": "code",
   "execution_count": 36,
   "id": "c10c5489",
   "metadata": {},
   "outputs": [],
   "source": [
    "def remove_punc(text):\n",
    "    for char in exclude:\n",
    "        text=text.replace(char,'')\n",
    "    return text"
   ]
  },
  {
   "cell_type": "code",
   "execution_count": 37,
   "id": "2c3ed663",
   "metadata": {},
   "outputs": [],
   "source": [
    "df['text']=df['text'].apply(remove_punc)"
   ]
  },
  {
   "cell_type": "code",
   "execution_count": 38,
   "id": "82a4dacb",
   "metadata": {},
   "outputs": [
    {
     "data": {
      "text/html": [
       "<div>\n",
       "<style scoped>\n",
       "    .dataframe tbody tr th:only-of-type {\n",
       "        vertical-align: middle;\n",
       "    }\n",
       "\n",
       "    .dataframe tbody tr th {\n",
       "        vertical-align: top;\n",
       "    }\n",
       "\n",
       "    .dataframe thead th {\n",
       "        text-align: right;\n",
       "    }\n",
       "</style>\n",
       "<table border=\"1\" class=\"dataframe\">\n",
       "  <thead>\n",
       "    <tr style=\"text-align: right;\">\n",
       "      <th></th>\n",
       "      <th>text</th>\n",
       "    </tr>\n",
       "  </thead>\n",
       "  <tbody>\n",
       "    <tr>\n",
       "      <th>0</th>\n",
       "      <td>apple is planning to release a new iphone this...</td>\n",
       "    </tr>\n",
       "    <tr>\n",
       "      <th>1</th>\n",
       "      <td>the government announced new policies on healt...</td>\n",
       "    </tr>\n",
       "    <tr>\n",
       "      <th>2</th>\n",
       "      <td>scientists discovered a new planet in a farawa...</td>\n",
       "    </tr>\n",
       "    <tr>\n",
       "      <th>3</th>\n",
       "      <td>google and microsoft are competing in the ai race</td>\n",
       "    </tr>\n",
       "    <tr>\n",
       "      <th>4</th>\n",
       "      <td>nasa is preparing a new mission to explore the...</td>\n",
       "    </tr>\n",
       "    <tr>\n",
       "      <th>5</th>\n",
       "      <td>stock markets fell after economic uncertainty</td>\n",
       "    </tr>\n",
       "    <tr>\n",
       "      <th>6</th>\n",
       "      <td>openai released a powerful new language model</td>\n",
       "    </tr>\n",
       "    <tr>\n",
       "      <th>7</th>\n",
       "      <td>elon musk announced plans for a new tesla fact...</td>\n",
       "    </tr>\n",
       "    <tr>\n",
       "      <th>8</th>\n",
       "      <td>education technology is evolving with aibased ...</td>\n",
       "    </tr>\n",
       "    <tr>\n",
       "      <th>9</th>\n",
       "      <td>climate change remains a major issue for world...</td>\n",
       "    </tr>\n",
       "  </tbody>\n",
       "</table>\n",
       "</div>"
      ],
      "text/plain": [
       "                                                text\n",
       "0  apple is planning to release a new iphone this...\n",
       "1  the government announced new policies on healt...\n",
       "2  scientists discovered a new planet in a farawa...\n",
       "3  google and microsoft are competing in the ai race\n",
       "4  nasa is preparing a new mission to explore the...\n",
       "5      stock markets fell after economic uncertainty\n",
       "6      openai released a powerful new language model\n",
       "7  elon musk announced plans for a new tesla fact...\n",
       "8  education technology is evolving with aibased ...\n",
       "9  climate change remains a major issue for world..."
      ]
     },
     "execution_count": 38,
     "metadata": {},
     "output_type": "execute_result"
    }
   ],
   "source": [
    "df"
   ]
  },
  {
   "cell_type": "code",
   "execution_count": 39,
   "id": "bdc2abde",
   "metadata": {},
   "outputs": [],
   "source": [
    "def remove_stopwords(text):\n",
    "    result=[]\n",
    "    for word in text.split():\n",
    "        if word in stopwords.words('english'):\n",
    "            result.append('')\n",
    "        else:\n",
    "            result.append(word)\n",
    "    x=result[:]\n",
    "    result.clear()\n",
    "    return ''.join(x)"
   ]
  },
  {
   "cell_type": "code",
   "execution_count": 40,
   "id": "af0729ea",
   "metadata": {},
   "outputs": [],
   "source": [
    "df['text']=df['text'].apply(remove_stopwords)"
   ]
  },
  {
   "cell_type": "code",
   "execution_count": 41,
   "id": "580de408",
   "metadata": {},
   "outputs": [
    {
     "data": {
      "text/html": [
       "<div>\n",
       "<style scoped>\n",
       "    .dataframe tbody tr th:only-of-type {\n",
       "        vertical-align: middle;\n",
       "    }\n",
       "\n",
       "    .dataframe tbody tr th {\n",
       "        vertical-align: top;\n",
       "    }\n",
       "\n",
       "    .dataframe thead th {\n",
       "        text-align: right;\n",
       "    }\n",
       "</style>\n",
       "<table border=\"1\" class=\"dataframe\">\n",
       "  <thead>\n",
       "    <tr style=\"text-align: right;\">\n",
       "      <th></th>\n",
       "      <th>text</th>\n",
       "    </tr>\n",
       "  </thead>\n",
       "  <tbody>\n",
       "    <tr>\n",
       "      <th>0</th>\n",
       "      <td>appleplanningreleasenewiphonefall</td>\n",
       "    </tr>\n",
       "    <tr>\n",
       "      <th>1</th>\n",
       "      <td>governmentannouncednewpolicieshealthcareeducation</td>\n",
       "    </tr>\n",
       "    <tr>\n",
       "      <th>2</th>\n",
       "      <td>scientistsdiscoverednewplanetfarawaygalaxy</td>\n",
       "    </tr>\n",
       "    <tr>\n",
       "      <th>3</th>\n",
       "      <td>googlemicrosoftcompetingairace</td>\n",
       "    </tr>\n",
       "    <tr>\n",
       "      <th>4</th>\n",
       "      <td>nasapreparingnewmissionexploremoon</td>\n",
       "    </tr>\n",
       "    <tr>\n",
       "      <th>5</th>\n",
       "      <td>stockmarketsfelleconomicuncertainty</td>\n",
       "    </tr>\n",
       "    <tr>\n",
       "      <th>6</th>\n",
       "      <td>openaireleasedpowerfulnewlanguagemodel</td>\n",
       "    </tr>\n",
       "    <tr>\n",
       "      <th>7</th>\n",
       "      <td>elonmuskannouncedplansnewteslafactoryindia</td>\n",
       "    </tr>\n",
       "    <tr>\n",
       "      <th>8</th>\n",
       "      <td>educationtechnologyevolvingaibasedpersonalized...</td>\n",
       "    </tr>\n",
       "    <tr>\n",
       "      <th>9</th>\n",
       "      <td>climatechangeremainsmajorissueworldleaders</td>\n",
       "    </tr>\n",
       "  </tbody>\n",
       "</table>\n",
       "</div>"
      ],
      "text/plain": [
       "                                                text\n",
       "0                  appleplanningreleasenewiphonefall\n",
       "1  governmentannouncednewpolicieshealthcareeducation\n",
       "2         scientistsdiscoverednewplanetfarawaygalaxy\n",
       "3                     googlemicrosoftcompetingairace\n",
       "4                 nasapreparingnewmissionexploremoon\n",
       "5                stockmarketsfelleconomicuncertainty\n",
       "6             openaireleasedpowerfulnewlanguagemodel\n",
       "7         elonmuskannouncedplansnewteslafactoryindia\n",
       "8  educationtechnologyevolvingaibasedpersonalized...\n",
       "9         climatechangeremainsmajorissueworldleaders"
      ]
     },
     "execution_count": 41,
     "metadata": {},
     "output_type": "execute_result"
    }
   ],
   "source": [
    "df"
   ]
  },
  {
   "cell_type": "code",
   "execution_count": 42,
   "id": "011bb141",
   "metadata": {},
   "outputs": [],
   "source": [
    "vector=CountVectorizer(max_df=0.9,min_df=1,stop_words='english')\n",
    "x=vector.fit_transform(df['text'])"
   ]
  },
  {
   "cell_type": "code",
   "execution_count": 43,
   "id": "95d8ad56",
   "metadata": {},
   "outputs": [],
   "source": [
    "lda=LatentDirichletAllocation(n_components=3,random_state=42)"
   ]
  },
  {
   "cell_type": "code",
   "execution_count": 44,
   "id": "cc709cf8",
   "metadata": {},
   "outputs": [
    {
     "data": {
      "text/html": [
       "<style>#sk-container-id-2 {\n",
       "  /* Definition of color scheme common for light and dark mode */\n",
       "  --sklearn-color-text: #000;\n",
       "  --sklearn-color-text-muted: #666;\n",
       "  --sklearn-color-line: gray;\n",
       "  /* Definition of color scheme for unfitted estimators */\n",
       "  --sklearn-color-unfitted-level-0: #fff5e6;\n",
       "  --sklearn-color-unfitted-level-1: #f6e4d2;\n",
       "  --sklearn-color-unfitted-level-2: #ffe0b3;\n",
       "  --sklearn-color-unfitted-level-3: chocolate;\n",
       "  /* Definition of color scheme for fitted estimators */\n",
       "  --sklearn-color-fitted-level-0: #f0f8ff;\n",
       "  --sklearn-color-fitted-level-1: #d4ebff;\n",
       "  --sklearn-color-fitted-level-2: #b3dbfd;\n",
       "  --sklearn-color-fitted-level-3: cornflowerblue;\n",
       "\n",
       "  /* Specific color for light theme */\n",
       "  --sklearn-color-text-on-default-background: var(--sg-text-color, var(--theme-code-foreground, var(--jp-content-font-color1, black)));\n",
       "  --sklearn-color-background: var(--sg-background-color, var(--theme-background, var(--jp-layout-color0, white)));\n",
       "  --sklearn-color-border-box: var(--sg-text-color, var(--theme-code-foreground, var(--jp-content-font-color1, black)));\n",
       "  --sklearn-color-icon: #696969;\n",
       "\n",
       "  @media (prefers-color-scheme: dark) {\n",
       "    /* Redefinition of color scheme for dark theme */\n",
       "    --sklearn-color-text-on-default-background: var(--sg-text-color, var(--theme-code-foreground, var(--jp-content-font-color1, white)));\n",
       "    --sklearn-color-background: var(--sg-background-color, var(--theme-background, var(--jp-layout-color0, #111)));\n",
       "    --sklearn-color-border-box: var(--sg-text-color, var(--theme-code-foreground, var(--jp-content-font-color1, white)));\n",
       "    --sklearn-color-icon: #878787;\n",
       "  }\n",
       "}\n",
       "\n",
       "#sk-container-id-2 {\n",
       "  color: var(--sklearn-color-text);\n",
       "}\n",
       "\n",
       "#sk-container-id-2 pre {\n",
       "  padding: 0;\n",
       "}\n",
       "\n",
       "#sk-container-id-2 input.sk-hidden--visually {\n",
       "  border: 0;\n",
       "  clip: rect(1px 1px 1px 1px);\n",
       "  clip: rect(1px, 1px, 1px, 1px);\n",
       "  height: 1px;\n",
       "  margin: -1px;\n",
       "  overflow: hidden;\n",
       "  padding: 0;\n",
       "  position: absolute;\n",
       "  width: 1px;\n",
       "}\n",
       "\n",
       "#sk-container-id-2 div.sk-dashed-wrapped {\n",
       "  border: 1px dashed var(--sklearn-color-line);\n",
       "  margin: 0 0.4em 0.5em 0.4em;\n",
       "  box-sizing: border-box;\n",
       "  padding-bottom: 0.4em;\n",
       "  background-color: var(--sklearn-color-background);\n",
       "}\n",
       "\n",
       "#sk-container-id-2 div.sk-container {\n",
       "  /* jupyter's `normalize.less` sets `[hidden] { display: none; }`\n",
       "     but bootstrap.min.css set `[hidden] { display: none !important; }`\n",
       "     so we also need the `!important` here to be able to override the\n",
       "     default hidden behavior on the sphinx rendered scikit-learn.org.\n",
       "     See: https://github.com/scikit-learn/scikit-learn/issues/21755 */\n",
       "  display: inline-block !important;\n",
       "  position: relative;\n",
       "}\n",
       "\n",
       "#sk-container-id-2 div.sk-text-repr-fallback {\n",
       "  display: none;\n",
       "}\n",
       "\n",
       "div.sk-parallel-item,\n",
       "div.sk-serial,\n",
       "div.sk-item {\n",
       "  /* draw centered vertical line to link estimators */\n",
       "  background-image: linear-gradient(var(--sklearn-color-text-on-default-background), var(--sklearn-color-text-on-default-background));\n",
       "  background-size: 2px 100%;\n",
       "  background-repeat: no-repeat;\n",
       "  background-position: center center;\n",
       "}\n",
       "\n",
       "/* Parallel-specific style estimator block */\n",
       "\n",
       "#sk-container-id-2 div.sk-parallel-item::after {\n",
       "  content: \"\";\n",
       "  width: 100%;\n",
       "  border-bottom: 2px solid var(--sklearn-color-text-on-default-background);\n",
       "  flex-grow: 1;\n",
       "}\n",
       "\n",
       "#sk-container-id-2 div.sk-parallel {\n",
       "  display: flex;\n",
       "  align-items: stretch;\n",
       "  justify-content: center;\n",
       "  background-color: var(--sklearn-color-background);\n",
       "  position: relative;\n",
       "}\n",
       "\n",
       "#sk-container-id-2 div.sk-parallel-item {\n",
       "  display: flex;\n",
       "  flex-direction: column;\n",
       "}\n",
       "\n",
       "#sk-container-id-2 div.sk-parallel-item:first-child::after {\n",
       "  align-self: flex-end;\n",
       "  width: 50%;\n",
       "}\n",
       "\n",
       "#sk-container-id-2 div.sk-parallel-item:last-child::after {\n",
       "  align-self: flex-start;\n",
       "  width: 50%;\n",
       "}\n",
       "\n",
       "#sk-container-id-2 div.sk-parallel-item:only-child::after {\n",
       "  width: 0;\n",
       "}\n",
       "\n",
       "/* Serial-specific style estimator block */\n",
       "\n",
       "#sk-container-id-2 div.sk-serial {\n",
       "  display: flex;\n",
       "  flex-direction: column;\n",
       "  align-items: center;\n",
       "  background-color: var(--sklearn-color-background);\n",
       "  padding-right: 1em;\n",
       "  padding-left: 1em;\n",
       "}\n",
       "\n",
       "\n",
       "/* Toggleable style: style used for estimator/Pipeline/ColumnTransformer box that is\n",
       "clickable and can be expanded/collapsed.\n",
       "- Pipeline and ColumnTransformer use this feature and define the default style\n",
       "- Estimators will overwrite some part of the style using the `sk-estimator` class\n",
       "*/\n",
       "\n",
       "/* Pipeline and ColumnTransformer style (default) */\n",
       "\n",
       "#sk-container-id-2 div.sk-toggleable {\n",
       "  /* Default theme specific background. It is overwritten whether we have a\n",
       "  specific estimator or a Pipeline/ColumnTransformer */\n",
       "  background-color: var(--sklearn-color-background);\n",
       "}\n",
       "\n",
       "/* Toggleable label */\n",
       "#sk-container-id-2 label.sk-toggleable__label {\n",
       "  cursor: pointer;\n",
       "  display: flex;\n",
       "  width: 100%;\n",
       "  margin-bottom: 0;\n",
       "  padding: 0.5em;\n",
       "  box-sizing: border-box;\n",
       "  text-align: center;\n",
       "  align-items: start;\n",
       "  justify-content: space-between;\n",
       "  gap: 0.5em;\n",
       "}\n",
       "\n",
       "#sk-container-id-2 label.sk-toggleable__label .caption {\n",
       "  font-size: 0.6rem;\n",
       "  font-weight: lighter;\n",
       "  color: var(--sklearn-color-text-muted);\n",
       "}\n",
       "\n",
       "#sk-container-id-2 label.sk-toggleable__label-arrow:before {\n",
       "  /* Arrow on the left of the label */\n",
       "  content: \"▸\";\n",
       "  float: left;\n",
       "  margin-right: 0.25em;\n",
       "  color: var(--sklearn-color-icon);\n",
       "}\n",
       "\n",
       "#sk-container-id-2 label.sk-toggleable__label-arrow:hover:before {\n",
       "  color: var(--sklearn-color-text);\n",
       "}\n",
       "\n",
       "/* Toggleable content - dropdown */\n",
       "\n",
       "#sk-container-id-2 div.sk-toggleable__content {\n",
       "  max-height: 0;\n",
       "  max-width: 0;\n",
       "  overflow: hidden;\n",
       "  text-align: left;\n",
       "  /* unfitted */\n",
       "  background-color: var(--sklearn-color-unfitted-level-0);\n",
       "}\n",
       "\n",
       "#sk-container-id-2 div.sk-toggleable__content.fitted {\n",
       "  /* fitted */\n",
       "  background-color: var(--sklearn-color-fitted-level-0);\n",
       "}\n",
       "\n",
       "#sk-container-id-2 div.sk-toggleable__content pre {\n",
       "  margin: 0.2em;\n",
       "  border-radius: 0.25em;\n",
       "  color: var(--sklearn-color-text);\n",
       "  /* unfitted */\n",
       "  background-color: var(--sklearn-color-unfitted-level-0);\n",
       "}\n",
       "\n",
       "#sk-container-id-2 div.sk-toggleable__content.fitted pre {\n",
       "  /* unfitted */\n",
       "  background-color: var(--sklearn-color-fitted-level-0);\n",
       "}\n",
       "\n",
       "#sk-container-id-2 input.sk-toggleable__control:checked~div.sk-toggleable__content {\n",
       "  /* Expand drop-down */\n",
       "  max-height: 200px;\n",
       "  max-width: 100%;\n",
       "  overflow: auto;\n",
       "}\n",
       "\n",
       "#sk-container-id-2 input.sk-toggleable__control:checked~label.sk-toggleable__label-arrow:before {\n",
       "  content: \"▾\";\n",
       "}\n",
       "\n",
       "/* Pipeline/ColumnTransformer-specific style */\n",
       "\n",
       "#sk-container-id-2 div.sk-label input.sk-toggleable__control:checked~label.sk-toggleable__label {\n",
       "  color: var(--sklearn-color-text);\n",
       "  background-color: var(--sklearn-color-unfitted-level-2);\n",
       "}\n",
       "\n",
       "#sk-container-id-2 div.sk-label.fitted input.sk-toggleable__control:checked~label.sk-toggleable__label {\n",
       "  background-color: var(--sklearn-color-fitted-level-2);\n",
       "}\n",
       "\n",
       "/* Estimator-specific style */\n",
       "\n",
       "/* Colorize estimator box */\n",
       "#sk-container-id-2 div.sk-estimator input.sk-toggleable__control:checked~label.sk-toggleable__label {\n",
       "  /* unfitted */\n",
       "  background-color: var(--sklearn-color-unfitted-level-2);\n",
       "}\n",
       "\n",
       "#sk-container-id-2 div.sk-estimator.fitted input.sk-toggleable__control:checked~label.sk-toggleable__label {\n",
       "  /* fitted */\n",
       "  background-color: var(--sklearn-color-fitted-level-2);\n",
       "}\n",
       "\n",
       "#sk-container-id-2 div.sk-label label.sk-toggleable__label,\n",
       "#sk-container-id-2 div.sk-label label {\n",
       "  /* The background is the default theme color */\n",
       "  color: var(--sklearn-color-text-on-default-background);\n",
       "}\n",
       "\n",
       "/* On hover, darken the color of the background */\n",
       "#sk-container-id-2 div.sk-label:hover label.sk-toggleable__label {\n",
       "  color: var(--sklearn-color-text);\n",
       "  background-color: var(--sklearn-color-unfitted-level-2);\n",
       "}\n",
       "\n",
       "/* Label box, darken color on hover, fitted */\n",
       "#sk-container-id-2 div.sk-label.fitted:hover label.sk-toggleable__label.fitted {\n",
       "  color: var(--sklearn-color-text);\n",
       "  background-color: var(--sklearn-color-fitted-level-2);\n",
       "}\n",
       "\n",
       "/* Estimator label */\n",
       "\n",
       "#sk-container-id-2 div.sk-label label {\n",
       "  font-family: monospace;\n",
       "  font-weight: bold;\n",
       "  display: inline-block;\n",
       "  line-height: 1.2em;\n",
       "}\n",
       "\n",
       "#sk-container-id-2 div.sk-label-container {\n",
       "  text-align: center;\n",
       "}\n",
       "\n",
       "/* Estimator-specific */\n",
       "#sk-container-id-2 div.sk-estimator {\n",
       "  font-family: monospace;\n",
       "  border: 1px dotted var(--sklearn-color-border-box);\n",
       "  border-radius: 0.25em;\n",
       "  box-sizing: border-box;\n",
       "  margin-bottom: 0.5em;\n",
       "  /* unfitted */\n",
       "  background-color: var(--sklearn-color-unfitted-level-0);\n",
       "}\n",
       "\n",
       "#sk-container-id-2 div.sk-estimator.fitted {\n",
       "  /* fitted */\n",
       "  background-color: var(--sklearn-color-fitted-level-0);\n",
       "}\n",
       "\n",
       "/* on hover */\n",
       "#sk-container-id-2 div.sk-estimator:hover {\n",
       "  /* unfitted */\n",
       "  background-color: var(--sklearn-color-unfitted-level-2);\n",
       "}\n",
       "\n",
       "#sk-container-id-2 div.sk-estimator.fitted:hover {\n",
       "  /* fitted */\n",
       "  background-color: var(--sklearn-color-fitted-level-2);\n",
       "}\n",
       "\n",
       "/* Specification for estimator info (e.g. \"i\" and \"?\") */\n",
       "\n",
       "/* Common style for \"i\" and \"?\" */\n",
       "\n",
       ".sk-estimator-doc-link,\n",
       "a:link.sk-estimator-doc-link,\n",
       "a:visited.sk-estimator-doc-link {\n",
       "  float: right;\n",
       "  font-size: smaller;\n",
       "  line-height: 1em;\n",
       "  font-family: monospace;\n",
       "  background-color: var(--sklearn-color-background);\n",
       "  border-radius: 1em;\n",
       "  height: 1em;\n",
       "  width: 1em;\n",
       "  text-decoration: none !important;\n",
       "  margin-left: 0.5em;\n",
       "  text-align: center;\n",
       "  /* unfitted */\n",
       "  border: var(--sklearn-color-unfitted-level-1) 1pt solid;\n",
       "  color: var(--sklearn-color-unfitted-level-1);\n",
       "}\n",
       "\n",
       ".sk-estimator-doc-link.fitted,\n",
       "a:link.sk-estimator-doc-link.fitted,\n",
       "a:visited.sk-estimator-doc-link.fitted {\n",
       "  /* fitted */\n",
       "  border: var(--sklearn-color-fitted-level-1) 1pt solid;\n",
       "  color: var(--sklearn-color-fitted-level-1);\n",
       "}\n",
       "\n",
       "/* On hover */\n",
       "div.sk-estimator:hover .sk-estimator-doc-link:hover,\n",
       ".sk-estimator-doc-link:hover,\n",
       "div.sk-label-container:hover .sk-estimator-doc-link:hover,\n",
       ".sk-estimator-doc-link:hover {\n",
       "  /* unfitted */\n",
       "  background-color: var(--sklearn-color-unfitted-level-3);\n",
       "  color: var(--sklearn-color-background);\n",
       "  text-decoration: none;\n",
       "}\n",
       "\n",
       "div.sk-estimator.fitted:hover .sk-estimator-doc-link.fitted:hover,\n",
       ".sk-estimator-doc-link.fitted:hover,\n",
       "div.sk-label-container:hover .sk-estimator-doc-link.fitted:hover,\n",
       ".sk-estimator-doc-link.fitted:hover {\n",
       "  /* fitted */\n",
       "  background-color: var(--sklearn-color-fitted-level-3);\n",
       "  color: var(--sklearn-color-background);\n",
       "  text-decoration: none;\n",
       "}\n",
       "\n",
       "/* Span, style for the box shown on hovering the info icon */\n",
       ".sk-estimator-doc-link span {\n",
       "  display: none;\n",
       "  z-index: 9999;\n",
       "  position: relative;\n",
       "  font-weight: normal;\n",
       "  right: .2ex;\n",
       "  padding: .5ex;\n",
       "  margin: .5ex;\n",
       "  width: min-content;\n",
       "  min-width: 20ex;\n",
       "  max-width: 50ex;\n",
       "  color: var(--sklearn-color-text);\n",
       "  box-shadow: 2pt 2pt 4pt #999;\n",
       "  /* unfitted */\n",
       "  background: var(--sklearn-color-unfitted-level-0);\n",
       "  border: .5pt solid var(--sklearn-color-unfitted-level-3);\n",
       "}\n",
       "\n",
       ".sk-estimator-doc-link.fitted span {\n",
       "  /* fitted */\n",
       "  background: var(--sklearn-color-fitted-level-0);\n",
       "  border: var(--sklearn-color-fitted-level-3);\n",
       "}\n",
       "\n",
       ".sk-estimator-doc-link:hover span {\n",
       "  display: block;\n",
       "}\n",
       "\n",
       "/* \"?\"-specific style due to the `<a>` HTML tag */\n",
       "\n",
       "#sk-container-id-2 a.estimator_doc_link {\n",
       "  float: right;\n",
       "  font-size: 1rem;\n",
       "  line-height: 1em;\n",
       "  font-family: monospace;\n",
       "  background-color: var(--sklearn-color-background);\n",
       "  border-radius: 1rem;\n",
       "  height: 1rem;\n",
       "  width: 1rem;\n",
       "  text-decoration: none;\n",
       "  /* unfitted */\n",
       "  color: var(--sklearn-color-unfitted-level-1);\n",
       "  border: var(--sklearn-color-unfitted-level-1) 1pt solid;\n",
       "}\n",
       "\n",
       "#sk-container-id-2 a.estimator_doc_link.fitted {\n",
       "  /* fitted */\n",
       "  border: var(--sklearn-color-fitted-level-1) 1pt solid;\n",
       "  color: var(--sklearn-color-fitted-level-1);\n",
       "}\n",
       "\n",
       "/* On hover */\n",
       "#sk-container-id-2 a.estimator_doc_link:hover {\n",
       "  /* unfitted */\n",
       "  background-color: var(--sklearn-color-unfitted-level-3);\n",
       "  color: var(--sklearn-color-background);\n",
       "  text-decoration: none;\n",
       "}\n",
       "\n",
       "#sk-container-id-2 a.estimator_doc_link.fitted:hover {\n",
       "  /* fitted */\n",
       "  background-color: var(--sklearn-color-fitted-level-3);\n",
       "}\n",
       "</style><div id=\"sk-container-id-2\" class=\"sk-top-container\"><div class=\"sk-text-repr-fallback\"><pre>LatentDirichletAllocation(n_components=3, random_state=42)</pre><b>In a Jupyter environment, please rerun this cell to show the HTML representation or trust the notebook. <br />On GitHub, the HTML representation is unable to render, please try loading this page with nbviewer.org.</b></div><div class=\"sk-container\" hidden><div class=\"sk-item\"><div class=\"sk-estimator fitted sk-toggleable\"><input class=\"sk-toggleable__control sk-hidden--visually\" id=\"sk-estimator-id-2\" type=\"checkbox\" checked><label for=\"sk-estimator-id-2\" class=\"sk-toggleable__label fitted sk-toggleable__label-arrow\"><div><div>LatentDirichletAllocation</div></div><div><a class=\"sk-estimator-doc-link fitted\" rel=\"noreferrer\" target=\"_blank\" href=\"https://scikit-learn.org/1.6/modules/generated/sklearn.decomposition.LatentDirichletAllocation.html\">?<span>Documentation for LatentDirichletAllocation</span></a><span class=\"sk-estimator-doc-link fitted\">i<span>Fitted</span></span></div></label><div class=\"sk-toggleable__content fitted\"><pre>LatentDirichletAllocation(n_components=3, random_state=42)</pre></div> </div></div></div></div>"
      ],
      "text/plain": [
       "LatentDirichletAllocation(n_components=3, random_state=42)"
      ]
     },
     "execution_count": 44,
     "metadata": {},
     "output_type": "execute_result"
    }
   ],
   "source": [
    "lda.fit(x)"
   ]
  },
  {
   "cell_type": "code",
   "execution_count": 45,
   "id": "7c0a6e4e",
   "metadata": {},
   "outputs": [
    {
     "name": "stdout",
     "output_type": "stream",
     "text": [
      "\n",
      "🔹 Top Words per Topic:\n",
      "\n",
      "Topic 1:\n",
      "googlemicrosoftcompetingairace | scientistsdiscoverednewplanetfarawaygalaxy | governmentannouncednewpolicieshealthcareeducation | openaireleasedpowerfulnewlanguagemodel | stockmarketsfelleconomicuncertainty | elonmuskannouncedplansnewteslafactoryindia | nasapreparingnewmissionexploremoon\n",
      "\n",
      "Topic 2:\n",
      "educationtechnologyevolvingaibasedpersonalizedlearning | climatechangeremainsmajorissueworldleaders | stockmarketsfelleconomicuncertainty | elonmuskannouncedplansnewteslafactoryindia | openaireleasedpowerfulnewlanguagemodel | governmentannouncednewpolicieshealthcareeducation | scientistsdiscoverednewplanetfarawaygalaxy\n",
      "\n",
      "Topic 3:\n",
      "nasapreparingnewmissionexploremoon | appleplanningreleasenewiphonefall | elonmuskannouncedplansnewteslafactoryindia | stockmarketsfelleconomicuncertainty | governmentannouncednewpolicieshealthcareeducation | openaireleasedpowerfulnewlanguagemodel | scientistsdiscoverednewplanetfarawaygalaxy\n"
     ]
    }
   ],
   "source": [
    "def display_topics(model, feature_names, n_top_words):\n",
    "    for idx, topic in enumerate(model.components_):\n",
    "        print(f\"\\nTopic {idx + 1}:\")\n",
    "        print(\" | \".join([feature_names[i] for i in topic.argsort()[:-n_top_words - 1:-1]]))\n",
    "\n",
    "# Show topics\n",
    "print(\"\\n🔹 Top Words per Topic:\")\n",
    "display_topics(lda, vector.get_feature_names_out(), 7)"
   ]
  },
  {
   "cell_type": "markdown",
   "id": "1b11439a",
   "metadata": {},
   "source": [
    "## 16-04-2025"
   ]
  },
  {
   "cell_type": "code",
   "execution_count": 46,
   "id": "0778012d",
   "metadata": {},
   "outputs": [],
   "source": [
    "import pandas as pd\n",
    "import numpy as np\n",
    "import matplotlib.pyplot as plt\n",
    "import seaborn as sns"
   ]
  },
  {
   "cell_type": "code",
   "execution_count": 48,
   "id": "a76d8611",
   "metadata": {},
   "outputs": [
    {
     "ename": "ImportError",
     "evalue": "lxml.html.clean module is now a separate project lxml_html_clean.\nInstall lxml[html_clean] or lxml_html_clean directly.",
     "output_type": "error",
     "traceback": [
      "\u001b[1;31m---------------------------------------------------------------------------\u001b[0m",
      "\u001b[1;31mImportError\u001b[0m                               Traceback (most recent call last)",
      "Cell \u001b[1;32mIn[48], line 2\u001b[0m\n\u001b[0;32m      1\u001b[0m \u001b[38;5;66;03m# Load the Article\u001b[39;00m\n\u001b[1;32m----> 2\u001b[0m \u001b[38;5;28;01mfrom\u001b[39;00m\u001b[38;5;250m \u001b[39m\u001b[38;5;21;01mnewspaper\u001b[39;00m\u001b[38;5;250m \u001b[39m\u001b[38;5;28;01mimport\u001b[39;00m Article\n",
      "File \u001b[1;32m~\\anaconda3\\Lib\\site-packages\\newspaper\\__init__.py:10\u001b[0m\n\u001b[0;32m      7\u001b[0m __license__ \u001b[38;5;241m=\u001b[39m \u001b[38;5;124m'\u001b[39m\u001b[38;5;124mMIT\u001b[39m\u001b[38;5;124m'\u001b[39m\n\u001b[0;32m      8\u001b[0m __copyright__ \u001b[38;5;241m=\u001b[39m \u001b[38;5;124m'\u001b[39m\u001b[38;5;124mCopyright 2014, Lucas Ou-Yang\u001b[39m\u001b[38;5;124m'\u001b[39m\n\u001b[1;32m---> 10\u001b[0m \u001b[38;5;28;01mfrom\u001b[39;00m\u001b[38;5;250m \u001b[39m\u001b[38;5;21;01m.\u001b[39;00m\u001b[38;5;21;01mapi\u001b[39;00m\u001b[38;5;250m \u001b[39m\u001b[38;5;28;01mimport\u001b[39;00m (build, build_article, fulltext, hot, languages,\n\u001b[0;32m     11\u001b[0m                   popular_urls, Configuration \u001b[38;5;28;01mas\u001b[39;00m Config)\n\u001b[0;32m     12\u001b[0m \u001b[38;5;28;01mfrom\u001b[39;00m\u001b[38;5;250m \u001b[39m\u001b[38;5;21;01m.\u001b[39;00m\u001b[38;5;21;01marticle\u001b[39;00m\u001b[38;5;250m \u001b[39m\u001b[38;5;28;01mimport\u001b[39;00m Article, ArticleException\n\u001b[0;32m     13\u001b[0m \u001b[38;5;28;01mfrom\u001b[39;00m\u001b[38;5;250m \u001b[39m\u001b[38;5;21;01m.\u001b[39;00m\u001b[38;5;21;01mmthreading\u001b[39;00m\u001b[38;5;250m \u001b[39m\u001b[38;5;28;01mimport\u001b[39;00m NewsPool\n",
      "File \u001b[1;32m~\\anaconda3\\Lib\\site-packages\\newspaper\\api.py:14\u001b[0m\n\u001b[0;32m     10\u001b[0m __copyright__ \u001b[38;5;241m=\u001b[39m \u001b[38;5;124m'\u001b[39m\u001b[38;5;124mCopyright 2014, Lucas Ou-Yang\u001b[39m\u001b[38;5;124m'\u001b[39m\n\u001b[0;32m     12\u001b[0m \u001b[38;5;28;01mimport\u001b[39;00m\u001b[38;5;250m \u001b[39m\u001b[38;5;21;01mfeedparser\u001b[39;00m\n\u001b[1;32m---> 14\u001b[0m \u001b[38;5;28;01mfrom\u001b[39;00m\u001b[38;5;250m \u001b[39m\u001b[38;5;21;01m.\u001b[39;00m\u001b[38;5;21;01marticle\u001b[39;00m\u001b[38;5;250m \u001b[39m\u001b[38;5;28;01mimport\u001b[39;00m Article\n\u001b[0;32m     15\u001b[0m \u001b[38;5;28;01mfrom\u001b[39;00m\u001b[38;5;250m \u001b[39m\u001b[38;5;21;01m.\u001b[39;00m\u001b[38;5;21;01mconfiguration\u001b[39;00m\u001b[38;5;250m \u001b[39m\u001b[38;5;28;01mimport\u001b[39;00m Configuration\n\u001b[0;32m     16\u001b[0m \u001b[38;5;28;01mfrom\u001b[39;00m\u001b[38;5;250m \u001b[39m\u001b[38;5;21;01m.\u001b[39;00m\u001b[38;5;21;01msettings\u001b[39;00m\u001b[38;5;250m \u001b[39m\u001b[38;5;28;01mimport\u001b[39;00m POPULAR_URLS, TRENDING_URL\n",
      "File \u001b[1;32m~\\anaconda3\\Lib\\site-packages\\newspaper\\article.py:15\u001b[0m\n\u001b[0;32m     12\u001b[0m \u001b[38;5;28;01mimport\u001b[39;00m\u001b[38;5;250m \u001b[39m\u001b[38;5;21;01mrequests\u001b[39;00m\n\u001b[0;32m     14\u001b[0m \u001b[38;5;28;01mfrom\u001b[39;00m\u001b[38;5;250m \u001b[39m\u001b[38;5;21;01m.\u001b[39;00m\u001b[38;5;250m \u001b[39m\u001b[38;5;28;01mimport\u001b[39;00m images\n\u001b[1;32m---> 15\u001b[0m \u001b[38;5;28;01mfrom\u001b[39;00m\u001b[38;5;250m \u001b[39m\u001b[38;5;21;01m.\u001b[39;00m\u001b[38;5;250m \u001b[39m\u001b[38;5;28;01mimport\u001b[39;00m network\n\u001b[0;32m     16\u001b[0m \u001b[38;5;28;01mfrom\u001b[39;00m\u001b[38;5;250m \u001b[39m\u001b[38;5;21;01m.\u001b[39;00m\u001b[38;5;250m \u001b[39m\u001b[38;5;28;01mimport\u001b[39;00m nlp\n\u001b[0;32m     17\u001b[0m \u001b[38;5;28;01mfrom\u001b[39;00m\u001b[38;5;250m \u001b[39m\u001b[38;5;21;01m.\u001b[39;00m\u001b[38;5;250m \u001b[39m\u001b[38;5;28;01mimport\u001b[39;00m settings\n",
      "File \u001b[1;32m~\\anaconda3\\Lib\\site-packages\\newspaper\\network.py:14\u001b[0m\n\u001b[0;32m     11\u001b[0m \u001b[38;5;28;01mimport\u001b[39;00m\u001b[38;5;250m \u001b[39m\u001b[38;5;21;01mlogging\u001b[39;00m\n\u001b[0;32m     12\u001b[0m \u001b[38;5;28;01mimport\u001b[39;00m\u001b[38;5;250m \u001b[39m\u001b[38;5;21;01mrequests\u001b[39;00m\n\u001b[1;32m---> 14\u001b[0m \u001b[38;5;28;01mfrom\u001b[39;00m\u001b[38;5;250m \u001b[39m\u001b[38;5;21;01m.\u001b[39;00m\u001b[38;5;21;01mconfiguration\u001b[39;00m\u001b[38;5;250m \u001b[39m\u001b[38;5;28;01mimport\u001b[39;00m Configuration\n\u001b[0;32m     15\u001b[0m \u001b[38;5;28;01mfrom\u001b[39;00m\u001b[38;5;250m \u001b[39m\u001b[38;5;21;01m.\u001b[39;00m\u001b[38;5;21;01mmthreading\u001b[39;00m\u001b[38;5;250m \u001b[39m\u001b[38;5;28;01mimport\u001b[39;00m ThreadPool\n\u001b[0;32m     16\u001b[0m \u001b[38;5;28;01mfrom\u001b[39;00m\u001b[38;5;250m \u001b[39m\u001b[38;5;21;01m.\u001b[39;00m\u001b[38;5;21;01msettings\u001b[39;00m\u001b[38;5;250m \u001b[39m\u001b[38;5;28;01mimport\u001b[39;00m cj\n",
      "File \u001b[1;32m~\\anaconda3\\Lib\\site-packages\\newspaper\\configuration.py:15\u001b[0m\n\u001b[0;32m     11\u001b[0m __copyright__ \u001b[38;5;241m=\u001b[39m \u001b[38;5;124m'\u001b[39m\u001b[38;5;124mCopyright 2014, Lucas Ou-Yang\u001b[39m\u001b[38;5;124m'\u001b[39m\n\u001b[0;32m     13\u001b[0m \u001b[38;5;28;01mimport\u001b[39;00m\u001b[38;5;250m \u001b[39m\u001b[38;5;21;01mlogging\u001b[39;00m\n\u001b[1;32m---> 15\u001b[0m \u001b[38;5;28;01mfrom\u001b[39;00m\u001b[38;5;250m \u001b[39m\u001b[38;5;21;01m.\u001b[39;00m\u001b[38;5;21;01mparsers\u001b[39;00m\u001b[38;5;250m \u001b[39m\u001b[38;5;28;01mimport\u001b[39;00m Parser\n\u001b[0;32m     16\u001b[0m \u001b[38;5;28;01mfrom\u001b[39;00m\u001b[38;5;250m \u001b[39m\u001b[38;5;21;01m.\u001b[39;00m\u001b[38;5;21;01mtext\u001b[39;00m\u001b[38;5;250m \u001b[39m\u001b[38;5;28;01mimport\u001b[39;00m (StopWords, StopWordsArabic, StopWordsChinese,\n\u001b[0;32m     17\u001b[0m                    StopWordsKorean, StopWordsHindi, StopWordsJapanese)\n\u001b[0;32m     18\u001b[0m \u001b[38;5;28;01mfrom\u001b[39;00m\u001b[38;5;250m \u001b[39m\u001b[38;5;21;01m.\u001b[39;00m\u001b[38;5;21;01mversion\u001b[39;00m\u001b[38;5;250m \u001b[39m\u001b[38;5;28;01mimport\u001b[39;00m __version__\n",
      "File \u001b[1;32m~\\anaconda3\\Lib\\site-packages\\newspaper\\parsers.py:12\u001b[0m\n\u001b[0;32m     10\u001b[0m \u001b[38;5;28;01mimport\u001b[39;00m\u001b[38;5;250m \u001b[39m\u001b[38;5;21;01mlxml\u001b[39;00m\u001b[38;5;21;01m.\u001b[39;00m\u001b[38;5;21;01metree\u001b[39;00m\n\u001b[0;32m     11\u001b[0m \u001b[38;5;28;01mimport\u001b[39;00m\u001b[38;5;250m \u001b[39m\u001b[38;5;21;01mlxml\u001b[39;00m\u001b[38;5;21;01m.\u001b[39;00m\u001b[38;5;21;01mhtml\u001b[39;00m\n\u001b[1;32m---> 12\u001b[0m \u001b[38;5;28;01mimport\u001b[39;00m\u001b[38;5;250m \u001b[39m\u001b[38;5;21;01mlxml\u001b[39;00m\u001b[38;5;21;01m.\u001b[39;00m\u001b[38;5;21;01mhtml\u001b[39;00m\u001b[38;5;21;01m.\u001b[39;00m\u001b[38;5;21;01mclean\u001b[39;00m\n\u001b[0;32m     13\u001b[0m \u001b[38;5;28;01mimport\u001b[39;00m\u001b[38;5;250m \u001b[39m\u001b[38;5;21;01mre\u001b[39;00m\n\u001b[0;32m     14\u001b[0m \u001b[38;5;28;01mfrom\u001b[39;00m\u001b[38;5;250m \u001b[39m\u001b[38;5;21;01mhtml\u001b[39;00m\u001b[38;5;250m \u001b[39m\u001b[38;5;28;01mimport\u001b[39;00m unescape\n",
      "File \u001b[1;32m~\\anaconda3\\Lib\\site-packages\\lxml\\html\\clean.py:18\u001b[0m\n\u001b[0;32m      8\u001b[0m     __all__ \u001b[38;5;241m=\u001b[39m [\n\u001b[0;32m      9\u001b[0m         \u001b[38;5;124m\"\u001b[39m\u001b[38;5;124mclean_html\u001b[39m\u001b[38;5;124m\"\u001b[39m,\n\u001b[0;32m     10\u001b[0m         \u001b[38;5;124m\"\u001b[39m\u001b[38;5;124mclean\u001b[39m\u001b[38;5;124m\"\u001b[39m,\n\u001b[1;32m   (...)\u001b[0m\n\u001b[0;32m     15\u001b[0m         \u001b[38;5;124m\"\u001b[39m\u001b[38;5;124mword_break_html\u001b[39m\u001b[38;5;124m\"\u001b[39m,\n\u001b[0;32m     16\u001b[0m     ]\n\u001b[0;32m     17\u001b[0m \u001b[38;5;28;01mexcept\u001b[39;00m \u001b[38;5;167;01mImportError\u001b[39;00m:\n\u001b[1;32m---> 18\u001b[0m     \u001b[38;5;28;01mraise\u001b[39;00m \u001b[38;5;167;01mImportError\u001b[39;00m(\n\u001b[0;32m     19\u001b[0m         \u001b[38;5;124m\"\u001b[39m\u001b[38;5;124mlxml.html.clean module is now a separate project lxml_html_clean.\u001b[39m\u001b[38;5;130;01m\\n\u001b[39;00m\u001b[38;5;124m\"\u001b[39m\n\u001b[0;32m     20\u001b[0m         \u001b[38;5;124m\"\u001b[39m\u001b[38;5;124mInstall lxml[html_clean] or lxml_html_clean directly.\u001b[39m\u001b[38;5;124m\"\u001b[39m\n\u001b[0;32m     21\u001b[0m     ) \u001b[38;5;28;01mfrom\u001b[39;00m\u001b[38;5;250m \u001b[39m\u001b[38;5;28;01mNone\u001b[39;00m\n",
      "\u001b[1;31mImportError\u001b[0m: lxml.html.clean module is now a separate project lxml_html_clean.\nInstall lxml[html_clean] or lxml_html_clean directly."
     ]
    }
   ],
   "source": [
    "# Load the Article\n",
    "from newspaper import Article"
   ]
  },
  {
   "cell_type": "code",
   "execution_count": null,
   "id": "071244f9",
   "metadata": {},
   "outputs": [],
   "source": [
    "pip install wikipedia"
   ]
  },
  {
   "cell_type": "code",
   "execution_count": null,
   "id": "37065ef2",
   "metadata": {},
   "outputs": [],
   "source": [
    "import wikipedia\n",
    "\n",
    "# Fetch a long Wikipedia article\n",
    "wiki_text = wikipedia.page(\"Artificial intelligence\").content\n",
    "print(\"✅ Wikipedia article loaded successfully!\")\n",
    "print(\"Total Words:\", len(wiki_text.split()))\n",
    "print(wiki_text[:1000])  # Preview\n"
   ]
  },
  {
   "cell_type": "code",
   "execution_count": null,
   "id": "11486f82",
   "metadata": {},
   "outputs": [],
   "source": [
    "from sumy.parsers.plaintext import PlaintextParser\n",
    "from sumy.nlp.tokenizers import Tokenizer\n",
    "from sumy.summarizers.lsa import LsaSummarizer"
   ]
  },
  {
   "cell_type": "code",
   "execution_count": null,
   "id": "90dc9aef",
   "metadata": {},
   "outputs": [],
   "source": [
    "def sumy_summary(wiki_text,num_sentences=5):\n",
    "    parser = PlaintextParser.from_string(wiki_text, Tokenizer(\"english\"))\n",
    "    summarizer = LsaSummarizer()\n",
    "    summary = summarizer(parser.document, num_sentences)\n",
    "    return \" \".join(str(sentence) for sentence in summary)"
   ]
  },
  {
   "cell_type": "code",
   "execution_count": null,
   "id": "675356eb",
   "metadata": {},
   "outputs": [],
   "source": [
    "sumy_result = sumy_summary(wiki_text)\n",
    "sumy_result"
   ]
  },
  {
   "cell_type": "code",
   "execution_count": null,
   "id": "97ae807b",
   "metadata": {},
   "outputs": [],
   "source": [
    "# Abstractive Summarization with HuggingFace Transformers\n",
    "!pip install transformers"
   ]
  },
  {
   "cell_type": "code",
   "execution_count": null,
   "id": "5366de0a",
   "metadata": {},
   "outputs": [],
   "source": [
    "print(\"\\n📄 ORIGINAL LENGTH:\", len(wiki_text.split()), \"words\")\n",
    "print(\"\\n✂️ SUMY LENGTH:\", len(sumy_result.split()), \"words\")"
   ]
  },
  {
   "cell_type": "code",
   "execution_count": null,
   "id": "427f06b5",
   "metadata": {},
   "outputs": [],
   "source": [
    "import matplotlib.pyplot as plt\n",
    "\n",
    "lengths = {\n",
    "    \"Original\": len(wiki_text.split()),\n",
    "    \"Sumy\": len(sumy_result.split()),\n",
    "}\n",
    "\n",
    "plt.bar(lengths.keys(), lengths.values(), color=[\"blue\", \"green\", \"orange\", \"purple\"])\n",
    "plt.ylabel(\"Word Count\")\n",
    "plt.title(\"Comparison of Summarized Text Lengths\")\n",
    "plt.show()\n"
   ]
  },
  {
   "cell_type": "code",
   "execution_count": null,
   "id": "2784717a",
   "metadata": {},
   "outputs": [],
   "source": [
    "# Text Preprocessing\n",
    "import nltk\n",
    "from nltk.corpus import stopwords\n",
    "import string"
   ]
  },
  {
   "cell_type": "code",
   "execution_count": null,
   "id": "0028166e",
   "metadata": {},
   "outputs": [],
   "source": [
    "nltk.download('stopwords')\n",
    "stop_words=set(stopwords.words('english'))"
   ]
  },
  {
   "cell_type": "code",
   "execution_count": null,
   "id": "62c1cded",
   "metadata": {},
   "outputs": [],
   "source": [
    "text= [\"I love NLP!\", \"Text preprocessing is important in data science.\"]\n",
    "text"
   ]
  },
  {
   "cell_type": "code",
   "execution_count": null,
   "id": "253371dc",
   "metadata": {},
   "outputs": [],
   "source": [
    "cleaned=[]\n",
    "for char in text:\n",
    "    words=char.lower().translate(str.maketrans('','',string.punctuation))\n",
    "    filterd=[word for word in words if word not in stop_words]\n",
    "    cleaned.append(\" \".join(filterd))\n",
    "print(cleaned)"
   ]
  },
  {
   "cell_type": "code",
   "execution_count": null,
   "id": "32ac0b27",
   "metadata": {},
   "outputs": [],
   "source": [
    "#  Bag of Words Representation\n",
    "from sklearn.feature_extraction.text import CountVectorizer\n",
    "text=[\"I love NLP\", \"NLP is amazing\"]\n",
    "vector=CountVectorizer()\n",
    "x=vector.fit_transform(text)"
   ]
  },
  {
   "cell_type": "code",
   "execution_count": null,
   "id": "a4c1b179",
   "metadata": {},
   "outputs": [],
   "source": [
    "print(vector.get_feature_names_out())"
   ]
  },
  {
   "cell_type": "code",
   "execution_count": null,
   "id": "cd5a5a7b",
   "metadata": {},
   "outputs": [],
   "source": [
    "print(x.toarray())"
   ]
  },
  {
   "cell_type": "code",
   "execution_count": null,
   "id": "0a2c0823",
   "metadata": {},
   "outputs": [],
   "source": [
    "# TF-IDF Vectorization\n",
    "from sklearn.feature_extraction.text import TfidfVectorizer"
   ]
  },
  {
   "cell_type": "code",
   "execution_count": null,
   "id": "8e2b2945",
   "metadata": {},
   "outputs": [],
   "source": [
    "\n",
    "docs = [\"NLP is fun\", \"I love learning NLP\", \"NLP stands for Natural Language Processing\"]\n",
    "docs"
   ]
  },
  {
   "cell_type": "code",
   "execution_count": null,
   "id": "a891e1b0",
   "metadata": {},
   "outputs": [],
   "source": [
    "tfidf=TfidfVectorizer()\n",
    "xtfidf=tfidf.fit_transform(docs)"
   ]
  },
  {
   "cell_type": "code",
   "execution_count": null,
   "id": "e129ecc7",
   "metadata": {},
   "outputs": [],
   "source": [
    "print(tfidf.get_feature_names_out())"
   ]
  },
  {
   "cell_type": "code",
   "execution_count": null,
   "id": "e30e5ea3",
   "metadata": {},
   "outputs": [],
   "source": [
    "print(xtfidf.toarray())"
   ]
  },
  {
   "cell_type": "code",
   "execution_count": null,
   "id": "7e6e8cf6",
   "metadata": {},
   "outputs": [],
   "source": [
    "#  Sentiment Analysis with Naive Bayes\n",
    "from sklearn.model_selection import train_test_split\n",
    "from sklearn.naive_bayes import MultinomialNB\n",
    "from sklearn.feature_extraction.text import CountVectorizer"
   ]
  },
  {
   "cell_type": "code",
   "execution_count": null,
   "id": "a5258907",
   "metadata": {},
   "outputs": [],
   "source": [
    "texts = [\"I love this product\", \"This is bad\", \"Very good\", \"Worst ever\", \"Excellent\", \"Terrible\"]\n",
    "labels = [1, 0, 1, 0, 1, 0]"
   ]
  },
  {
   "cell_type": "code",
   "execution_count": null,
   "id": "b487b941",
   "metadata": {},
   "outputs": [],
   "source": [
    "vector=CountVectorizer()\n",
    "x=vector.fit_transform(texts)\n",
    "y=labels"
   ]
  },
  {
   "cell_type": "code",
   "execution_count": null,
   "id": "e60d5909",
   "metadata": {},
   "outputs": [],
   "source": [
    "x_train,x_test,y_train,y_test=train_test_split(x,y,test_size=0.3)"
   ]
  },
  {
   "cell_type": "code",
   "execution_count": null,
   "id": "da6fbe7d",
   "metadata": {},
   "outputs": [],
   "source": [
    "model=MultinomialNB()"
   ]
  },
  {
   "cell_type": "code",
   "execution_count": null,
   "id": "2a6d11fa",
   "metadata": {},
   "outputs": [],
   "source": [
    "model.fit(x_train,y_train)"
   ]
  },
  {
   "cell_type": "code",
   "execution_count": null,
   "id": "cbc64253",
   "metadata": {},
   "outputs": [],
   "source": [
    "model.score(x_test,y_test)"
   ]
  },
  {
   "cell_type": "code",
   "execution_count": null,
   "id": "4a46fcf2",
   "metadata": {},
   "outputs": [],
   "source": [
    "import spacy\n",
    "\n",
    "nlp = spacy.load(\"en_core_web_sm\")\n",
    "doc = nlp(\"Apple is looking at buying U.K. startup for $1 billion\")\n",
    "\n",
    "for ent in doc.ents:\n",
    "    print(ent.text, ent.label_)\n"
   ]
  },
  {
   "cell_type": "code",
   "execution_count": null,
   "id": "e0b52460",
   "metadata": {},
   "outputs": [],
   "source": [
    "# Text Classification with TF-IDF + Logistic Regression\n",
    "import pandas as pd\n",
    "df=pd.read_csv(\"https://raw.githubusercontent.com/justmarkham/pycon-2016-tutorial/master/data/sms.tsv\", sep='\\t', names=['label', 'message'])\n",
    "df"
   ]
  },
  {
   "cell_type": "code",
   "execution_count": null,
   "id": "a54f9cea",
   "metadata": {},
   "outputs": [],
   "source": [
    "from sklearn.model_selection import train_test_split\n",
    "from sklearn.linear_model import LogisticRegression\n",
    "from sklearn.feature_extraction.text import TfidfVectorizer\n",
    "from sklearn.metrics import accuracy_score"
   ]
  },
  {
   "cell_type": "code",
   "execution_count": null,
   "id": "b45c1a70",
   "metadata": {},
   "outputs": [],
   "source": [
    "x_train,x_test,y_train,y_test=train_test_split(df['message'],df['label'],test_size=0.2)"
   ]
  },
  {
   "cell_type": "code",
   "execution_count": null,
   "id": "c9661bb2",
   "metadata": {},
   "outputs": [],
   "source": [
    "vector=TfidfVectorizer()"
   ]
  },
  {
   "cell_type": "code",
   "execution_count": null,
   "id": "3099a1d4",
   "metadata": {},
   "outputs": [],
   "source": [
    "x_train_tf=vector.fit_transform(x_train)"
   ]
  },
  {
   "cell_type": "code",
   "execution_count": null,
   "id": "ea3d7b88",
   "metadata": {},
   "outputs": [],
   "source": [
    "x_test_tf=vector.transform(x_test)"
   ]
  },
  {
   "cell_type": "code",
   "execution_count": null,
   "id": "e1cff3fd",
   "metadata": {},
   "outputs": [],
   "source": [
    "model=LogisticRegression()"
   ]
  },
  {
   "cell_type": "code",
   "execution_count": null,
   "id": "d652efa6",
   "metadata": {},
   "outputs": [],
   "source": [
    "model.fit(x_train_tf,y_train)"
   ]
  },
  {
   "cell_type": "code",
   "execution_count": null,
   "id": "fb408fec",
   "metadata": {},
   "outputs": [],
   "source": [
    "y_pred=model.predict(x_test_tf)\n",
    "y_pred"
   ]
  },
  {
   "cell_type": "code",
   "execution_count": null,
   "id": "0418496c",
   "metadata": {},
   "outputs": [],
   "source": [
    "\n",
    "ac=accuracy_score(y_test,y_pred)\n",
    "ac"
   ]
  },
  {
   "cell_type": "code",
   "execution_count": null,
   "id": "8f706f03",
   "metadata": {},
   "outputs": [],
   "source": [
    "# Topic Modeling using Latent Dirichlet Allocation (LDA)\n",
    "text=[\n",
    "    \"Stocks rally as tech giants report strong earnings\",\n",
    "    \"Biden meets world leaders for climate change summit\",\n",
    "    \"New COVID variant detected in Europe\",\n",
    "    \"Apple launches new AI-powered Siri\"\n",
    "]"
   ]
  },
  {
   "cell_type": "code",
   "execution_count": null,
   "id": "e68d4b00",
   "metadata": {},
   "outputs": [],
   "source": [
    "from sklearn.feature_extraction.text import CountVectorizer\n",
    "from sklearn.decomposition import LatentDirichletAllocation"
   ]
  },
  {
   "cell_type": "code",
   "execution_count": null,
   "id": "afcbe5e6",
   "metadata": {},
   "outputs": [],
   "source": [
    "vector=CountVectorizer(stop_words='english')\n",
    "dtm=vector.fit_transform(text)"
   ]
  },
  {
   "cell_type": "code",
   "execution_count": null,
   "id": "7c0dc29c",
   "metadata": {},
   "outputs": [],
   "source": [
    "lda=LatentDirichletAllocation(n_components=2,random_state=0)"
   ]
  },
  {
   "cell_type": "code",
   "execution_count": null,
   "id": "536b3abe",
   "metadata": {},
   "outputs": [],
   "source": [
    "lda.fit(dtm)"
   ]
  },
  {
   "cell_type": "code",
   "execution_count": null,
   "id": "9b6920ee",
   "metadata": {},
   "outputs": [],
   "source": [
    "for idx,topic in enumerate(lda.components_):\n",
    "    print(f\"Topic {idx}:\",[vector.get_feature_names_out()[i] for i in topic.argsort()[-5:]])"
   ]
  },
  {
   "cell_type": "code",
   "execution_count": null,
   "id": "2560afea",
   "metadata": {},
   "outputs": [],
   "source": [
    "# Build a Word Cloud from Tweets\n",
    "!pip install wordcloud\n"
   ]
  },
  {
   "cell_type": "code",
   "execution_count": null,
   "id": "0d8062c7",
   "metadata": {},
   "outputs": [],
   "source": [
    "\n",
    "from wordcloud import WordCloud\n",
    "import matplotlib.pyplot as plt"
   ]
  },
  {
   "cell_type": "code",
   "execution_count": null,
   "id": "e82786a1",
   "metadata": {},
   "outputs": [],
   "source": [
    "tweets = \"AI is transforming healthcare and finance. AI tools like ChatGPT are changing the game.\"\n",
    "tweets"
   ]
  },
  {
   "cell_type": "code",
   "execution_count": null,
   "id": "49ee5806",
   "metadata": {},
   "outputs": [],
   "source": [
    "wordcloud = WordCloud(width=600, height=300, background_color='white').generate(tweets)"
   ]
  },
  {
   "cell_type": "code",
   "execution_count": null,
   "id": "de2de4fc",
   "metadata": {},
   "outputs": [],
   "source": [
    "plt.imshow(wordcloud,interpolation='bilinear')\n",
    "plt.axis('off')\n",
    "plt.show()"
   ]
  },
  {
   "cell_type": "code",
   "execution_count": null,
   "id": "334b08e1",
   "metadata": {},
   "outputs": [],
   "source": [
    "# POS Tagging Using NLTK\n",
    "\n",
    "import nltk\n",
    "nltk.download('punkt')\n",
    "nltk.download('averaged_perceptron_tagger')"
   ]
  },
  {
   "cell_type": "code",
   "execution_count": null,
   "id": "425ee409",
   "metadata": {},
   "outputs": [],
   "source": [
    "sentence = \"Machine learning models require a lot of data to perform well.\"\n"
   ]
  },
  {
   "cell_type": "code",
   "execution_count": null,
   "id": "d6dd72f2",
   "metadata": {},
   "outputs": [],
   "source": [
    "\n",
    "tags = nltk.pos_tag(tokens)\n"
   ]
  },
  {
   "cell_type": "code",
   "execution_count": null,
   "id": "a3014e4f",
   "metadata": {},
   "outputs": [],
   "source": []
  },
  {
   "cell_type": "markdown",
   "id": "61c24634",
   "metadata": {},
   "source": [
    "## 17-04-2025"
   ]
  },
  {
   "cell_type": "code",
   "execution_count": null,
   "id": "0c816dc1",
   "metadata": {},
   "outputs": [],
   "source": [
    "# Named Entity Recognition (NER) using spaCy\n",
    "import spacy\n",
    "nlp=spacy.load('en_core_web_sm')\n",
    "text = \"Apple Inc. is looking to buy a startup in the UK for $1 billion.\""
   ]
  },
  {
   "cell_type": "code",
   "execution_count": null,
   "id": "2b032e73",
   "metadata": {},
   "outputs": [],
   "source": [
    "doc=nlp(text)\n",
    "for ent in doc.ents:\n",
    "    print(ent.text,ent.label_)"
   ]
  },
  {
   "cell_type": "code",
   "execution_count": null,
   "id": "6eb343be",
   "metadata": {},
   "outputs": [],
   "source": [
    "# Text Classification using Logistic Regression\n",
    "from sklearn.datasets import fetch_20newsgroups\n",
    "category=['rec.sport.hockey','sci.med']\n",
    "data=fetch_20newsgroups(subset='train',categories=category)\n",
    "data"
   ]
  },
  {
   "cell_type": "code",
   "execution_count": null,
   "id": "a92eaf6a",
   "metadata": {},
   "outputs": [],
   "source": [
    "from sklearn.model_selection import train_test_split\n",
    "from sklearn.linear_model import LogisticRegression\n",
    "from sklearn.feature_extraction.text import CountVectorizer\n",
    "from sklearn.metrics import classification_report"
   ]
  },
  {
   "cell_type": "code",
   "execution_count": null,
   "id": "63bbde1f",
   "metadata": {},
   "outputs": [],
   "source": [
    "x_train,x_test,y_train,y_test=train_test_split(data.data,data.target,test_size=0.2)"
   ]
  },
  {
   "cell_type": "code",
   "execution_count": null,
   "id": "7283fd97",
   "metadata": {},
   "outputs": [],
   "source": [
    "vector=CountVectorizer()\n",
    "x_train_vec=vector.fit_transform(x_train)\n",
    "x_test_vec=vector.transform(x_test)"
   ]
  },
  {
   "cell_type": "code",
   "execution_count": null,
   "id": "23bcfa79",
   "metadata": {},
   "outputs": [],
   "source": [
    "model=LogisticRegression()"
   ]
  },
  {
   "cell_type": "code",
   "execution_count": null,
   "id": "7b5e7ce5",
   "metadata": {},
   "outputs": [],
   "source": [
    "model.fit(x_train_vec,y_train)"
   ]
  },
  {
   "cell_type": "code",
   "execution_count": null,
   "id": "ee47f60c",
   "metadata": {},
   "outputs": [],
   "source": [
    "y_pred=model.predict(x_test_vec)\n",
    "y_pred"
   ]
  },
  {
   "cell_type": "code",
   "execution_count": null,
   "id": "a8ee32ea",
   "metadata": {},
   "outputs": [],
   "source": [
    "cr=classification_report(y_test,y_pred)\n",
    "cr"
   ]
  },
  {
   "cell_type": "code",
   "execution_count": null,
   "id": "3bed3204",
   "metadata": {},
   "outputs": [],
   "source": [
    "# Sentiment Analysis with VADER\n",
    "from nltk.sentiment.vader import SentimentIntensityAnalyzer\n",
    "import nltk\n",
    "nltk.download('vader_lexicon')"
   ]
  },
  {
   "cell_type": "code",
   "execution_count": null,
   "id": "fca18850",
   "metadata": {},
   "outputs": [],
   "source": [
    "sid=SentimentIntensityAnalyzer()"
   ]
  },
  {
   "cell_type": "code",
   "execution_count": null,
   "id": "54ad563e",
   "metadata": {},
   "outputs": [],
   "source": [
    "text=\"The movie was absolutely fantastic!\"\n",
    "sid.polarity_scores(text)"
   ]
  },
  {
   "cell_type": "code",
   "execution_count": null,
   "id": "f70958c6",
   "metadata": {},
   "outputs": [],
   "source": [
    "#  Topic Modeling using LDA\n",
    "\n",
    "from sklearn.feature_extraction.text import CountVectorizer\n",
    "from sklearn.decomposition import LatentDirichletAllocation"
   ]
  },
  {
   "cell_type": "code",
   "execution_count": null,
   "id": "2c2ae4dc",
   "metadata": {},
   "outputs": [],
   "source": [
    "docs = [\n",
    "    \"I love playing football.\",\n",
    "    \"Python is an awesome programming language.\",\n",
    "    \"Football players are very fit.\",\n",
    "    \"Java and Python are used in software development.\",\n",
    "    \"The World Cup is the biggest football tournament.\"\n",
    "]"
   ]
  },
  {
   "cell_type": "code",
   "execution_count": null,
   "id": "ed11c212",
   "metadata": {},
   "outputs": [],
   "source": [
    "vector=CountVectorizer()\n",
    "x=vector.fit_transform(docs)"
   ]
  },
  {
   "cell_type": "code",
   "execution_count": null,
   "id": "d5d0c8e5",
   "metadata": {},
   "outputs": [],
   "source": [
    "lda=LatentDirichletAllocation(n_components=2,random_state=0)\n",
    "lda.fit(x)"
   ]
  },
  {
   "cell_type": "code",
   "execution_count": null,
   "id": "07f9c1a1",
   "metadata": {},
   "outputs": [],
   "source": [
    "for i, topic in enumerate(lda.components_):\n",
    "    print(f\"Topic{i}\")\n",
    "    print([vector.get_feature_names_out()[index] for index in topic.argsort()[-5:]])"
   ]
  },
  {
   "cell_type": "code",
   "execution_count": null,
   "id": "41483b06",
   "metadata": {},
   "outputs": [],
   "source": [
    "#  Text Classification with TF-IDF and Logistic Regression\n",
    "import pandas as pd\n",
    "import numpy as np"
   ]
  },
  {
   "cell_type": "code",
   "execution_count": null,
   "id": "fc1f0c14",
   "metadata": {},
   "outputs": [],
   "source": [
    "data = {\n",
    "    'Review': ['Amazing movie!', 'Terrible acting', 'Loved it', 'Worst film ever', 'It was good', 'Not my type'],\n",
    "    'Sentiment': [1, 0, 1, 0, 1, 0]\n",
    "}\n",
    "df = pd.DataFrame(data)\n",
    "df"
   ]
  },
  {
   "cell_type": "code",
   "execution_count": null,
   "id": "93e68b67",
   "metadata": {},
   "outputs": [],
   "source": [
    "x_train,x_text,y_train,y_test=train_test_split(df['Review'],df['Sentiment'],test_size=0.2)"
   ]
  },
  {
   "cell_type": "code",
   "execution_count": null,
   "id": "296a46f5",
   "metadata": {},
   "outputs": [],
   "source": [
    "from sklearn.feature_extraction.text import TfidfVectorizer\n",
    "from sklearn.linear_model import LogisticRegression\n",
    "from sklearn.model_selection import train_test_split\n",
    "from sklearn.metrics import classification_report"
   ]
  },
  {
   "cell_type": "code",
   "execution_count": null,
   "id": "55d96375",
   "metadata": {},
   "outputs": [],
   "source": [
    "vector=TfidfVectorizer()\n",
    "x_train_vec=vector.fit_transform(x_train)\n",
    "x_text_vec=vector.transform(x_text)"
   ]
  },
  {
   "cell_type": "code",
   "execution_count": null,
   "id": "00bcf0b5",
   "metadata": {},
   "outputs": [],
   "source": [
    "model=LogisticRegression()"
   ]
  },
  {
   "cell_type": "code",
   "execution_count": null,
   "id": "a3380925",
   "metadata": {},
   "outputs": [],
   "source": [
    "model.fit(x_train_vec,y_train)"
   ]
  },
  {
   "cell_type": "code",
   "execution_count": null,
   "id": "9ac18022",
   "metadata": {},
   "outputs": [],
   "source": [
    "y_pred=model.predict(x_text_vec)\n",
    "y_pred"
   ]
  },
  {
   "cell_type": "code",
   "execution_count": null,
   "id": "cb8447ca",
   "metadata": {},
   "outputs": [],
   "source": [
    "cr=classification_report(y_test,y_pred)\n",
    "cr"
   ]
  },
  {
   "cell_type": "code",
   "execution_count": null,
   "id": "c476ca4d",
   "metadata": {},
   "outputs": [],
   "source": [
    "# Named Entity Recognition (NER) with spaCy\n",
    "import spacy\n",
    "nlp=spacy.load('en_core_web_sm')\n",
    "text = \"Apple Inc. was founded by Steve Jobs and is headquartered in Cupertino.\"\n",
    "doc = nlp(text)\n",
    "doc"
   ]
  },
  {
   "cell_type": "code",
   "execution_count": null,
   "id": "1f761375",
   "metadata": {},
   "outputs": [],
   "source": [
    "for ent in doc.ents:\n",
    "    print(ent.text,ent.label_)"
   ]
  },
  {
   "cell_type": "code",
   "execution_count": null,
   "id": "34cb23ca",
   "metadata": {},
   "outputs": [],
   "source": [
    "# Topic Modeling using LDA\n",
    "import pandas as pd\n",
    "from sklearn.feature_extraction.text import CountVectorizer\n",
    "from sklearn.decomposition import LatentDirichletAllocation"
   ]
  },
  {
   "cell_type": "code",
   "execution_count": null,
   "id": "d9024d3e",
   "metadata": {},
   "outputs": [],
   "source": [
    "texts = ['Elections bring new policies', 'Government releases new budget',\n",
    "         'Football match was exciting', 'Olympics are coming soon']\n",
    "texts"
   ]
  },
  {
   "cell_type": "code",
   "execution_count": null,
   "id": "1ea8b35c",
   "metadata": {},
   "outputs": [],
   "source": [
    "vector=CountVectorizer()\n",
    "x=vector.fit_transform(texts)"
   ]
  },
  {
   "cell_type": "code",
   "execution_count": null,
   "id": "cd7041a0",
   "metadata": {},
   "outputs": [],
   "source": [
    "lda=LatentDirichletAllocation(n_components=2)\n",
    "lda.fit(x)"
   ]
  },
  {
   "cell_type": "code",
   "execution_count": null,
   "id": "2c81e261",
   "metadata": {},
   "outputs": [],
   "source": [
    "for idx,topic in enumerate(lda.components_):\n",
    "    print(f\"Topic{idx}:\")\n",
    "    print([vector.get_feature_names_out()[i] for i in topic.argsort()[-5:]])"
   ]
  },
  {
   "cell_type": "code",
   "execution_count": null,
   "id": "2df1627b",
   "metadata": {},
   "outputs": [],
   "source": [
    "# Cosine Similarity Between Texts\n",
    "from sklearn.feature_extraction.text import TfidfVectorizer\n",
    "from sklearn.metrics.pairwise import cosine_similarity"
   ]
  },
  {
   "cell_type": "code",
   "execution_count": null,
   "id": "b7d0f2ef",
   "metadata": {},
   "outputs": [],
   "source": [
    "texts=[\"Data science is amazing\", \"I love machine learning\"]\n",
    "vec=TfidfVectorizer()\n",
    "tfidf=vec.fit_transform(texts)"
   ]
  },
  {
   "cell_type": "code",
   "execution_count": null,
   "id": "bb33d497",
   "metadata": {},
   "outputs": [],
   "source": [
    "similarity=cosine_similarity(tfidf[0:1],tfidf[1:2])\n",
    "print(similarity[0][0])"
   ]
  },
  {
   "cell_type": "code",
   "execution_count": null,
   "id": "1bb63f90",
   "metadata": {},
   "outputs": [],
   "source": [
    "# Text Classification with Multinomial Naive Bayes\n",
    "from sklearn.feature_extraction.text import CountVectorizer\n",
    "from sklearn.naive_bayes import MultinomialNB"
   ]
  },
  {
   "cell_type": "code",
   "execution_count": null,
   "id": "f89b344c",
   "metadata": {},
   "outputs": [],
   "source": [
    "texts = [\"I love this movie\", \"Horrible acting\", \"Great plot\", \"Terrible direction\"]\n",
    "labels = [1, 0, 1, 0]"
   ]
  },
  {
   "cell_type": "code",
   "execution_count": null,
   "id": "9a636efe",
   "metadata": {},
   "outputs": [],
   "source": [
    "vector=CountVectorizer()\n",
    "x=vector.fit_transform(texts)"
   ]
  },
  {
   "cell_type": "code",
   "execution_count": null,
   "id": "a542b7c4",
   "metadata": {},
   "outputs": [],
   "source": [
    "model=MultinomialNB()"
   ]
  },
  {
   "cell_type": "code",
   "execution_count": null,
   "id": "ce71e4c5",
   "metadata": {},
   "outputs": [],
   "source": [
    "model.fit(x,labels)"
   ]
  },
  {
   "cell_type": "code",
   "execution_count": null,
   "id": "b95c1847",
   "metadata": {},
   "outputs": [],
   "source": [
    "test=vector.transform(['Amazing director'])\n",
    "model.predict(test)"
   ]
  },
  {
   "cell_type": "code",
   "execution_count": null,
   "id": "7207cc70",
   "metadata": {},
   "outputs": [],
   "source": [
    "# Sentiment Classification with Logistic Regression\n",
    "data = {\n",
    "    'text': ['I love this phone', 'Worst experience ever', 'Amazing performance', 'Not worth the money'],\n",
    "    'label': [1, 0, 1, 0]\n",
    "}\n",
    "df=pd.DataFrame(data)\n",
    "df"
   ]
  },
  {
   "cell_type": "code",
   "execution_count": null,
   "id": "392f697d",
   "metadata": {},
   "outputs": [],
   "source": [
    "from sklearn.feature_extraction.text import CountVectorizer\n",
    "from sklearn.model_selection import train_test_split\n",
    "from sklearn.linear_model import LogisticRegression\n",
    "from sklearn.metrics import accuracy_score,confusion_matrix,classification_report"
   ]
  },
  {
   "cell_type": "code",
   "execution_count": null,
   "id": "3f6a676d",
   "metadata": {},
   "outputs": [],
   "source": [
    "vector=CountVectorizer()\n",
    "x=vector.fit_transform(df['text'])"
   ]
  },
  {
   "cell_type": "code",
   "execution_count": null,
   "id": "02583a37",
   "metadata": {},
   "outputs": [],
   "source": [
    "y=df['label']"
   ]
  },
  {
   "cell_type": "code",
   "execution_count": null,
   "id": "35be66f1",
   "metadata": {},
   "outputs": [],
   "source": [
    "x_train,x_test,y_train,y_test=train_test_split(x,y,test_size=0.2,random_state=42)"
   ]
  },
  {
   "cell_type": "code",
   "execution_count": null,
   "id": "1e1b6de6",
   "metadata": {},
   "outputs": [],
   "source": [
    "model=LogisticRegression()"
   ]
  },
  {
   "cell_type": "code",
   "execution_count": null,
   "id": "37592faf",
   "metadata": {},
   "outputs": [],
   "source": [
    "model.fit(x_train,y_train)"
   ]
  },
  {
   "cell_type": "code",
   "execution_count": null,
   "id": "a023ca63",
   "metadata": {},
   "outputs": [],
   "source": [
    "y_pred=model.predict(x_test)\n",
    "y_pred"
   ]
  },
  {
   "cell_type": "code",
   "execution_count": null,
   "id": "6a19be6d",
   "metadata": {},
   "outputs": [],
   "source": [
    "ac=accuracy_score(y_test,y_pred)\n",
    "ac"
   ]
  },
  {
   "cell_type": "code",
   "execution_count": null,
   "id": "a768f87e",
   "metadata": {},
   "outputs": [],
   "source": [
    "cm=confusion_matrix(y_test,y_pred)\n",
    "cm"
   ]
  },
  {
   "cell_type": "code",
   "execution_count": null,
   "id": "5a581b08",
   "metadata": {},
   "outputs": [],
   "source": [
    "cr=classification_report(y_test,y_pred)\n",
    "cr"
   ]
  },
  {
   "cell_type": "markdown",
   "id": "9f1a2fcb",
   "metadata": {},
   "source": [
    "## 18-04-2025"
   ]
  },
  {
   "cell_type": "code",
   "execution_count": null,
   "id": "135e9f5a",
   "metadata": {},
   "outputs": [],
   "source": [
    "!pip install -U sentence-transformers"
   ]
  },
  {
   "cell_type": "code",
   "execution_count": null,
   "id": "dbf5424c",
   "metadata": {},
   "outputs": [],
   "source": [
    "# Text Classification using TF-IDF + Logistic Regression\n",
    "texts = [\"I love this movie\", \"This was a terrible experience\", \"Amazing acting\", \"Worst plot ever\"]\n",
    "labels = [1, 0, 1, 0]"
   ]
  },
  {
   "cell_type": "code",
   "execution_count": null,
   "id": "3fdd886a",
   "metadata": {},
   "outputs": [],
   "source": [
    "from sklearn.feature_extraction.text import TfidfVectorizer\n",
    "from sklearn.linear_model import LogisticRegression\n",
    "from sklearn.model_selection import train_test_split"
   ]
  },
  {
   "cell_type": "code",
   "execution_count": null,
   "id": "b5734ee0",
   "metadata": {},
   "outputs": [],
   "source": [
    "tfidf=TfidfVectorizer()\n",
    "x=tfidf.fit_transform(texts)"
   ]
  },
  {
   "cell_type": "code",
   "execution_count": null,
   "id": "43ca3dac",
   "metadata": {},
   "outputs": [],
   "source": [
    "x_train,x_test,y_train,y_test=train_test_split(x,labels,test_size=0.2)"
   ]
  },
  {
   "cell_type": "code",
   "execution_count": null,
   "id": "b74d2640",
   "metadata": {},
   "outputs": [],
   "source": [
    "model=LogisticRegression()"
   ]
  },
  {
   "cell_type": "code",
   "execution_count": null,
   "id": "8c61c7b6",
   "metadata": {},
   "outputs": [],
   "source": [
    "model.fit(x_train,y_train)"
   ]
  },
  {
   "cell_type": "code",
   "execution_count": null,
   "id": "f0bd3777",
   "metadata": {},
   "outputs": [],
   "source": [
    "model.predict(x_test)"
   ]
  },
  {
   "cell_type": "code",
   "execution_count": null,
   "id": "51548f10",
   "metadata": {},
   "outputs": [],
   "source": [
    "# Text Classification Using Naive Bayes\n",
    "import pandas as pd\n",
    "df=pd.read_csv(r\"C:\\Users\\91805\\Downloads\\NLP\\IMDB Dataset.csv\")\n",
    "df"
   ]
  },
  {
   "cell_type": "code",
   "execution_count": null,
   "id": "93812732",
   "metadata": {},
   "outputs": [],
   "source": [
    "df['review']=df['review'].str.lower()"
   ]
  },
  {
   "cell_type": "code",
   "execution_count": null,
   "id": "8af93939",
   "metadata": {},
   "outputs": [],
   "source": [
    "import re \n",
    "def remove_html(text):\n",
    "    p=re.compile('<.*?>')\n",
    "    return p.sub('',text)\n",
    "    "
   ]
  },
  {
   "cell_type": "code",
   "execution_count": null,
   "id": "64360794",
   "metadata": {},
   "outputs": [],
   "source": [
    "df['review']=df['review'].apply(remove_html)"
   ]
  },
  {
   "cell_type": "code",
   "execution_count": null,
   "id": "b92c71a9",
   "metadata": {},
   "outputs": [],
   "source": [
    "import string\n",
    "exclude=string.punctuation"
   ]
  },
  {
   "cell_type": "code",
   "execution_count": null,
   "id": "0c064744",
   "metadata": {},
   "outputs": [],
   "source": [
    "def remove_punctuation(text):\n",
    "    for char in exclude:\n",
    "        text=text.replace(char,'')\n",
    "    return text"
   ]
  },
  {
   "cell_type": "code",
   "execution_count": null,
   "id": "9a430938",
   "metadata": {},
   "outputs": [],
   "source": [
    "df['review']=df['review'].apply(remove_punctuation)\n"
   ]
  },
  {
   "cell_type": "code",
   "execution_count": null,
   "id": "3e2c7100",
   "metadata": {},
   "outputs": [],
   "source": [
    "from sklearn.feature_extraction.text import CountVectorizer,TfidfVectorizer\n",
    "from sklearn.model_selection import train_test_split\n",
    "from sklearn.naive_bayes import MultinomialNB\n",
    "from sklearn.metrics import accuracy_score,classification_report,confusion_matrix"
   ]
  },
  {
   "cell_type": "code",
   "execution_count": null,
   "id": "059d12c7",
   "metadata": {},
   "outputs": [],
   "source": [
    "x_train,x_test,y_train,y_test=train_test_split(df['review'],df['sentiment'],test_size=0.2,random_state=42)"
   ]
  },
  {
   "cell_type": "code",
   "execution_count": null,
   "id": "db3128e9",
   "metadata": {},
   "outputs": [],
   "source": [
    "cv=CountVectorizer(stop_words='english')"
   ]
  },
  {
   "cell_type": "code",
   "execution_count": null,
   "id": "8fd604b1",
   "metadata": {},
   "outputs": [],
   "source": [
    "x_train_vec=cv.fit_transform(x_train)"
   ]
  },
  {
   "cell_type": "code",
   "execution_count": null,
   "id": "04a46658",
   "metadata": {},
   "outputs": [],
   "source": [
    "x_test_vec=cv.transform(x_test)"
   ]
  },
  {
   "cell_type": "code",
   "execution_count": null,
   "id": "a61ba323",
   "metadata": {},
   "outputs": [],
   "source": [
    "model=MultinomialNB()"
   ]
  },
  {
   "cell_type": "code",
   "execution_count": null,
   "id": "5bce861a",
   "metadata": {},
   "outputs": [],
   "source": [
    "model.fit(x_train_vec,y_train)"
   ]
  },
  {
   "cell_type": "code",
   "execution_count": null,
   "id": "e06b1d50",
   "metadata": {},
   "outputs": [],
   "source": [
    "y_pred=model.predict(x_test_vec)\n",
    "y_pred"
   ]
  },
  {
   "cell_type": "code",
   "execution_count": null,
   "id": "8cdbde88",
   "metadata": {},
   "outputs": [],
   "source": [
    "ac=accuracy_score(y_test,y_pred)\n",
    "ac"
   ]
  },
  {
   "cell_type": "code",
   "execution_count": null,
   "id": "1c52c032",
   "metadata": {},
   "outputs": [],
   "source": [
    "cm=confusion_matrix(y_test,y_pred)\n",
    "cm"
   ]
  },
  {
   "cell_type": "code",
   "execution_count": null,
   "id": "5bb4a58b",
   "metadata": {},
   "outputs": [],
   "source": [
    "cr=classification_report(y_test,y_pred)\n",
    "cr"
   ]
  },
  {
   "cell_type": "code",
   "execution_count": null,
   "id": "9d0029d0",
   "metadata": {},
   "outputs": [],
   "source": [
    "tfidf=TfidfVectorizer(stop_words='english')\n"
   ]
  },
  {
   "cell_type": "code",
   "execution_count": null,
   "id": "51397728",
   "metadata": {},
   "outputs": [],
   "source": [
    "x_train_tfidf=tfidf.fit_transform(x_train)"
   ]
  },
  {
   "cell_type": "code",
   "execution_count": null,
   "id": "332421ad",
   "metadata": {},
   "outputs": [],
   "source": [
    "x_test_tfidf=tfidf.transform(x_test)"
   ]
  },
  {
   "cell_type": "code",
   "execution_count": null,
   "id": "e6e52075",
   "metadata": {},
   "outputs": [],
   "source": [
    "model2=MultinomialNB()"
   ]
  },
  {
   "cell_type": "code",
   "execution_count": null,
   "id": "c0b3c7a3",
   "metadata": {},
   "outputs": [],
   "source": [
    "model2.fit(x_train_tfidf,y_train)"
   ]
  },
  {
   "cell_type": "code",
   "execution_count": null,
   "id": "9bab64df",
   "metadata": {},
   "outputs": [],
   "source": [
    "y_pred_tfidf=model.predict(x_test_tfidf)\n",
    "y_pred"
   ]
  },
  {
   "cell_type": "code",
   "execution_count": null,
   "id": "45e46579",
   "metadata": {},
   "outputs": [],
   "source": [
    "ac=accuracy_score(y_test,y_pred_tfidf)\n",
    "ac"
   ]
  },
  {
   "cell_type": "code",
   "execution_count": null,
   "id": "da8de155",
   "metadata": {},
   "outputs": [],
   "source": [
    "cm=confusion_matrix(y_test,y_pred_tfidf)\n",
    "cm"
   ]
  },
  {
   "cell_type": "code",
   "execution_count": null,
   "id": "b73986de",
   "metadata": {},
   "outputs": [],
   "source": [
    "cr=classification_report(y_test,y_pred_tfidf)\n",
    "cr"
   ]
  },
  {
   "cell_type": "markdown",
   "id": "2d3a2276",
   "metadata": {},
   "source": [
    "## 19-04-2025"
   ]
  },
  {
   "cell_type": "code",
   "execution_count": null,
   "id": "4667bdc7",
   "metadata": {},
   "outputs": [],
   "source": [
    "# Named Entity Recognition (NER) with spaCy\n",
    "import spacy\n",
    "nlp=spacy.load('en_core_web_sm')"
   ]
  },
  {
   "cell_type": "code",
   "execution_count": null,
   "id": "13330f81",
   "metadata": {},
   "outputs": [],
   "source": [
    "text='Apple was founded by steve jobs in Cupertino'\n",
    "doc=nlp(text)\n",
    "doc"
   ]
  },
  {
   "cell_type": "code",
   "execution_count": null,
   "id": "373ce593",
   "metadata": {},
   "outputs": [],
   "source": [
    "for ent in doc.ents:\n",
    "    print(f\"{ent.text} ({ent.label_})\")"
   ]
  },
  {
   "cell_type": "code",
   "execution_count": null,
   "id": "79dfb0bb",
   "metadata": {},
   "outputs": [],
   "source": [
    "# Word Similarity using Word2Vec\n",
    "import gensim.downloader as api"
   ]
  },
  {
   "cell_type": "code",
   "execution_count": null,
   "id": "befb64bc",
   "metadata": {},
   "outputs": [],
   "source": [
    "model = api.load(\"word2vec-google-news-300\")"
   ]
  },
  {
   "cell_type": "code",
   "execution_count": null,
   "id": "2f2e8711",
   "metadata": {},
   "outputs": [],
   "source": [
    "word1='king'\n",
    "word2='queen'"
   ]
  },
  {
   "cell_type": "code",
   "execution_count": null,
   "id": "52b4752f",
   "metadata": {},
   "outputs": [],
   "source": [
    "similarity=model.similarity(word1,word2)"
   ]
  },
  {
   "cell_type": "code",
   "execution_count": null,
   "id": "2a325e46",
   "metadata": {},
   "outputs": [],
   "source": [
    "print(f\"Similarity between '{word1}' and '{word2}': {similarity:.4f}\")"
   ]
  },
  {
   "cell_type": "code",
   "execution_count": null,
   "id": "4fa38b93",
   "metadata": {},
   "outputs": [],
   "source": [
    "#  Implement a Custom Tokenizer\n",
    "import nltk\n",
    "from nltk.corpus import stopwords\n",
    "from nltk.stem import PorterStemmer\n",
    "from nltk.tokenize import word_tokenize\n",
    "import string"
   ]
  },
  {
   "cell_type": "code",
   "execution_count": null,
   "id": "3065c4ef",
   "metadata": {},
   "outputs": [],
   "source": [
    "nltk.download('punkt')\n",
    "nltk.download('stopwords')"
   ]
  },
  {
   "cell_type": "code",
   "execution_count": null,
   "id": "52c581a9",
   "metadata": {},
   "outputs": [],
   "source": [
    "stop_words=set(stopwords.words('english'))\n",
    "stemmer=PorterStemmer()\n",
    "punctuations=set(string.punctuation)"
   ]
  },
  {
   "cell_type": "code",
   "execution_count": null,
   "id": "3c07d237",
   "metadata": {},
   "outputs": [],
   "source": [
    "def tokenize(text):\n",
    "    tokens=word_tokenize(text)\n",
    "    cleaned_tokens=[\n",
    "        stemmer.stem(word.lower())\n",
    "        for word in tokens\n",
    "        if word.lower() not in stop_words and word not in punctuations\n",
    "    ]\n",
    "    return cleaned_tokens"
   ]
  },
  {
   "cell_type": "code",
   "execution_count": null,
   "id": "3b022ef6-1d7a-42c0-804f-03284f3b38ad",
   "metadata": {},
   "outputs": [],
   "source": [
    "!pip install nltk==3.8.1"
   ]
  },
  {
   "cell_type": "code",
   "execution_count": null,
   "id": "63eaf63a",
   "metadata": {},
   "outputs": [],
   "source": [
    "from nltk.tokenize import word_tokenize\n",
    "\n",
    "text = \"This is a sample sentence\"\n",
    "tokens = word_tokenize(text)\n",
    "print(tokens)\n"
   ]
  },
  {
   "cell_type": "code",
   "execution_count": null,
   "id": "5e3ca371",
   "metadata": {},
   "outputs": [],
   "source": [
    "#  POS Tagging using spacy\n",
    "import spacy\n",
    "nlp=spacy.load('en_core_web_sm')"
   ]
  },
  {
   "cell_type": "code",
   "execution_count": null,
   "id": "e0454e16",
   "metadata": {},
   "outputs": [],
   "source": [
    "text='I love natural language processing.'\n",
    "doc=nlp(text)\n",
    "doc"
   ]
  },
  {
   "cell_type": "code",
   "execution_count": null,
   "id": "5fac76ec",
   "metadata": {},
   "outputs": [],
   "source": [
    "pos_tag=[(token.text,token.pos_) for token in doc]\n",
    "print(pos_tag)"
   ]
  },
  {
   "cell_type": "code",
   "execution_count": null,
   "id": "60a73ed0",
   "metadata": {},
   "outputs": [],
   "source": [
    "#  POS Tagging using NLTK\n",
    "import nltk\n",
    "from nltk import word_tokenize,pos_tag"
   ]
  },
  {
   "cell_type": "code",
   "execution_count": null,
   "id": "b2041ad0",
   "metadata": {},
   "outputs": [],
   "source": [
    "nltk.download('punkt')\n",
    "nltk.download('averaged_preceptron_tagger')"
   ]
  },
  {
   "cell_type": "code",
   "execution_count": null,
   "id": "09311cfd",
   "metadata": {},
   "outputs": [],
   "source": [
    "text='I love natural language processing'\n",
    "tokens=word_tokenize(text)\n",
    "pos_tag=pos_tag(tokens)\n",
    "print(pos_tag)"
   ]
  },
  {
   "cell_type": "markdown",
   "id": "c7e38bf7",
   "metadata": {},
   "source": [
    "## 20-04-2025"
   ]
  },
  {
   "cell_type": "code",
   "execution_count": null,
   "id": "93aa8a25",
   "metadata": {},
   "outputs": [],
   "source": [
    "# Sentiment Analysis with Pretrained VADER\n",
    "import pandas as pd\n",
    "import nltk\n",
    "from nltk.sentiment.vader import SentimentIntensityAnalyzer\n",
    "nltk.download('vader_lexicon')"
   ]
  },
  {
   "cell_type": "code",
   "execution_count": null,
   "id": "f1959928",
   "metadata": {},
   "outputs": [],
   "source": [
    "data = {\n",
    "    'Review': [\n",
    "        \"This product is amazing! Totally worth the price.\",\n",
    "        \"Worst experience ever. Would not recommend.\",\n",
    "        \"It's okay, does the job but nothing special.\",\n",
    "        \"Absolutely love it! Will buy again!\",\n",
    "        \"Terrible quality. Broke after a week.\",\n",
    "        \"Average product. You get what you pay for.\",\n",
    "        \"Superb! Exceeded my expectations.\",\n",
    "        \"Not bad, but delivery was late.\",\n",
    "        \"Awful customer service, very disappointed.\",\n",
    "        \"Nice design and works well. Happy with it.\"\n",
    "    ]\n",
    "}\n",
    "\n",
    "df = pd.DataFrame(data)\n",
    "df"
   ]
  },
  {
   "cell_type": "code",
   "execution_count": null,
   "id": "3783e7dc",
   "metadata": {},
   "outputs": [],
   "source": [
    "sid=SentimentIntensityAnalyzer()"
   ]
  },
  {
   "cell_type": "code",
   "execution_count": null,
   "id": "2c994752",
   "metadata": {},
   "outputs": [],
   "source": [
    "def get_sentiment(text):\n",
    "    score=sid.polarity_scores(text)['compound']\n",
    "    if score>=0.05:\n",
    "        return 'Positive'\n",
    "    elif score<= -0.05:\n",
    "        return 'Negative'\n",
    "    else:\n",
    "        return 'Neutral'"
   ]
  },
  {
   "cell_type": "code",
   "execution_count": null,
   "id": "a74ad5ae",
   "metadata": {},
   "outputs": [],
   "source": [
    "df['sentiment']=df['Review'].apply(get_sentiment)"
   ]
  },
  {
   "cell_type": "code",
   "execution_count": null,
   "id": "7bf1dad5",
   "metadata": {},
   "outputs": [],
   "source": [
    "df"
   ]
  },
  {
   "cell_type": "code",
   "execution_count": null,
   "id": "93c1a1e7",
   "metadata": {},
   "outputs": [],
   "source": [
    "# Build an Inverted Index (Like a Search Engine)\n",
    "import re\n",
    "from collections import defaultdict"
   ]
  },
  {
   "cell_type": "code",
   "execution_count": null,
   "id": "03c676c1",
   "metadata": {},
   "outputs": [],
   "source": [
    "documents = [\n",
    "    \"The sky is blue.\",\n",
    "    \"The sun is bright.\",\n",
    "    \"The sun in the blue sky is bright.\",\n",
    "    \"We can see the shining sun, the bright sun.\"\n",
    "]\n",
    "documents"
   ]
  },
  {
   "cell_type": "code",
   "execution_count": null,
   "id": "46e70612",
   "metadata": {},
   "outputs": [],
   "source": [
    "def tokenize(text):\n",
    "    text=text.lower()\n",
    "    return re.findall(r'\\b\\w+\\b',text)"
   ]
  },
  {
   "cell_type": "code",
   "execution_count": null,
   "id": "b984a5ec",
   "metadata": {},
   "outputs": [],
   "source": [
    "def build_inverted_index(docs):\n",
    "    index=defaultdict(set)\n",
    "    for i, doc in enumerate(docs):\n",
    "        words=tokenize(doc)\n",
    "        for word in words:\n",
    "            index[word].add(i)\n",
    "    return dict(index)"
   ]
  },
  {
   "cell_type": "code",
   "execution_count": null,
   "id": "19f6f1e8",
   "metadata": {},
   "outputs": [],
   "source": [
    "inverted_index=build_inverted_index(documents)\n",
    "inverted_index"
   ]
  },
  {
   "cell_type": "code",
   "execution_count": null,
   "id": "6e01488a",
   "metadata": {},
   "outputs": [],
   "source": [
    "for word, doc_ids in inverted_index.items():\n",
    "    print(f\"{word}: {sorted(doc_ids)}\")"
   ]
  },
  {
   "cell_type": "code",
   "execution_count": null,
   "id": "7b1793ba",
   "metadata": {},
   "outputs": [],
   "source": [
    "def boolean_search(query,index):\n",
    "    tokens=query.lower().split()\n",
    "    result=set()\n",
    "    if \"and\" in tokens:\n",
    "        left=index.get(tokens[0],set())\n",
    "        right=index.get(tokens[2],set())\n",
    "        result=left & right\n",
    "    elif \"or\" in tokens:\n",
    "        left=index.get(tokens[0],set())\n",
    "        right=index.get(tokens[2],set())\n",
    "        result=left | right\n",
    "    elif \"not\" in tokens:\n",
    "        universe=set(range(len(documents)))\n",
    "        term=tokens[1]\n",
    "        result=universe-index.get(term,set())\n",
    "    else:\n",
    "        result=index.get(tokens[0],set())\n",
    "    return result"
   ]
  },
  {
   "cell_type": "code",
   "execution_count": null,
   "id": "446f9daf",
   "metadata": {},
   "outputs": [],
   "source": [
    "queries = [\n",
    "    \"sun AND bright\",\n",
    "    \"sky OR sun\",\n",
    "    \"NOT blue\",\n",
    "    \"sun\",\n",
    "    \"bright AND blue\"\n",
    "]"
   ]
  },
  {
   "cell_type": "code",
   "execution_count": null,
   "id": "b21bc076",
   "metadata": {},
   "outputs": [],
   "source": [
    "for q in queries:\n",
    "    res=boolean_search(q,inverted_index)\n",
    "    print(f\"{q}: Documents {sorted(res)}\")"
   ]
  },
  {
   "cell_type": "code",
   "execution_count": null,
   "id": "01dc5e74",
   "metadata": {},
   "outputs": [],
   "source": [
    "# Implement TF-IDF from Scratch\n",
    "import numpy as np\n",
    "import pandas as pd\n",
    "import re\n",
    "import math\n",
    "from sklearn.feature_extraction.text import TfidfVectorizer\n",
    "from collections import defaultdict"
   ]
  },
  {
   "cell_type": "code",
   "execution_count": null,
   "id": "845024f2",
   "metadata": {},
   "outputs": [],
   "source": [
    "documents = [\n",
    "    \"The sky is blue.\",\n",
    "    \"The sun is bright.\",\n",
    "    \"The sun in the blue sky is bright.\",\n",
    "    \"We can see the shining sun, the bright sun.\"\n",
    "]\n",
    "# tokenizer\n",
    "def tokenize(text):\n",
    "    text=text.lower()\n",
    "    return re.findall(r'\\b\\w+\\b',text)"
   ]
  },
  {
   "cell_type": "code",
   "execution_count": null,
   "id": "fae10fa5",
   "metadata": {},
   "outputs": [],
   "source": [
    "# Build Vacubulary\n",
    "vocab=set()\n",
    "token=[]\n",
    "for doc in documents:\n",
    "    tokens=tokenize(doc)\n",
    "    token.append(tokens)\n",
    "    vocab.update(tokens)\n",
    "vocab=sorted(list(vocab))\n",
    "vocab_index={word: idx for idx,word in enumerate(vocab)}"
   ]
  },
  {
   "cell_type": "code",
   "execution_count": null,
   "id": "70e2f5ab",
   "metadata": {},
   "outputs": [],
   "source": [
    "# TF calculation\n",
    "def compute_tf(doc_tokens):\n",
    "    tf = np.zeros(len(vocab))\n",
    "    total_terms = len(doc_tokens)\n",
    "    for word in doc_tokens:\n",
    "        tf[vocab_index[word]] += 1\n",
    "    return tf / total_terms"
   ]
  },
  {
   "cell_type": "code",
   "execution_count": null,
   "id": "05a1fc8d",
   "metadata": {},
   "outputs": [],
   "source": [
    "# IDF calculation\n",
    "def compute_idf(docs):\n",
    "    N = len(docs)\n",
    "    df = np.zeros(len(vocab))\n",
    "    for tokens in docs:\n",
    "        seen = set()\n",
    "        for word in tokens:\n",
    "            if word not in seen:\n",
    "                df[vocab_index[word]] += 1\n",
    "                seen.add(word)\n",
    "    idf = np.log((N) / (1 + df)) + 1  # Smooth\n",
    "    return idf"
   ]
  },
  {
   "cell_type": "code",
   "execution_count": null,
   "id": "acf4b081",
   "metadata": {},
   "outputs": [],
   "source": [
    "tf_matrix=np.array([compute_tf(tokens) for tokens in token])\n",
    "tf_matrix"
   ]
  },
  {
   "cell_type": "code",
   "execution_count": null,
   "id": "1a7c6512",
   "metadata": {},
   "outputs": [],
   "source": [
    "idf_vector=compute_idf(token)\n",
    "idf_vector"
   ]
  },
  {
   "cell_type": "code",
   "execution_count": null,
   "id": "5dc1bcd2",
   "metadata": {},
   "outputs": [],
   "source": [
    "tfidf_matrix=tf_matrix*idf_vector\n",
    "tfidf_matrix"
   ]
  },
  {
   "cell_type": "code",
   "execution_count": null,
   "id": "ff43f105",
   "metadata": {},
   "outputs": [],
   "source": [
    "tfidf_df=pd.DataFrame(tfidf_matrix,columns=vocab)\n",
    "tfidf_df"
   ]
  },
  {
   "cell_type": "code",
   "execution_count": null,
   "id": "7ace346b",
   "metadata": {},
   "outputs": [],
   "source": [
    "vector=TfidfVectorizer()"
   ]
  },
  {
   "cell_type": "code",
   "execution_count": null,
   "id": "0eb7cc81",
   "metadata": {},
   "outputs": [],
   "source": [
    "sklearn_tfidf=vector.fit_transform(documents)\n",
    "sklearn_tfidf"
   ]
  },
  {
   "cell_type": "code",
   "execution_count": null,
   "id": "c9f4498b",
   "metadata": {},
   "outputs": [],
   "source": [
    "sklearn_df=pd.DataFrame(sklearn_tfidf.toarray(),columns=vector.get_feature_names_out())\n",
    "sklearn_df.round(3)"
   ]
  },
  {
   "cell_type": "markdown",
   "id": "aad833a3",
   "metadata": {},
   "source": [
    "## 21-04-2025"
   ]
  },
  {
   "cell_type": "code",
   "execution_count": null,
   "id": "e7027858",
   "metadata": {},
   "outputs": [],
   "source": [
    "! pip install langdetect langid"
   ]
  },
  {
   "cell_type": "code",
   "execution_count": null,
   "id": "cab386c3",
   "metadata": {},
   "outputs": [],
   "source": [
    "# Language Detection\n",
    "from langdetect import detect,DetectorFactory\n",
    "from langdetect.lang_detect_exception import LangDetectException\n",
    "import langid"
   ]
  },
  {
   "cell_type": "code",
   "execution_count": null,
   "id": "33d085df",
   "metadata": {},
   "outputs": [],
   "source": [
    "DetectorFactory.seed = 0"
   ]
  },
  {
   "cell_type": "code",
   "execution_count": null,
   "id": "1194645a",
   "metadata": {},
   "outputs": [],
   "source": [
    "sentences = [\n",
    "    \"Hello, how are you?\",                # English\n",
    "    \"Bonjour, comment ça va ?\",          # French\n",
    "    \"Hallo, wie geht es dir?\",           # German\n",
    "    \"Hola\",                              # Spanish (short)\n",
    "    \"Ciao\",                              # Italian (ambiguous)\n",
    "    \"おはよう\",                            # Japanese\n",
    "    \"Привет\",                            # Russian\n",
    "    \"Hi\",                                # English (very short)\n",
    "    \"la\",                                # Ambiguous\n",
    "]"
   ]
  },
  {
   "cell_type": "code",
   "execution_count": null,
   "id": "87ea70ea",
   "metadata": {},
   "outputs": [],
   "source": [
    "def detect_lang_langdetect(text):\n",
    "    try:\n",
    "        return detect(text)\n",
    "    except LangDetectException:\n",
    "        return \"Unknown\""
   ]
  },
  {
   "cell_type": "code",
   "execution_count": null,
   "id": "cbbd4d65",
   "metadata": {},
   "outputs": [],
   "source": [
    "def detect_lang_langid(text):\n",
    "    lang, prob = langid.classify(text)\n",
    "    return f\"{lang} ({prob:.2f})\""
   ]
  },
  {
   "cell_type": "code",
   "execution_count": null,
   "id": "a4c6d604",
   "metadata": {},
   "outputs": [],
   "source": [
    "print(\"🔍 Language Detection Results:\\n\")\n",
    "for sentence in sentences:\n",
    "    ld = detect_lang_langdetect(sentence)\n",
    "    li = detect_lang_langid(sentence)\n",
    "    print(f\"Text: {sentence}\")\n",
    "    print(f\" - langdetect: {ld}\")\n",
    "    print(f\" - langid    : {li}\\n\")"
   ]
  },
  {
   "cell_type": "code",
   "execution_count": null,
   "id": "86d138a9",
   "metadata": {},
   "outputs": [],
   "source": [
    "# Language Detection\n",
    "from langdetect import detect,DetectorFactory\n",
    "from langdetect.lang_detect_exception import LangDetectException\n",
    "import langid"
   ]
  },
  {
   "cell_type": "code",
   "execution_count": null,
   "id": "d6b3196a",
   "metadata": {},
   "outputs": [],
   "source": [
    "DetectorFactory.seed = 0"
   ]
  },
  {
   "cell_type": "code",
   "execution_count": null,
   "id": "2d1fd74d",
   "metadata": {},
   "outputs": [],
   "source": [
    "sentences = [\n",
    "    \"Hello, how are you?\",                # English\n",
    "    \"Bonjour, comment ça va ?\",          # French\n",
    "    \"Hallo, wie geht es dir?\",           # German\n",
    "    \"Hola\",                              # Spanish (short)\n",
    "    \"Ciao\",                              # Italian (ambiguous)\n",
    "    \"おはよう\",                            # Japanese\n",
    "    \"Привет\",                            # Russian\n",
    "    \"Hi\",                                # English (very short)\n",
    "    \"la\",                                # Ambiguous\n",
    "]"
   ]
  },
  {
   "cell_type": "code",
   "execution_count": null,
   "id": "78db3fc5",
   "metadata": {},
   "outputs": [],
   "source": [
    "def detect_lang_langdetect(text):\n",
    "    try:\n",
    "        return detect(text)\n",
    "    except LangDetectException:\n",
    "        return \"Unknown\""
   ]
  },
  {
   "cell_type": "code",
   "execution_count": null,
   "id": "93a31aaf",
   "metadata": {},
   "outputs": [],
   "source": [
    "def detect_lang_langid(text):\n",
    "    lang, prob = langid.classify(text)\n",
    "    return f\"{lang} ({prob:.2f})\""
   ]
  },
  {
   "cell_type": "code",
   "execution_count": null,
   "id": "2c21f40f",
   "metadata": {},
   "outputs": [],
   "source": [
    "print(\"🔍 Language Detection Results:\\n\")\n",
    "for sentence in sentences:\n",
    "    ld = detect_lang_langdetect(sentence)\n",
    "    li = detect_lang_langid(sentence)\n",
    "    print(f\"Text: {sentence}\")\n",
    "    print(f\" - langdetect: {ld}\")\n",
    "    print(f\" - langid    : {li}\\n\")"
   ]
  },
  {
   "cell_type": "markdown",
   "id": "b9ec1c2b",
   "metadata": {},
   "source": [
    "## 23-04-2025"
   ]
  },
  {
   "cell_type": "code",
   "execution_count": null,
   "id": "07e7f7f2",
   "metadata": {},
   "outputs": [],
   "source": [
    "# N-gram Generator\n",
    "def generator_ngrams(text,n):\n",
    "    tokens=text.strip().split()\n",
    "    ngrams=[]\n",
    "    for i in range(len(tokens)-n+1):\n",
    "        ngram=tuple(tokens[i:i+n])\n",
    "        ngrams.append(ngram)\n",
    "    return ngrams\n",
    "generator_ngrams('Natural language processing is fun',3)"
   ]
  },
  {
   "cell_type": "code",
   "execution_count": null,
   "id": "cfad9b71",
   "metadata": {},
   "outputs": [],
   "source": [
    "# Word Frequency Visualizer\n",
    "def word_freq(text):\n",
    "    words=text.split()\n",
    "    freq={}\n",
    "    for i in words:\n",
    "        if i in freq:\n",
    "            freq[i]+=1\n",
    "        else:\n",
    "            freq[i]=1\n",
    "    return freq\n",
    "word_freq(\"Natural Language Processing is fun. Language is powerful. Processing text with code is interesting and fun.\")"
   ]
  },
  {
   "cell_type": "code",
   "execution_count": null,
   "id": "ecee3d88",
   "metadata": {},
   "outputs": [],
   "source": [
    "import matplotlib.pyplot as plt\n",
    "def word_frequency(text):\n",
    "    words=text.split()\n",
    "    freq={}\n",
    "    for i in words:\n",
    "        freq[i]=freq.get(i,0)+1\n",
    "    top_words=sorted(freq.items(),key=lambda x: x[1],reverse=True)[:10]\n",
    "    words,counts=zip(*top_words)\n",
    "    \n",
    "    plt.figure(figsize=(10,5))\n",
    "    plt.bar(words,counts,color='skyblue')\n",
    "    plt.title('top 10 most frequent words')\n",
    "    plt.xlabel('words')\n",
    "    plt.ylabel('frequency')\n",
    "    plt.xticks(rotation=45)\n",
    "    plt.tight_layout()\n",
    "    plt.show()\n",
    "    return freq\n",
    "\n",
    "word_frequency(\"Natural Language Processing is fun. Language is powerful. Processing text with code is interesting and fun.\")\n"
   ]
  },
  {
   "cell_type": "code",
   "execution_count": null,
   "id": "6b76633a",
   "metadata": {},
   "outputs": [],
   "source": [
    "# Word Frequency Visualizer\n",
    "def word_freq(text):\n",
    "    words=text.split()\n",
    "    freq={}\n",
    "    for i in words:\n",
    "        if i in freq:\n",
    "            freq[i]+=1\n",
    "        else:\n",
    "            freq[i]=1\n",
    "    top_words = sorted(freq.items(), key=lambda x: x[1], reverse=True)[:10]\n",
    "    words,counts = zip(*top_words)\n",
    "    plt.figure(figsize=(10, 5))\n",
    "    plt.bar(words, counts, color='skyblue')\n",
    "    plt.title(\"Top 10 Most Frequent Words\")\n",
    "    plt.xlabel(\"Words\")\n",
    "    plt.ylabel(\"Frequency\")\n",
    "    plt.xticks(rotation=45)\n",
    "    plt.tight_layout()\n",
    "    plt.show()\n",
    "    return freq\n",
    "word_freq(\"Natural Language Processing is fun. Language is powerful. Processing text with code is interesting and fun.\")\n"
   ]
  },
  {
   "cell_type": "code",
   "execution_count": null,
   "id": "51170f87",
   "metadata": {},
   "outputs": [],
   "source": [
    "def word_freq(text):\n",
    "    words=text.split()\n",
    "    freq={}\n",
    "    for i in words:\n",
    "        if i in freq:\n",
    "            freq[i]+=1\n",
    "        else:\n",
    "            freq[i]=1\n",
    "    items = list(freq.items())\n",
    "\n",
    "# Sort the list by count in descending order\n",
    "    for i in range(len(items)):\n",
    "        for j in range(i + 1, len(items)):\n",
    "            if items[i][1] < items[j][1]:\n",
    "                items[i], items[j] = items[j], items[i]\n",
    "    return items\n",
    "word_freq(\"Natural Language Processing is fun. Language is powerful. Processing text with code is interesting and fun.\")\n"
   ]
  },
  {
   "cell_type": "code",
   "execution_count": null,
   "id": "6caebd91",
   "metadata": {},
   "outputs": [],
   "source": [
    "# Custom Rule-Based NER\n",
    "import re\n",
    "def custom_ner(text):\n",
    "    date_pattern=r'\\b\\d{1,2}[-/]\\d{1,2}[-/]\\d{2,4}\\b'\n",
    "    dates=re.findall(date_pattern,text)\n",
    "    price_pattern = r'[\\$₹]\\s?\\d+(?:,\\d{3})*(?:\\.\\d+)?|\\d+\\s?(USD|INR|Rs|rupees|dollars)'\n",
    "    prices = re.findall(price_pattern, text)\n",
    "    location_keywords = ['in', 'at', 'from', 'to']\n",
    "    location_pattern = r'\\b(?:' + '|'.join(location_keywords) + r')\\s+([A-Z][a-zA-Z]+)'\n",
    "    locations = re.findall(location_pattern, text)\n",
    "    return {\n",
    "        'dates': dates,\n",
    "        'prices': prices,\n",
    "        'locations': locations\n",
    "    }\n",
    "custom_ner('The event is on 25/04/2025 at New York. Tickets cost $150 or 120 USD. Another show on 12-05-2025 in London.')\n"
   ]
  },
  {
   "cell_type": "code",
   "execution_count": null,
   "id": "a9a7bad3",
   "metadata": {},
   "outputs": [],
   "source": [
    "#  Text Generation Using Markov Chains\n",
    "import random\n",
    "def build_markov_chain(text,n):\n",
    "    words=text.split()\n",
    "    markov_chain={}\n",
    "    for i in range(len(words)-n):\n",
    "        key=tuple(words[i:i+n])\n",
    "        next_word=words[i+n]\n",
    "        if key not in markov_chain:\n",
    "            markov_chain[key]=[]\n",
    "        markov_chain[key].append(next_word)\n",
    "    return markov_chain\n",
    "build_markov_chain(\"Natural language processing is fun and natural language is powerful. Language models learn from text data.\",2)\n"
   ]
  },
  {
   "cell_type": "code",
   "execution_count": null,
   "id": "31f9d61b",
   "metadata": {},
   "outputs": [],
   "source": [
    "#  Text Generation Using Markov Chains\n",
    "import random\n",
    "def build_markov_chain(text,n):\n",
    "    words=text.split()\n",
    "    markov_chain={}\n",
    "    for i in range(len(words)-n):\n",
    "        key=tuple(words[i:i+n])\n",
    "        next_word=words[i+n]\n",
    "        if key not in markov_chain:\n",
    "            markov_chain[key]=[]\n",
    "        markov_chain[key].append(next_word)\n",
    "    return markov_chain\n",
    "\n",
    "def generate_text(chain,n,length=20):\n",
    "    start=random.choice(list(chain.keys()))\n",
    "    output=list(start)\n",
    "    for _ in range(length-n):\n",
    "        current=tuple(output[-n:])\n",
    "        next_words=chain.get(current)\n",
    "        if not next_words:\n",
    "            break\n",
    "        next_word=random.choice(next_words)\n",
    "        output.append(next_word)\n",
    "    return ' '.join(output)\n",
    "text=\"Natural language processing is fun and natural language is powerful. Language models learn from text data.\"\n",
    "n=2\n",
    "chain=build_markov_chain(text,n)\n",
    "generated_text=generate_text(chain,n,length=25)\n",
    "generated_text"
   ]
  },
  {
   "cell_type": "code",
   "execution_count": null,
   "id": "dc5d91f4",
   "metadata": {},
   "outputs": [],
   "source": [
    "from IPython.display import Markdown, display\n",
    "display(Markdown(f\"**{generated_text}**\"))\n"
   ]
  },
  {
   "cell_type": "code",
   "execution_count": null,
   "id": "01f1292b",
   "metadata": {},
   "outputs": [],
   "source": [
    "# Compare Similarity Between Sentences\n",
    "\n",
    "from sklearn.feature_extraction.text import TfidfVectorizer\n",
    "from sklearn.metrics.pairwise import cosine_similarity\n",
    "\n",
    "def find_most_similar_sentence(p,query):\n",
    "    sent=p.split('. ')\n",
    "    cleaned_sent=[]\n",
    "    for s in sent:\n",
    "        if s:\n",
    "            cleaned_sent.append(s.strip())\n",
    "    sent=cleaned_sent\n",
    "    corpus=sent+[query]\n",
    "    vector=TfidfVectorizer()\n",
    "    tfidf=vector.fit_transform(corpus)\n",
    "    cosine=cosine_similarity(tfidf[-1],tfidf[:-1])\n",
    "    most_similar=cosine.argmax()\n",
    "    return sent[most_similar],cosine[0][most_similar]\n",
    "find_most_similar_sentence(\"Natural language processing is a subfield of AI. It deals with text data. Machine learning models learn patterns from data. NLP is fun and useful.\", \"I enjoy working with text data.\")\n"
   ]
  },
  {
   "cell_type": "markdown",
   "id": "b8aabb33-9adf-4a6f-b36a-36f2cd1a7d06",
   "metadata": {},
   "source": [
    "## 25-04-2025"
   ]
  },
  {
   "cell_type": "code",
   "execution_count": null,
   "id": "9e125699-d040-4346-9495-16db3f0030e0",
   "metadata": {},
   "outputs": [],
   "source": [
    "# Text Classification with Naive Bayes\n",
    "import pandas as pd\n",
    "from sklearn.model_selection import train_test_split\n",
    "from sklearn.feature_extraction.text import CountVectorizer\n",
    "from sklearn.naive_bayes import MultinomialNB\n",
    "from sklearn.metrics import accuracy_score"
   ]
  },
  {
   "cell_type": "code",
   "execution_count": null,
   "id": "111ed542-ba5f-451c-a0eb-f1a07f40b258",
   "metadata": {},
   "outputs": [],
   "source": [
    "url = \"https://raw.githubusercontent.com/justmarkham/pycon-2016-tutorial/master/data/sms.tsv\"\n",
    "df = pd.read_csv(url, sep='\\t', names=[\"label\", \"message\"])"
   ]
  },
  {
   "cell_type": "code",
   "execution_count": null,
   "id": "bd216e2d-0de8-46c6-8c6c-aabc264ff6dd",
   "metadata": {},
   "outputs": [],
   "source": [
    "df"
   ]
  },
  {
   "cell_type": "code",
   "execution_count": null,
   "id": "494449b5-7a36-489b-9e72-a6df233ce02e",
   "metadata": {},
   "outputs": [],
   "source": [
    "x=df['message']\n",
    "y=df['label']"
   ]
  },
  {
   "cell_type": "code",
   "execution_count": null,
   "id": "b069a72c-f3f8-43d9-aa82-b25791d156d9",
   "metadata": {},
   "outputs": [],
   "source": [
    "vector=CountVectorizer()"
   ]
  },
  {
   "cell_type": "code",
   "execution_count": null,
   "id": "1cf27498-4504-4615-8200-1c01ce0a154d",
   "metadata": {},
   "outputs": [],
   "source": [
    "x_vec=vector.fit_transform(x)"
   ]
  },
  {
   "cell_type": "code",
   "execution_count": null,
   "id": "31b51898-753f-4163-9ca9-59c648626345",
   "metadata": {},
   "outputs": [],
   "source": [
    "x_train,x_test,y_train,y_test=train_test_split(x_vec,y,test_size=0.3,random_state=42)"
   ]
  },
  {
   "cell_type": "code",
   "execution_count": null,
   "id": "0f4734ed-9f84-4fe4-a2c9-68b1a5a3e89c",
   "metadata": {},
   "outputs": [],
   "source": [
    "model=MultinomialNB()"
   ]
  },
  {
   "cell_type": "code",
   "execution_count": null,
   "id": "2015d80d-d042-4698-908a-bc3b4bd7d469",
   "metadata": {},
   "outputs": [],
   "source": [
    "model.fit(x_train,y_train)"
   ]
  },
  {
   "cell_type": "code",
   "execution_count": null,
   "id": "1388f38e-58af-41db-894c-32bf9a6f31b0",
   "metadata": {},
   "outputs": [],
   "source": [
    "y_pred=model.predict(x_test)\n",
    "y_pred"
   ]
  },
  {
   "cell_type": "code",
   "execution_count": null,
   "id": "019e79ec-5abb-41de-9324-b72033c9000b",
   "metadata": {},
   "outputs": [],
   "source": [
    "ac=accuracy_score(y_test,y_pred)\n",
    "ac"
   ]
  },
  {
   "cell_type": "code",
   "execution_count": null,
   "id": "a4d8ce1e-b566-4c02-91cb-2529444bcafb",
   "metadata": {},
   "outputs": [],
   "source": [
    "# Named Entity Recognition using spaCy\n",
    "import spacy\n",
    "nlp=spacy.load(\"en_core_web_sm\")\n",
    "text=\"Apple is looking at buying U.K startup for $1 billion\"\n",
    "doc=nlp(text)"
   ]
  },
  {
   "cell_type": "code",
   "execution_count": null,
   "id": "2554dc71-7a60-4260-bf5e-ffd326724d00",
   "metadata": {},
   "outputs": [],
   "source": [
    "doc"
   ]
  },
  {
   "cell_type": "code",
   "execution_count": null,
   "id": "4c34eead-508c-47be-a1cb-97f50986b7e2",
   "metadata": {},
   "outputs": [],
   "source": [
    "for i in doc.ents:\n",
    "    print(i.text,\"-\",i.label_)"
   ]
  },
  {
   "cell_type": "code",
   "execution_count": null,
   "id": "e956c234-19e0-419f-8728-10d57a3739d5",
   "metadata": {},
   "outputs": [],
   "source": [
    "# TF-IDF Feature Extraction\n",
    "from sklearn.feature_extraction.text import TfidfVectorizer\n",
    "corpus=[\n",
    "    \"I love NLP\",\n",
    "    \"NLP is fun and exciting\",\n",
    "    \"NLP helps machines understand language\"\n",
    "]\n"
   ]
  },
  {
   "cell_type": "code",
   "execution_count": null,
   "id": "117fea71-a6e0-46d7-85bf-9aa3412bc86f",
   "metadata": {},
   "outputs": [],
   "source": [
    "vector=TfidfVectorizer()"
   ]
  },
  {
   "cell_type": "code",
   "execution_count": null,
   "id": "15f13ac1-9434-4160-83f6-31241ac69fc5",
   "metadata": {},
   "outputs": [],
   "source": [
    "x=vector.fit_transform(corpus)"
   ]
  },
  {
   "cell_type": "code",
   "execution_count": null,
   "id": "6742fd96-e112-4dce-abfe-acc91ff4e63b",
   "metadata": {},
   "outputs": [],
   "source": [
    "df=pd.DataFrame(x.toarray(),columns=vector.get_feature_names_out())\n",
    "df"
   ]
  },
  {
   "cell_type": "code",
   "execution_count": null,
   "id": "ce43fda5-bf6b-4b51-a7d2-73409b878c8e",
   "metadata": {},
   "outputs": [],
   "source": [
    "# Sentiment Analysis using VADER\n",
    "from nltk.sentiment import SentimentIntensityAnalyzer\n",
    "import nltk\n",
    "nltk.download('vader_lexicon')"
   ]
  },
  {
   "cell_type": "code",
   "execution_count": null,
   "id": "de0f321c-f1aa-43b2-8de8-b658a3bd4166",
   "metadata": {},
   "outputs": [],
   "source": [
    "sia=SentimentIntensityAnalyzer()\n",
    "text=\"I absolutely love this new phone . it is fantastic\""
   ]
  },
  {
   "cell_type": "code",
   "execution_count": null,
   "id": "3366a744-8525-4bc7-8449-5dbfcd1984be",
   "metadata": {},
   "outputs": [],
   "source": [
    "score=sia.polarity_scores(text)\n",
    "score"
   ]
  },
  {
   "cell_type": "markdown",
   "id": "b75ec54a-191c-4b98-844e-24041559a132",
   "metadata": {},
   "source": [
    "## 26-04-2025"
   ]
  },
  {
   "cell_type": "code",
   "execution_count": null,
   "id": "7950b6d1-8b95-4374-af9f-3169dc1d1f21",
   "metadata": {},
   "outputs": [],
   "source": [
    "# Tokenization and Lemmatization(spacy)\n",
    "import spacy\n",
    "nlp=spacy.load(\"en_core_web_sm\")\n",
    "text='The striped bats are hanging on their feet for best'\n",
    "doc=nlp(text)\n",
    "for token in doc:\n",
    "    print(token.text)\n",
    "    print('Tokenization and Lemmatization')\n",
    "    print(token.lemma_)"
   ]
  },
  {
   "cell_type": "code",
   "execution_count": null,
   "id": "850f8269-a375-49a7-b140-362a1759a1a3",
   "metadata": {},
   "outputs": [],
   "source": [
    "# POS Tagging (Part of Speech)\n",
    "\n",
    "text=\"The quick brown fox jumps over the lazy dog\"\n",
    "doc=nlp(text)\n",
    "doc"
   ]
  },
  {
   "cell_type": "code",
   "execution_count": null,
   "id": "e75c3612-9fc2-4618-9e23-ccdb5cdd8508",
   "metadata": {},
   "outputs": [],
   "source": [
    "for token in doc:\n",
    "    print(f\"{token.text}-->{token.pos_}\")"
   ]
  },
  {
   "cell_type": "code",
   "execution_count": null,
   "id": "b49e8f11-96aa-4b4c-8621-bfded7fdbb40",
   "metadata": {},
   "outputs": [],
   "source": [
    "# Bag of Words with Scikit-learn\n",
    "from sklearn.feature_extraction.text import CountVectorizer\n",
    "\n",
    "text=['NLP is fun','I love working on NLP projects']\n",
    "vector=CountVectorizer()\n",
    "x=vector.fit_transform(text)\n",
    "print(vector.get_feature_names_out())\n",
    "print(x.toarray())"
   ]
  },
  {
   "cell_type": "code",
   "execution_count": null,
   "id": "16d41fe7-2876-4bfc-ade5-cfafd312d4f1",
   "metadata": {},
   "outputs": [],
   "source": [
    "import nltk\n",
    "from nltk.tokenize import TreebankWordTokenizer\n",
    "from collections import Counter\n",
    "\n",
    "text = \"This is a sample sentence for testing tokenization.\"\n",
    "\n",
    "tokenizer = TreebankWordTokenizer()\n",
    "words = tokenizer.tokenize(text)\n",
    "word_freq = Counter(words)\n",
    "\n",
    "print(word_freq)\n"
   ]
  },
  {
   "cell_type": "code",
   "execution_count": null,
   "id": "0b40ee7a-dd37-4d8a-be8e-fc636b2e511b",
   "metadata": {},
   "outputs": [],
   "source": [
    "def word_freq(text):\n",
    "    word=text.split()\n",
    "    d={}\n",
    "    for char in word:\n",
    "        if char in d:\n",
    "            d[char]+=1\n",
    "        else:\n",
    "            d[char]=1\n",
    "    return d\n",
    "word_freq(\"This is a sample sentence for testing tokenization.\")"
   ]
  },
  {
   "cell_type": "code",
   "execution_count": null,
   "id": "f87d5534-8e58-45b8-ae0a-87576dc09686",
   "metadata": {},
   "outputs": [],
   "source": [
    "#  Topic Modeling with LDA \n",
    "from sklearn.feature_extraction.text import CountVectorizer\n",
    "from sklearn.decomposition import LatentDirichletAllocation\n",
    "docs = [\"I love playing football\", \"Football is a great sport\", \"I love cooking and making food\", \"Cooking is my passion\"]\n",
    "vector=CountVectorizer()\n",
    "x=vector.fit_transform(docs)"
   ]
  },
  {
   "cell_type": "code",
   "execution_count": null,
   "id": "6dbcd22f-c14e-405b-9ecf-560dfcf51107",
   "metadata": {},
   "outputs": [],
   "source": [
    "lda=LatentDirichletAllocation(n_components=2,random_state=42)\n",
    "lda.fit(x)"
   ]
  },
  {
   "cell_type": "code",
   "execution_count": null,
   "id": "a12dc84c-28de-40ca-9580-7375d041d4eb",
   "metadata": {},
   "outputs": [],
   "source": [
    "for idx,topic in enumerate(lda.components_):\n",
    "    print(f\"Topic {idx}:\", [vector.get_feature_names_out()[i] for i in topic.argsort()[-3:]])"
   ]
  },
  {
   "cell_type": "code",
   "execution_count": null,
   "id": "eef0aea0-b443-4764-9eec-65ef095c7df9",
   "metadata": {},
   "outputs": [],
   "source": [
    "#  Language Detection\n",
    "from langdetect import detect\n",
    "text=\"Bonjour, comment ça va?\"\n",
    "print(detect(text))"
   ]
  },
  {
   "cell_type": "code",
   "execution_count": null,
   "id": "757fce66-8d28-4088-a473-1c4b3324f83c",
   "metadata": {},
   "outputs": [],
   "source": [
    "from langdetect import detect\n",
    "\n",
    "text = \"Ciao, come stai?\"\n",
    "print(detect(text))  # Output: 'it' (Italian)\n"
   ]
  },
  {
   "cell_type": "code",
   "execution_count": null,
   "id": "5c0da752-d6c1-4842-84e5-8c65007e0139",
   "metadata": {},
   "outputs": [],
   "source": [
    "from langdetect import detect\n",
    "\n",
    "text = \"Quiero ir al cine.\"\n",
    "print(detect(text))  # Output: 'it' (Italian)\n"
   ]
  },
  {
   "cell_type": "code",
   "execution_count": null,
   "id": "24c34a9f-6d1a-4b80-81f0-a2450ba79f79",
   "metadata": {},
   "outputs": [],
   "source": [
    "print('hello world')"
   ]
  },
  {
   "cell_type": "markdown",
   "id": "02a1470d-64ff-4a8d-800c-b969bb2876d2",
   "metadata": {},
   "source": [
    "## 28-04-2025"
   ]
  },
  {
   "cell_type": "code",
   "execution_count": null,
   "id": "04aa0502-bba0-4bf8-8543-3ed41c506e47",
   "metadata": {},
   "outputs": [],
   "source": [
    "#  POS Tagging (Part of Speech)\n",
    "\n",
    "text=\"The quick brown fox jumps over the lazy dog\"\n",
    "doc=nlp(text)\n",
    "for token in doc:\n",
    "    print(f\"{token.text}-->{token.pos_}\")"
   ]
  },
  {
   "cell_type": "code",
   "execution_count": null,
   "id": "18e25e70-446b-41ff-9612-ac182bf0a764",
   "metadata": {},
   "outputs": [],
   "source": [
    "# Text Similarity using Cosine Similarity\n",
    "\n",
    "from sklearn.feature_extraction.text import TfidfVectorizer\n",
    "from sklearn.metrics.pairwise import cosine_similarity\n",
    "\n",
    "text1=\"i love machine learning\"\n",
    "text2=\"Machine learning is amazing\"\n",
    "\n",
    "vector=TfidfVectorizer()\n",
    "tfidf=vector.fit_transform([text1,text2])\n",
    "\n",
    "similarity=cosine_similarity(tfidf[0:1],tfidf[1:2])\n",
    "print(similarity)\n",
    "print(similarity[0][0])"
   ]
  },
  {
   "cell_type": "code",
   "execution_count": null,
   "id": "8463e144-edf1-4a37-a97f-5ddfe3f18205",
   "metadata": {},
   "outputs": [],
   "source": [
    "# Building a Word Cloud\n",
    "\n",
    "from wordcloud import WordCloud\n",
    "import matplotlib.pyplot as plt\n",
    "\n",
    "text = \"NLP Deep Learning Machine Learning AI\"\n",
    "wordcloud = WordCloud(width=800, height=400).generate(text)"
   ]
  },
  {
   "cell_type": "code",
   "execution_count": null,
   "id": "ccf045e9-84d4-4348-8723-98e42fc939f5",
   "metadata": {},
   "outputs": [],
   "source": [
    "plt.figure(figsize=(10,5)) # 'auto', 'nearest', 'bilinear','bicubic', 'spline16', 'spline36', 'hanning'\n",
    "plt.imshow(wordcloud,interpolation='bilinear')\n",
    "plt.axis=('off')\n",
    "plt.show()"
   ]
  },
  {
   "cell_type": "code",
   "execution_count": null,
   "id": "d81e2c04-ffb6-4285-9949-9402f545d47a",
   "metadata": {},
   "outputs": [],
   "source": [
    "from transformers import pipeline\n",
    "\n",
    "generator = pipeline('text-generation', model='gpt2', framework='pt')\n",
    "text = generator(\"Once upon a time,\", max_length=50, num_return_sequences=1)\n",
    "\n",
    "print(text[0]['generated_text'])\n"
   ]
  },
  {
   "cell_type": "markdown",
   "id": "824aed2f-ac81-4841-8cfe-41a002fc967b",
   "metadata": {},
   "source": [
    "## 29-04-2025"
   ]
  },
  {
   "cell_type": "code",
   "execution_count": 2,
   "id": "2515fa15-a9dd-4f0b-b1fa-383721f7d8fe",
   "metadata": {},
   "outputs": [
    {
     "name": "stdout",
     "output_type": "stream",
     "text": [
      "Apple => ORG\n",
      "Bangalore => PERSON\n",
      "December 2025 => DATE\n"
     ]
    }
   ],
   "source": [
    "# Named Entity Recognition (NER) using spaCy\n",
    "import spacy\n",
    "\n",
    "# Load the small English model\n",
    "nlp = spacy.load('en_core_web_sm')\n",
    "\n",
    "# Sample text\n",
    "text = \"Apple is planning to open a new office in Bangalore by December 2025.\"\n",
    "\n",
    "# Process the text\n",
    "doc = nlp(text)\n",
    "\n",
    "# Extract entities\n",
    "for ent in doc.ents:\n",
    "    print(ent.text, \"=>\", ent.label_)\n"
   ]
  },
  {
   "cell_type": "code",
   "execution_count": 4,
   "id": "1cb61944-b32a-4590-88aa-d005dd8a5418",
   "metadata": {},
   "outputs": [
    {
     "name": "stdout",
     "output_type": "stream",
     "text": [
      "Collecting textblob\n",
      "  Obtaining dependency information for textblob from https://files.pythonhosted.org/packages/1e/d6/40aa5aead775582ea0cf35870e5a3f16fab4b967f1ad2debe675f673f923/textblob-0.19.0-py3-none-any.whl.metadata\n",
      "  Downloading textblob-0.19.0-py3-none-any.whl.metadata (4.4 kB)\n",
      "Collecting nltk>=3.9 (from textblob)\n",
      "  Obtaining dependency information for nltk>=3.9 from https://files.pythonhosted.org/packages/4d/66/7d9e26593edda06e8cb531874633f7c2372279c3b0f46235539fe546df8b/nltk-3.9.1-py3-none-any.whl.metadata\n",
      "  Downloading nltk-3.9.1-py3-none-any.whl.metadata (2.9 kB)\n",
      "Requirement already satisfied: click in c:\\users\\91805\\anaconda3\\lib\\site-packages (from nltk>=3.9->textblob) (8.1.8)\n",
      "Requirement already satisfied: joblib in c:\\users\\91805\\anaconda3\\lib\\site-packages (from nltk>=3.9->textblob) (1.4.2)\n",
      "Requirement already satisfied: regex>=2021.8.3 in c:\\users\\91805\\anaconda3\\lib\\site-packages (from nltk>=3.9->textblob) (2024.11.6)\n",
      "Requirement already satisfied: tqdm in c:\\users\\91805\\anaconda3\\lib\\site-packages (from nltk>=3.9->textblob) (4.67.1)\n",
      "Requirement already satisfied: colorama in c:\\users\\91805\\anaconda3\\lib\\site-packages (from click->nltk>=3.9->textblob) (0.4.6)\n",
      "Downloading textblob-0.19.0-py3-none-any.whl (624 kB)\n",
      "   ---------------------------------------- 0.0/624.3 kB ? eta -:--:--\n",
      "   ---------------------------------------- 0.0/624.3 kB ? eta -:--:--\n",
      "   - ------------------------------------- 30.7/624.3 kB 660.6 kB/s eta 0:00:01\n",
      "   --------- ------------------------------ 143.4/624.3 kB 1.4 MB/s eta 0:00:01\n",
      "   ----------------- ---------------------- 276.5/624.3 kB 1.9 MB/s eta 0:00:01\n",
      "   ------------------------ --------------- 389.1/624.3 kB 2.2 MB/s eta 0:00:01\n",
      "   ---------------------------------- ----- 532.5/624.3 kB 2.2 MB/s eta 0:00:01\n",
      "   ---------------------------------------- 624.3/624.3 kB 2.3 MB/s eta 0:00:00\n",
      "Downloading nltk-3.9.1-py3-none-any.whl (1.5 MB)\n",
      "   ---------------------------------------- 0.0/1.5 MB ? eta -:--:--\n",
      "   -- ------------------------------------- 0.1/1.5 MB 3.3 MB/s eta 0:00:01\n",
      "   -------- ------------------------------- 0.3/1.5 MB 3.8 MB/s eta 0:00:01\n",
      "   ---------- ----------------------------- 0.4/1.5 MB 2.7 MB/s eta 0:00:01\n",
      "   ------------- -------------------------- 0.5/1.5 MB 2.6 MB/s eta 0:00:01\n",
      "   ---------------- ----------------------- 0.6/1.5 MB 2.9 MB/s eta 0:00:01\n",
      "   ------------------- -------------------- 0.7/1.5 MB 2.6 MB/s eta 0:00:01\n",
      "   ---------------------- ----------------- 0.9/1.5 MB 2.7 MB/s eta 0:00:01\n",
      "   ---------------------- ----------------- 0.9/1.5 MB 2.7 MB/s eta 0:00:01\n",
      "   --------------------------- ------------ 1.0/1.5 MB 2.5 MB/s eta 0:00:01\n",
      "   ----------------------------- ---------- 1.1/1.5 MB 2.3 MB/s eta 0:00:01\n",
      "   -------------------------------- ------- 1.2/1.5 MB 2.4 MB/s eta 0:00:01\n",
      "   ----------------------------------- ---- 1.3/1.5 MB 2.4 MB/s eta 0:00:01\n",
      "   ---------------------------------------  1.5/1.5 MB 2.5 MB/s eta 0:00:01\n",
      "   ---------------------------------------- 1.5/1.5 MB 2.4 MB/s eta 0:00:00\n",
      "Installing collected packages: nltk, textblob\n",
      "  Attempting uninstall: nltk\n",
      "    Found existing installation: nltk 3.8.1\n",
      "    Uninstalling nltk-3.8.1:\n",
      "      Successfully uninstalled nltk-3.8.1\n",
      "Successfully installed nltk-3.9.1 textblob-0.19.0\n"
     ]
    }
   ],
   "source": [
    "!pip install textblob"
   ]
  },
  {
   "cell_type": "code",
   "execution_count": 5,
   "id": "644d363c-3578-4a65-b804-a0363e3b830e",
   "metadata": {},
   "outputs": [
    {
     "name": "stdout",
     "output_type": "stream",
     "text": [
      "Polarity: 0.37878787878787873\n",
      "Subjectivity: 0.6515151515151515\n"
     ]
    }
   ],
   "source": [
    "# Sentiment Analysis using TextBlob\n",
    "\n",
    "from textblob import TextBlob\n",
    "\n",
    "# Sample text\n",
    "review = \"I absolutely love the new features of the iPhone. Fantastic experience!\"\n",
    "\n",
    "# Create TextBlob object\n",
    "blob = TextBlob(review)\n",
    "\n",
    "# Sentiment\n",
    "print(\"Polarity:\", blob.sentiment.polarity)\n",
    "print(\"Subjectivity:\", blob.sentiment.subjectivity)\n"
   ]
  },
  {
   "cell_type": "code",
   "execution_count": null,
   "id": "a816165f-395a-4cd7-baa2-1bffa68df092",
   "metadata": {},
   "outputs": [],
   "source": []
  },
  {
   "cell_type": "code",
   "execution_count": null,
   "id": "a92c2eb6-9bf7-47b5-a93e-136fb9af7253",
   "metadata": {},
   "outputs": [],
   "source": []
  },
  {
   "cell_type": "code",
   "execution_count": null,
   "id": "2939bc1c-8f28-4c15-aece-43b082382913",
   "metadata": {},
   "outputs": [],
   "source": []
  },
  {
   "cell_type": "code",
   "execution_count": null,
   "id": "7c6dcc16-854e-4888-923c-4a76e3efe586",
   "metadata": {},
   "outputs": [],
   "source": []
  },
  {
   "cell_type": "code",
   "execution_count": null,
   "id": "9540c20b-cc6e-4c6f-b175-1609a2a73197",
   "metadata": {},
   "outputs": [],
   "source": []
  },
  {
   "cell_type": "code",
   "execution_count": null,
   "id": "2899c240-d5e1-47ed-8d80-86ba70d53226",
   "metadata": {},
   "outputs": [],
   "source": []
  }
 ],
 "metadata": {
  "kernelspec": {
   "display_name": "Python 3 (ipykernel)",
   "language": "python",
   "name": "python3"
  },
  "language_info": {
   "codemirror_mode": {
    "name": "ipython",
    "version": 3
   },
   "file_extension": ".py",
   "mimetype": "text/x-python",
   "name": "python",
   "nbconvert_exporter": "python",
   "pygments_lexer": "ipython3",
   "version": "3.11.11"
  }
 },
 "nbformat": 4,
 "nbformat_minor": 5
}
