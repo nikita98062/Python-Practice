{
 "cells": [
  {
   "cell_type": "code",
   "execution_count": null,
   "id": "51b9d588",
   "metadata": {},
   "outputs": [],
   "source": [
    "https://pawan-r4ju.github.io/Question-Tracker/"
   ]
  },
  {
   "cell_type": "code",
   "execution_count": 2,
   "id": "ad9c7d4b",
   "metadata": {},
   "outputs": [
    {
     "data": {
      "text/plain": [
       "'atikin'"
      ]
     },
     "execution_count": 2,
     "metadata": {},
     "output_type": "execute_result"
    }
   ],
   "source": [
    "#REVERSE STRING\n",
    "\n",
    "def reverse_string(n):\n",
    "    return n[::-1]\n",
    "reverse_string('nikita')"
   ]
  },
  {
   "cell_type": "code",
   "execution_count": 2,
   "id": "b02d9180",
   "metadata": {},
   "outputs": [
    {
     "name": "stdout",
     "output_type": "stream",
     "text": [
      "True\n",
      "False\n"
     ]
    }
   ],
   "source": [
    "#PALLINDROME\n",
    "\n",
    "def pallindrome(s):\n",
    "    return s==s[::-1]\n",
    "print(pallindrome('racecar'))\n",
    "print(pallindrome('hello'))"
   ]
  },
  {
   "cell_type": "code",
   "execution_count": 3,
   "id": "41e5f4a7",
   "metadata": {},
   "outputs": [
    {
     "data": {
      "text/plain": [
       "120"
      ]
     },
     "execution_count": 3,
     "metadata": {},
     "output_type": "execute_result"
    }
   ],
   "source": [
    "#FACTORIAL NUMBERS\n",
    "\n",
    "def fact(n):\n",
    "    if n==0:\n",
    "        return 1\n",
    "    else :\n",
    "        return n*fact(n-1)\n",
    "fact(5)"
   ]
  },
  {
   "cell_type": "code",
   "execution_count": 4,
   "id": "bdf0b5f4",
   "metadata": {},
   "outputs": [
    {
     "name": "stdout",
     "output_type": "stream",
     "text": [
      "[0, 1, 1, 2, 3, 5, 8, 13, 21, 34, 55, 89, 144, 233, 377, 610, 987, 1597, 2584, 4181, 6765, 10946, 17711, 28657, 46368, 75025, 121393, 196418, 317811, 514229, 832040, 1346269, 2178309, 3524578, 5702887, 9227465, 14930352, 24157817, 39088169, 63245986, 102334155, 165580141, 267914296, 433494437, 701408733, 1134903170, 1836311903, 2971215073, 4807526976, 7778742049]\n"
     ]
    }
   ],
   "source": [
    "#FIBONACICIS NUMBER\n",
    "\n",
    "def fib(n):\n",
    "    sequence=[0,1]\n",
    "    for i in range(2,n):\n",
    "        fibonaci=sequence[i-1]+sequence[i-2]\n",
    "        sequence.append(fibonaci)\n",
    "    return sequence\n",
    "print(fib(50))"
   ]
  },
  {
   "cell_type": "code",
   "execution_count": 5,
   "id": "ddbd5c4f",
   "metadata": {},
   "outputs": [
    {
     "data": {
      "text/plain": [
       "11"
      ]
     },
     "execution_count": 5,
     "metadata": {},
     "output_type": "execute_result"
    }
   ],
   "source": [
    "# FIND THE LARGEST ELEMENT IN A LIST\n",
    "\n",
    "def largest_number(list):\n",
    "    large=list[0]\n",
    "    for num in list[1:]:\n",
    "        if num > large :\n",
    "            large = num\n",
    "    return large\n",
    "largest_number([1,4,9,3,11,3])"
   ]
  },
  {
   "cell_type": "code",
   "execution_count": 6,
   "id": "d762971b",
   "metadata": {},
   "outputs": [
    {
     "data": {
      "text/plain": [
       "True"
      ]
     },
     "execution_count": 6,
     "metadata": {},
     "output_type": "execute_result"
    }
   ],
   "source": [
    "def is_prime(n):\n",
    "    if n <= 1:\n",
    "        return False\n",
    "    for i in range(2, int(n**0.5) + 1):\n",
    "        if n % i == 0:\n",
    "            return False\n",
    "    return True\n",
    "is_prime(3)"
   ]
  },
  {
   "cell_type": "code",
   "execution_count": 7,
   "id": "d66102cc",
   "metadata": {},
   "outputs": [
    {
     "data": {
      "text/plain": [
       "[1, 2, 3, 4, 6, 7, 8, 9]"
      ]
     },
     "execution_count": 7,
     "metadata": {},
     "output_type": "execute_result"
    }
   ],
   "source": [
    "# REMOVE DUPLIOCATES FROM A LIST\n",
    "\n",
    "def duplicates_remove(lst):\n",
    "    return list(set(lst))\n",
    "duplicates_remove([1,2,6,2,7,2,8,7,6,1,7,4,9,3,7])"
   ]
  },
  {
   "cell_type": "code",
   "execution_count": 8,
   "id": "94cc1fd0",
   "metadata": {},
   "outputs": [
    {
     "data": {
      "text/plain": [
       "3"
      ]
     },
     "execution_count": 8,
     "metadata": {},
     "output_type": "execute_result"
    }
   ],
   "source": [
    "#counts vowels in string\n",
    "\n",
    "def count_vowels(s):\n",
    "    vowels='aeiouAEIOU'\n",
    "    count=0\n",
    "    for char in s:\n",
    "        if char in vowels:\n",
    "            count+=1\n",
    "    return count\n",
    "count_vowels('nikita')"
   ]
  },
  {
   "cell_type": "code",
   "execution_count": 9,
   "id": "8f8fcab0",
   "metadata": {},
   "outputs": [
    {
     "data": {
      "text/plain": [
       "[1, 2, 4, 5, 8, 9]"
      ]
     },
     "execution_count": 9,
     "metadata": {},
     "output_type": "execute_result"
    }
   ],
   "source": [
    "def sorting(lst):\n",
    "    for i in range(len(lst)):\n",
    "        for j in range(len(lst)-1-i):\n",
    "            if lst[j]>lst[j+1]:\n",
    "                lst[j],lst[j+1] = lst[j+1],lst[j]\n",
    "    return lst\n",
    "sorting([2,9,5,8,1,4])"
   ]
  },
  {
   "cell_type": "code",
   "execution_count": 10,
   "id": "779a379b",
   "metadata": {},
   "outputs": [
    {
     "data": {
      "text/plain": [
       "-13"
      ]
     },
     "execution_count": 10,
     "metadata": {},
     "output_type": "execute_result"
    }
   ],
   "source": [
    "def find_missing_number(lst, n):\n",
    "    total_sum = n * (n + 1) // 2\n",
    "    return total_sum - sum(lst)\n",
    "find_missing_number([1,4,5,2,7],3)"
   ]
  },
  {
   "cell_type": "code",
   "execution_count": 11,
   "id": "6eedcad5",
   "metadata": {},
   "outputs": [
    {
     "data": {
      "text/plain": [
       "('nikita', 'itanik')"
      ]
     },
     "execution_count": 11,
     "metadata": {},
     "output_type": "execute_result"
    }
   ],
   "source": [
    "# CHECK TWO STRINGS ARE ANAGRAMS OR NOT\n",
    "\n",
    "def string_ana(s1,s2):\n",
    "    return (s1,s2)\n",
    "string_ana('nikita','itanik')"
   ]
  },
  {
   "cell_type": "code",
   "execution_count": 12,
   "id": "2eaaa1d2",
   "metadata": {},
   "outputs": [
    {
     "data": {
      "text/plain": [
       "True"
      ]
     },
     "execution_count": 12,
     "metadata": {},
     "output_type": "execute_result"
    }
   ],
   "source": [
    "def string_ana(s1,s2):\n",
    "    return sorted(s1)==sorted(s2)\n",
    "string_ana('nikita','itanik')"
   ]
  },
  {
   "cell_type": "code",
   "execution_count": 13,
   "id": "2730fc76",
   "metadata": {},
   "outputs": [
    {
     "name": "stdout",
     "output_type": "stream",
     "text": [
      "[(1, 5), (7, -1), (1, 5)]\n"
     ]
    }
   ],
   "source": [
    "def find_pairs(nums,target):\n",
    "    pairs=[]\n",
    "    seen=set()\n",
    "    for num in nums:\n",
    "        diff=target-num\n",
    "        if diff in seen :\n",
    "            pairs.append((diff,num))\n",
    "        seen.add(num)\n",
    "    return pairs\n",
    "nums=[1,5,7,-1,5]\n",
    "target=6\n",
    "print(find_pairs(nums,target))"
   ]
  },
  {
   "cell_type": "code",
   "execution_count": 27,
   "id": "77896bd1",
   "metadata": {},
   "outputs": [
    {
     "name": "stdout",
     "output_type": "stream",
     "text": [
      "enter a year2000\n",
      "2000 is leap year\n"
     ]
    }
   ],
   "source": [
    "# HOW TO CHECK LEAP YEAR\n",
    "year=int(input('enter a year'))\n",
    "if (year%400==0) and (year%100==0):\n",
    "    print(\"{0} is leap year\".format(year))\n",
    "elif (year%400==0) and (year%100 !=0):\n",
    "    print(\"{0} is leap year\".format(year))\n",
    "else:\n",
    "    print(\"{0} is not leap year\".format(year))\n",
    "    "
   ]
  },
  {
   "cell_type": "code",
   "execution_count": 28,
   "id": "86149b66",
   "metadata": {},
   "outputs": [
    {
     "name": "stdout",
     "output_type": "stream",
     "text": [
      "enter a year2000\n",
      "2000 is leap year\n"
     ]
    }
   ],
   "source": [
    "# HOW TO CHECK LEAP YEAR\n",
    "year=int(input('enter a year'))\n",
    "if (year%4==0) and (year%1==0):\n",
    "    print(\"{0} is leap year\".format(year))\n",
    "elif (year%4==0) and (year%1 !=0):\n",
    "    print(\"{0} is leap year\".format(year))\n",
    "else:\n",
    "    print(\"{0} is not leap year\".format(year))\n",
    "    "
   ]
  },
  {
   "cell_type": "code",
   "execution_count": 29,
   "id": "ab989663",
   "metadata": {},
   "outputs": [
    {
     "name": "stdout",
     "output_type": "stream",
     "text": [
      "enter a number153\n",
      "it is armstrong number\n"
     ]
    }
   ],
   "source": [
    "# ARMSTRONG NUMBER \n",
    "\n",
    "num=int(input('enter a number'))\n",
    "sum=0\n",
    "temp=num\n",
    "while temp>0:\n",
    "    digit=temp%10\n",
    "    sum=sum+(digit**3)\n",
    "    temp=temp//10\n",
    "if num==sum :\n",
    "    print('it is armstrong number')\n",
    "else:\n",
    "    print('it is not armstrong number')"
   ]
  },
  {
   "cell_type": "code",
   "execution_count": 30,
   "id": "2a19b469",
   "metadata": {},
   "outputs": [
    {
     "name": "stdout",
     "output_type": "stream",
     "text": [
      "enter a string :-jhgfd\n",
      "it is not a pallindrome\n"
     ]
    }
   ],
   "source": [
    "s=input('enter a string :-')\n",
    "rev_s=\"\".join(reversed(s))\n",
    "if s == rev_s:\n",
    "    print('it is a pallindrome')\n",
    "else :\n",
    "    print('it is not a pallindrome')"
   ]
  },
  {
   "cell_type": "code",
   "execution_count": 31,
   "id": "c3ee23b6",
   "metadata": {},
   "outputs": [
    {
     "data": {
      "text/plain": [
       "False"
      ]
     },
     "execution_count": 31,
     "metadata": {},
     "output_type": "execute_result"
    }
   ],
   "source": [
    "# CHECK PRIME FACTOR\n",
    "\n",
    "def is_prime(num):\n",
    "    if num<2:\n",
    "        return False\n",
    "    for i in range(2,int(num**0.5)+1):\n",
    "        if num%i==0:\n",
    "            return False\n",
    "    return True\n",
    "is_prime(4)"
   ]
  },
  {
   "cell_type": "code",
   "execution_count": 32,
   "id": "f47005e2",
   "metadata": {},
   "outputs": [
    {
     "name": "stdout",
     "output_type": "stream",
     "text": [
      "enter a number8\n",
      "1\n",
      "2\n",
      "6\n",
      "24\n",
      "120\n",
      "720\n",
      "5040\n",
      "40320\n"
     ]
    }
   ],
   "source": [
    "num=int(input('enter a number'))\n",
    "fact=1\n",
    "if num<0:\n",
    "    print('Invalid')\n",
    "elif num==0:\n",
    "    print('factorial is 0 and 1')\n",
    "else :\n",
    "    for i in range(1,num+1):\n",
    "        fact=fact*i\n",
    "        print(fact)"
   ]
  },
  {
   "cell_type": "code",
   "execution_count": 33,
   "id": "7ae91f4f",
   "metadata": {},
   "outputs": [
    {
     "data": {
      "text/plain": [
       "array([82, 23, 46, 79, 60])"
      ]
     },
     "execution_count": 33,
     "metadata": {},
     "output_type": "execute_result"
    }
   ],
   "source": [
    "import numpy as np\n",
    "num=np.random.randint(3,100,5)\n",
    "num"
   ]
  },
  {
   "cell_type": "code",
   "execution_count": 34,
   "id": "5ff97014",
   "metadata": {},
   "outputs": [
    {
     "data": {
      "text/plain": [
       "numpy.ndarray"
      ]
     },
     "execution_count": 34,
     "metadata": {},
     "output_type": "execute_result"
    }
   ],
   "source": [
    "type(num)"
   ]
  },
  {
   "cell_type": "code",
   "execution_count": 35,
   "id": "24aef899",
   "metadata": {},
   "outputs": [
    {
     "data": {
      "text/plain": [
       "4.905289712240624"
      ]
     },
     "execution_count": 35,
     "metadata": {},
     "output_type": "execute_result"
    }
   ],
   "source": [
    "n=np.random.uniform(1,100)\n",
    "n"
   ]
  },
  {
   "cell_type": "code",
   "execution_count": 36,
   "id": "6bc11653",
   "metadata": {},
   "outputs": [
    {
     "data": {
      "text/plain": [
       "2"
      ]
     },
     "execution_count": 36,
     "metadata": {},
     "output_type": "execute_result"
    }
   ],
   "source": [
    "import random\n",
    "s=random.randrange(0,10,2)\n",
    "s"
   ]
  },
  {
   "cell_type": "code",
   "execution_count": 37,
   "id": "c05649ec",
   "metadata": {},
   "outputs": [
    {
     "data": {
      "text/plain": [
       "[36, 22, 43, 80, 6, 10, 31, 50, 47, 9]"
      ]
     },
     "execution_count": 37,
     "metadata": {},
     "output_type": "execute_result"
    }
   ],
   "source": [
    "numlist=random.sample(range(1,100),10)\n",
    "numlist"
   ]
  },
  {
   "cell_type": "code",
   "execution_count": 19,
   "id": "12f0d0de",
   "metadata": {},
   "outputs": [
    {
     "name": "stdout",
     "output_type": "stream",
     "text": [
      "enter a number3\n"
     ]
    },
    {
     "data": {
      "text/plain": [
       "[0, 1, 1]"
      ]
     },
     "execution_count": 19,
     "metadata": {},
     "output_type": "execute_result"
    }
   ],
   "source": [
    "# HOW TO CHECK FIBONACCI SERIES\n",
    "\n",
    "def fibonacci(n):\n",
    "    sequence=[0,1]\n",
    "    for i in range(2,n):\n",
    "        fib=sequence[i-1]+sequence[i-2]\n",
    "        sequence.append(fib)\n",
    "    return sequence\n",
    "fibonacci(int(input('enter a number')))\n",
    "\n",
    "# TIME COMPLEXITY IS = O(n)"
   ]
  },
  {
   "cell_type": "code",
   "execution_count": 39,
   "id": "1a8b190c",
   "metadata": {},
   "outputs": [
    {
     "name": "stdout",
     "output_type": "stream",
     "text": [
      "enter a number87\n",
      "(87, 9.327379053088816)\n"
     ]
    }
   ],
   "source": [
    "# HOW TO FIND THE SQUARE ROOT IN PYTHON\n",
    "\n",
    "n=int(input('enter a number'))\n",
    "n_sqrt=n**0.5\n",
    "print((n,n_sqrt))"
   ]
  },
  {
   "cell_type": "code",
   "execution_count": 40,
   "id": "215c33f8",
   "metadata": {},
   "outputs": [
    {
     "name": "stdout",
     "output_type": "stream",
     "text": [
      "((1+3j), 1.442615274452683, 1.0397782600555705)\n"
     ]
    }
   ],
   "source": [
    "import cmath\n",
    "n=1+3j\n",
    "n_sqrt=cmath.sqrt(n)\n",
    "print((n,n_sqrt.real,n_sqrt.imag))"
   ]
  },
  {
   "cell_type": "code",
   "execution_count": 42,
   "id": "2ee0d67f",
   "metadata": {},
   "outputs": [
    {
     "name": "stdout",
     "output_type": "stream",
     "text": [
      "enter a number1\n",
      "enter element :2\n",
      "[2]\n"
     ]
    }
   ],
   "source": [
    "# INTER CHANGE THE LAST ELEMENT TO FIRST AND FIRST ELEMENT TO LAST\n",
    "\n",
    "a=[]\n",
    "n=int(input('enter a number'))\n",
    "for x in range(0,n):\n",
    "    element=int(input('enter element :'))\n",
    "    a.append(element)\n",
    "a[0],a[len(a)-1]=a[len(a)-1],a[0]\n",
    "print(a)"
   ]
  },
  {
   "cell_type": "markdown",
   "id": "9fd650f6",
   "metadata": {},
   "source": [
    "\n",
    "n=int(input('enter a number'))\n",
    "for x in range(0,n):\n",
    "    element=int(input('enter element :'))\n",
    "    a.append(element)\n",
    "temp=a[0]\n",
    "a[0]=a[len(a)-1]\n",
    "a[len(a)-1]=temp\n",
    "print(a)"
   ]
  },
  {
   "cell_type": "code",
   "execution_count": 43,
   "id": "14e91e98",
   "metadata": {},
   "outputs": [
    {
     "name": "stdout",
     "output_type": "stream",
     "text": [
      "Enter a number: 3\n",
      "Reciprocal: 0.3333333333333333\n",
      "Operation completed successfully.\n",
      "Program ended.\n"
     ]
    }
   ],
   "source": [
    "try:\n",
    "    # Code that may raise an exception\n",
    "    num = int(input(\"Enter a number: \"))\n",
    "    print(f\"Reciprocal: {1 / num}\")\n",
    "except ValueError:\n",
    "    # Handling a ValueError (e.g., if input is not an integer)\n",
    "    print(\"You must enter a valid number!\")\n",
    "except ZeroDivisionError:\n",
    "    # Handling division by zero\n",
    "    print(\"Cannot divide by zero!\")\n",
    "else:\n",
    "    # Executes only if no exceptions were raised\n",
    "    print(\"Operation completed successfully.\")\n",
    "finally:\n",
    "    # Executes no matter what (exception or not)\n",
    "    print(\"Program ended.\")\n"
   ]
  },
  {
   "cell_type": "code",
   "execution_count": 44,
   "id": "f514590c",
   "metadata": {},
   "outputs": [
    {
     "name": "stdout",
     "output_type": "stream",
     "text": [
      "NIKITA TAMBOLE\n",
      "N\n",
      "NIKITA TAMBOLE\n",
      "IN\n",
      "NIKITA TAMBOLE\n",
      "KIN\n",
      "NIKITA TAMBOLE\n",
      "IKIN\n",
      "NIKITA TAMBOLE\n",
      "TIKIN\n",
      "NIKITA TAMBOLE\n",
      "ATIKIN\n",
      "NIKITA TAMBOLE\n",
      " ATIKIN\n",
      "NIKITA TAMBOLE\n",
      "T ATIKIN\n",
      "NIKITA TAMBOLE\n",
      "AT ATIKIN\n",
      "NIKITA TAMBOLE\n",
      "MAT ATIKIN\n",
      "NIKITA TAMBOLE\n",
      "BMAT ATIKIN\n",
      "NIKITA TAMBOLE\n",
      "OBMAT ATIKIN\n",
      "NIKITA TAMBOLE\n",
      "LOBMAT ATIKIN\n",
      "NIKITA TAMBOLE\n",
      "ELOBMAT ATIKIN\n"
     ]
    }
   ],
   "source": [
    "s1='NIKITA TAMBOLE'\n",
    "s2=''\n",
    "for i in s1:\n",
    "    s2=i+s2\n",
    "    print(s1)\n",
    "    print(s2)"
   ]
  },
  {
   "cell_type": "code",
   "execution_count": 45,
   "id": "e57d07cd",
   "metadata": {},
   "outputs": [
    {
     "name": "stdout",
     "output_type": "stream",
     "text": [
      "[5, 4, 3, 2, 1]\n"
     ]
    }
   ],
   "source": [
    "#Reverse a Linked List\n",
    "l1=[1,2,3,4,5]\n",
    "l1.reverse()\n",
    "print(l1)"
   ]
  },
  {
   "cell_type": "code",
   "execution_count": 46,
   "id": "b37be28f",
   "metadata": {},
   "outputs": [
    {
     "name": "stdout",
     "output_type": "stream",
     "text": [
      "[5, 4, 3, 2, 1]\n"
     ]
    }
   ],
   "source": [
    "#Reverse a Linked List\n",
    "l1=[1,2,3,4,5]\n",
    "l1_reverse=l1[::-1]\n",
    "print(l1_reverse)"
   ]
  },
  {
   "cell_type": "code",
   "execution_count": 47,
   "id": "c62f4db7",
   "metadata": {},
   "outputs": [
    {
     "name": "stdout",
     "output_type": "stream",
     "text": [
      "[0, 1]\n"
     ]
    }
   ],
   "source": [
    "#Two Sum\n",
    "\n",
    "nums = [2, 7, 11, 15]\n",
    "target = 9\n",
    "\n",
    "for i, num in enumerate(nums):\n",
    "    complement = target - num\n",
    "    if complement in nums[:i]:\n",
    "        result = [nums.index(complement), i]\n",
    "        break\n",
    "\n",
    "print(result)  # Output: [0, 1]\n"
   ]
  },
  {
   "cell_type": "code",
   "execution_count": 48,
   "id": "4e96d9d8",
   "metadata": {},
   "outputs": [
    {
     "name": "stdout",
     "output_type": "stream",
     "text": [
      "3\n"
     ]
    }
   ],
   "source": [
    "s = \"abcabcbb\"\n",
    "\n",
    "# Initialize variables\n",
    "start = 0\n",
    "max_length = 0\n",
    "char_index = {}\n",
    "\n",
    "# Loop through the string\n",
    "for i, char in enumerate(s):\n",
    "    # If character is already in the window, update the start\n",
    "    if char in char_index and char_index[char] >= start:\n",
    "        start = char_index[char] + 1\n",
    "\n",
    "    # Update character's index and calculate the length\n",
    "    char_index[char] = i\n",
    "    max_length = max(max_length, i - start + 1)\n",
    "\n",
    "print(max_length)  # Output: 3\n"
   ]
  },
  {
   "cell_type": "code",
   "execution_count": 16,
   "id": "863ba9b2",
   "metadata": {},
   "outputs": [
    {
     "name": "stdout",
     "output_type": "stream",
     "text": [
      "4\n"
     ]
    }
   ],
   "source": [
    "s = \"abcabcbb\"\n",
    "char_count = {}\n",
    "for char in s:\n",
    "     if char in char_count:\n",
    "         char_count[char] += 1 \n",
    "     else:\n",
    "        char_count[char] = 1\n",
    "max_char = 0\n",
    "for count in char_count.values():\n",
    "    \n",
    "    if count > max_char: \n",
    "        max_char = count \n",
    "print(max_char)"
   ]
  },
  {
   "cell_type": "code",
   "execution_count": 17,
   "id": "af720cd6",
   "metadata": {},
   "outputs": [
    {
     "name": "stdout",
     "output_type": "stream",
     "text": [
      "[1]\n",
      "[1, 2]\n",
      "[1, 2, 3]\n",
      "[1, 2, 3, 4]\n",
      "[1, 2, 3, 4, 5]\n",
      "[1, 2, 3, 4, 5, 6]\n"
     ]
    }
   ],
   "source": [
    "nums1 = [1, 3, 5]\n",
    "nums2 = [2, 4, 6]\n",
    "\n",
    "i = j = 0\n",
    "merged = []\n",
    "\n",
    "while i < len(nums1) and j < len(nums2):\n",
    "    if nums1[i] < nums2[j]:\n",
    "        merged.append(nums1[i])\n",
    "        i += 1\n",
    "        print(merged)\n",
    "    else:\n",
    "        merged.append(nums2[j])\n",
    "        j += 1\n",
    "        print(merged)\n",
    "\n",
    "merged.extend(nums1[i:])\n",
    "merged.extend(nums2[j:])\n",
    "\n",
    "print(merged)  # Output: [1, 2, 3, 4, 5, 6]\n"
   ]
  },
  {
   "cell_type": "code",
   "execution_count": 18,
   "id": "c9c5265d",
   "metadata": {},
   "outputs": [
    {
     "data": {
      "text/plain": [
       "list"
      ]
     },
     "execution_count": 18,
     "metadata": {},
     "output_type": "execute_result"
    }
   ],
   "source": [
    "type(nums1)"
   ]
  },
  {
   "cell_type": "code",
   "execution_count": 19,
   "id": "d2ca0cf9",
   "metadata": {},
   "outputs": [
    {
     "name": "stdout",
     "output_type": "stream",
     "text": [
      "[1, 2, 3, 4, 5, 6, 8, 7]\n"
     ]
    }
   ],
   "source": [
    "n=[[1, 2], [3, 4], [[5, 6], 8], 7]\n",
    "result=[]\n",
    "def sort_array(n):\n",
    "    for i in n:\n",
    "        if type(i)==list:\n",
    "            sort_array(i)\n",
    "        else :\n",
    "            result.append(i)\n",
    "sort_array(n)\n",
    "print(result)"
   ]
  },
  {
   "cell_type": "code",
   "execution_count": 53,
   "id": "42bf5066",
   "metadata": {},
   "outputs": [
    {
     "name": "stdout",
     "output_type": "stream",
     "text": [
      "1\n",
      "2\n",
      "Fizz\n",
      "4\n",
      "Buzz\n",
      "Fizz\n",
      "7\n",
      "8\n",
      "Fizz\n",
      "Buzz\n",
      "11\n",
      "Fizz\n",
      "13\n",
      "14\n",
      "FizzBuzz\n"
     ]
    }
   ],
   "source": [
    "def fizz_buzz(n):\n",
    "    for i in range(1, n + 1):\n",
    "        if i % 3 == 0 and i % 5 == 0:\n",
    "            print(\"FizzBuzz\")\n",
    "        elif i % 3 == 0:\n",
    "            print(\"Fizz\")\n",
    "        elif i % 5 == 0:\n",
    "            print(\"Buzz\")\n",
    "        else:\n",
    "            print(i)\n",
    "\n",
    "# Example Usage\n",
    "fizz_buzz(15)\n"
   ]
  },
  {
   "cell_type": "code",
   "execution_count": 20,
   "id": "fa96ceeb",
   "metadata": {},
   "outputs": [
    {
     "name": "stdout",
     "output_type": "stream",
     "text": [
      "2\n"
     ]
    }
   ],
   "source": [
    "nums=[3,4,-1,1]\n",
    "nums=set(nums)\n",
    "smallest=1\n",
    "while smallest in nums:\n",
    "    smallest+=1\n",
    "print(smallest)"
   ]
  },
  {
   "cell_type": "code",
   "execution_count": 21,
   "id": "3ec29f13",
   "metadata": {},
   "outputs": [
    {
     "name": "stdout",
     "output_type": "stream",
     "text": [
      "The sum of the parameters is: 55\n"
     ]
    }
   ],
   "source": [
    "def add_parameters(*args):\n",
    "    return sum(args)\n",
    "\n",
    "# Example Usage\n",
    "result = add_parameters(1, 2, 3, 4, 5, 6, 7, 8, 9, 10)\n",
    "print(f\"The sum of the parameters is: {result}\")  # Output: 55\n"
   ]
  },
  {
   "cell_type": "code",
   "execution_count": 22,
   "id": "99cf120e",
   "metadata": {},
   "outputs": [
    {
     "name": "stdout",
     "output_type": "stream",
     "text": [
      "True\n"
     ]
    }
   ],
   "source": [
    "def pallindrome(s):\n",
    "    return s==s[::-1]\n",
    "print(pallindrome('racecar'))"
   ]
  },
  {
   "cell_type": "code",
   "execution_count": 57,
   "id": "07f2f763",
   "metadata": {},
   "outputs": [],
   "source": [
    "def max_subarray_sum(nums):\n",
    "    max_current = max_global = nums[0]\n",
    "    for num in nums[1:]:\n",
    "        max_current = max(num, max_current + num)\n",
    "        if max_current > max_global:\n",
    "            max_global = max_current\n",
    "    return max_global\n"
   ]
  },
  {
   "cell_type": "code",
   "execution_count": 58,
   "id": "cca6fb4a",
   "metadata": {},
   "outputs": [
    {
     "data": {
      "text/plain": [
       "15"
      ]
     },
     "execution_count": 58,
     "metadata": {},
     "output_type": "execute_result"
    }
   ],
   "source": [
    "max_subarray_sum([1,2,3,4,5])"
   ]
  },
  {
   "cell_type": "code",
   "execution_count": 59,
   "id": "19bb244f",
   "metadata": {},
   "outputs": [
    {
     "name": "stdout",
     "output_type": "stream",
     "text": [
      "3\n"
     ]
    }
   ],
   "source": [
    "num=[1,2,-4,-3]\n",
    "max_current = max_global = num[0]\n",
    "for i in num[1:]:\n",
    "    max_current = max(i, max_current + i)\n",
    "    if max_current > max_global :\n",
    "        max_global = max_current\n",
    "print(max_global)"
   ]
  },
  {
   "cell_type": "code",
   "execution_count": 60,
   "id": "8a9faf96",
   "metadata": {},
   "outputs": [
    {
     "data": {
      "text/plain": [
       "[2, 3]"
      ]
     },
     "execution_count": 60,
     "metadata": {},
     "output_type": "execute_result"
    }
   ],
   "source": [
    "def two_sum(nums, target):\n",
    "    seen = {}\n",
    "    for i, num in enumerate(nums):\n",
    "        complement = target - num\n",
    "        if complement in seen:\n",
    "            return [seen[complement], i]\n",
    "        seen[num] = i\n",
    "two_sum(([1,2,4,5,9]),9)"
   ]
  },
  {
   "cell_type": "code",
   "execution_count": 61,
   "id": "222afb05",
   "metadata": {},
   "outputs": [
    {
     "name": "stdout",
     "output_type": "stream",
     "text": [
      "[2, 3]\n"
     ]
    }
   ],
   "source": [
    "num = [1,2,4,5,9]\n",
    "target = 9\n",
    "seen={}\n",
    "for i , j in enumerate(num):\n",
    "    complement = target - j\n",
    "    if complement in seen:\n",
    "        print([seen[complement],i])\n",
    "    seen[j]=i"
   ]
  },
  {
   "cell_type": "code",
   "execution_count": 23,
   "id": "be12bbfd",
   "metadata": {},
   "outputs": [
    {
     "data": {
      "text/plain": [
       "2"
      ]
     },
     "execution_count": 23,
     "metadata": {},
     "output_type": "execute_result"
    }
   ],
   "source": [
    "def missing_number(num):\n",
    "    n=len(num)\n",
    "    return n*(n+1)//2 - sum(num)\n",
    "missing_number([3,0,1])"
   ]
  },
  {
   "cell_type": "code",
   "execution_count": 63,
   "id": "aa2dfdef",
   "metadata": {},
   "outputs": [
    {
     "data": {
      "text/plain": [
       "'olleh'"
      ]
     },
     "execution_count": 63,
     "metadata": {},
     "output_type": "execute_result"
    }
   ],
   "source": [
    "def reverse_string(s):\n",
    "    return s[::-1]\n",
    "reverse_string('hello')"
   ]
  },
  {
   "cell_type": "code",
   "execution_count": 64,
   "id": "c504cf68",
   "metadata": {},
   "outputs": [
    {
     "data": {
      "text/plain": [
       "True"
      ]
     },
     "execution_count": 64,
     "metadata": {},
     "output_type": "execute_result"
    }
   ],
   "source": [
    "def is_palindrome(s):\n",
    "    return s == s[::-1]\n",
    "is_palindrome('ollo')"
   ]
  },
  {
   "cell_type": "code",
   "execution_count": 65,
   "id": "a8891eed",
   "metadata": {},
   "outputs": [
    {
     "data": {
      "text/plain": [
       "True"
      ]
     },
     "execution_count": 65,
     "metadata": {},
     "output_type": "execute_result"
    }
   ],
   "source": [
    "def are_anagrams(s1, s2):\n",
    "    return sorted(s1) == sorted(s2)\n",
    "are_anagrams('silent','listen')"
   ]
  },
  {
   "cell_type": "code",
   "execution_count": 66,
   "id": "0e0f8b6e",
   "metadata": {},
   "outputs": [
    {
     "name": "stdout",
     "output_type": "stream",
     "text": [
      "4\n"
     ]
    }
   ],
   "source": [
    "s = \"abcabcbb\" \n",
    "char_count = {}   \n",
    "for char in s:\n",
    "    if char in char_count: \n",
    "        char_count[char] += 1 \n",
    "    else: char_count[char] = 1   \n",
    "    max_char = 0 \n",
    "    for count in char_count.values(): \n",
    "        if count > max_char: \n",
    "            max_char = count \n",
    "print(max_char)"
   ]
  },
  {
   "cell_type": "code",
   "execution_count": 67,
   "id": "d8d85e0a",
   "metadata": {},
   "outputs": [
    {
     "name": "stdout",
     "output_type": "stream",
     "text": [
      "3\n"
     ]
    }
   ],
   "source": [
    "s = \"abcabcbb\"\n",
    "char_count = {}\n",
    "\n",
    "for char in s:\n",
    "    if char not in char_count:\n",
    "        char_count[char] = 1\n",
    "\n",
    "unique_count = len(char_count)\n",
    "\n",
    "print(unique_count)"
   ]
  },
  {
   "cell_type": "code",
   "execution_count": 68,
   "id": "7ea7f76c",
   "metadata": {},
   "outputs": [
    {
     "data": {
      "text/plain": [
       "4"
      ]
     },
     "execution_count": 68,
     "metadata": {},
     "output_type": "execute_result"
    }
   ],
   "source": [
    "def second_largest(arr):\n",
    "    unique_numbers = list(set(arr))\n",
    "    unique_numbers.sort()\n",
    "    return unique_numbers[-2]\n",
    "second_largest([1,3,4,5,0,2])"
   ]
  },
  {
   "cell_type": "code",
   "execution_count": 69,
   "id": "7567b370",
   "metadata": {},
   "outputs": [
    {
     "data": {
      "text/plain": [
       "2"
      ]
     },
     "execution_count": 69,
     "metadata": {},
     "output_type": "execute_result"
    }
   ],
   "source": [
    "def count_vowels(s):\n",
    "    count=0\n",
    "    for char in s.lower():\n",
    "        if char in 'aeiou':\n",
    "            count+=1\n",
    "    return count\n",
    "count_vowels('hello')    "
   ]
  },
  {
   "cell_type": "markdown",
   "id": "ae03c934",
   "metadata": {},
   "source": [
    "# Series objects oin pandas"
   ]
  },
  {
   "cell_type": "code",
   "execution_count": 70,
   "id": "78898627",
   "metadata": {},
   "outputs": [],
   "source": [
    "import pandas as pd"
   ]
  },
  {
   "cell_type": "code",
   "execution_count": 71,
   "id": "71e8c0fa",
   "metadata": {},
   "outputs": [
    {
     "data": {
      "text/plain": [
       "0    1\n",
       "1    2\n",
       "2    3\n",
       "3    4\n",
       "4    5\n",
       "dtype: int64"
      ]
     },
     "execution_count": 71,
     "metadata": {},
     "output_type": "execute_result"
    }
   ],
   "source": [
    "data=[1,2,3,4,5]\n",
    "series=pd.Series(data)\n",
    "series"
   ]
  },
  {
   "cell_type": "code",
   "execution_count": 72,
   "id": "537e9624",
   "metadata": {},
   "outputs": [
    {
     "data": {
      "text/plain": [
       "pandas.core.series.Series"
      ]
     },
     "execution_count": 72,
     "metadata": {},
     "output_type": "execute_result"
    }
   ],
   "source": [
    "type(series)"
   ]
  },
  {
   "cell_type": "code",
   "execution_count": 73,
   "id": "9b7e1330",
   "metadata": {},
   "outputs": [
    {
     "data": {
      "text/plain": [
       "a    1\n",
       "b    2\n",
       "c    3\n",
       "d    4\n",
       "e    5\n",
       "dtype: int64"
      ]
     },
     "execution_count": 73,
     "metadata": {},
     "output_type": "execute_result"
    }
   ],
   "source": [
    "data=[1,2,3,4,5]\n",
    "series=pd.Series(data,index=['a','b','c','d','e'])\n",
    "series"
   ]
  },
  {
   "cell_type": "code",
   "execution_count": 74,
   "id": "10b0701b",
   "metadata": {},
   "outputs": [
    {
     "name": "stdout",
     "output_type": "stream",
     "text": [
      "11\n",
      "10\n",
      "9\n",
      "8\n",
      "7\n",
      "6\n",
      "5\n",
      "4\n",
      "3\n",
      "2\n",
      "1\n",
      "0\n",
      "[12, 11, 10, 9, 8, 7, 6, 5, 4, 3, 2, 1]\n"
     ]
    }
   ],
   "source": [
    "a = [1, 2, 3, 4, 5, 6, 7, 8, 9, 10, 11, 12]\n",
    "b=[]\n",
    "for i in range(len(a)-1,-1,-1):\n",
    "    b.append(a[i])\n",
    "    print(i)\n",
    "print(b)"
   ]
  },
  {
   "cell_type": "code",
   "execution_count": 1,
   "id": "2ab601fb",
   "metadata": {},
   "outputs": [
    {
     "name": "stdout",
     "output_type": "stream",
     "text": [
      "[12, 11, 10, 9, 8, 7, 6, 5, 4, 3, 2, 1]\n"
     ]
    }
   ],
   "source": [
    "a = [1, 2, 3, 4, 5, 6, 7, 8, 9, 10, 11, 12]\n",
    "left=0\n",
    "right=len(a)-1\n",
    "while left < right :\n",
    "    temp=a[left]\n",
    "    a[left]=a[right]\n",
    "    a[right]=temp\n",
    "    right=right-1\n",
    "    left=left+1\n",
    "print(a)"
   ]
  },
  {
   "cell_type": "code",
   "execution_count": 76,
   "id": "ce25d91b",
   "metadata": {},
   "outputs": [
    {
     "name": "stdout",
     "output_type": "stream",
     "text": [
      "[2, 3, 4, 5, 1]\n"
     ]
    }
   ],
   "source": [
    "a=[1,2,3,4,5]\n",
    "j=6\n",
    "i=j%len(a)\n",
    "b=a[i:]+a[:i]\n",
    "print(b)"
   ]
  },
  {
   "cell_type": "code",
   "execution_count": 77,
   "id": "a6bdda85",
   "metadata": {},
   "outputs": [
    {
     "name": "stdout",
     "output_type": "stream",
     "text": [
      "0\n"
     ]
    }
   ],
   "source": [
    "a=[1,1,1]\n",
    "large=0\n",
    "secon_large=0\n",
    "for i in a:\n",
    "    if i>large :\n",
    "        second_large=large\n",
    "        large=i\n",
    "    elif i<large and i>second_large :\n",
    "        second_large=i\n",
    "print(second_large)"
   ]
  },
  {
   "cell_type": "code",
   "execution_count": 78,
   "id": "821400aa",
   "metadata": {},
   "outputs": [
    {
     "name": "stdout",
     "output_type": "stream",
     "text": [
      "*****\n",
      "*****\n",
      "*****\n",
      "*****\n",
      "*****\n"
     ]
    }
   ],
   "source": [
    "n=5\n",
    "for i in range(n):\n",
    "    for j in range(n):\n",
    "        print(\"*\",end=\"\")\n",
    "    print()"
   ]
  },
  {
   "cell_type": "code",
   "execution_count": 79,
   "id": "f16ac574",
   "metadata": {},
   "outputs": [
    {
     "name": "stdout",
     "output_type": "stream",
     "text": [
      "* \n",
      "** \n",
      "*** \n",
      "**** \n",
      "***** \n"
     ]
    }
   ],
   "source": [
    "n=5\n",
    "for i in range(1,n+1):\n",
    "    for j in range(i):\n",
    "        print('*',end='')\n",
    "    print(\" \")"
   ]
  },
  {
   "cell_type": "code",
   "execution_count": 80,
   "id": "0d24c8a9",
   "metadata": {},
   "outputs": [
    {
     "name": "stdout",
     "output_type": "stream",
     "text": [
      " \n",
      "1 \n",
      "12 \n",
      "123 \n",
      "1234 \n",
      "12345 \n"
     ]
    }
   ],
   "source": [
    "n=6\n",
    "for i in range(1,n+1):\n",
    "    for j in range(1,i):\n",
    "        print(j,end='')\n",
    "    print(\" \")"
   ]
  },
  {
   "cell_type": "code",
   "execution_count": 81,
   "id": "9f163cfa",
   "metadata": {},
   "outputs": [
    {
     "name": "stdout",
     "output_type": "stream",
     "text": [
      "1 \n",
      "22 \n",
      "333 \n",
      "4444 \n",
      "55555 \n"
     ]
    }
   ],
   "source": [
    "n=5\n",
    "for i in range(1,n+1):\n",
    "    for j in range(0,i):\n",
    "        print(i,end='')\n",
    "    print(\" \")"
   ]
  },
  {
   "cell_type": "code",
   "execution_count": 82,
   "id": "afd0f9d6",
   "metadata": {},
   "outputs": [
    {
     "name": "stdout",
     "output_type": "stream",
     "text": [
      "***** \n",
      "**** \n",
      "*** \n",
      "** \n",
      "* \n"
     ]
    }
   ],
   "source": [
    "n=5\n",
    "for i in range(n,0,-1):\n",
    "    for j in range(i):\n",
    "        print(\"*\",end=\"\")\n",
    "    print(\" \")"
   ]
  },
  {
   "cell_type": "code",
   "execution_count": 83,
   "id": "5164f4b7",
   "metadata": {},
   "outputs": [
    {
     "name": "stdout",
     "output_type": "stream",
     "text": [
      "12345 \n",
      "1234 \n",
      "123 \n",
      "12 \n",
      "1 \n",
      " \n"
     ]
    }
   ],
   "source": [
    "n=6\n",
    "for i in range(n,0,-1):\n",
    "    for j in range(1,i):\n",
    "        print(j,end=\"\")\n",
    "    print(\" \")"
   ]
  },
  {
   "cell_type": "code",
   "execution_count": 84,
   "id": "781a870f",
   "metadata": {},
   "outputs": [
    {
     "name": "stdout",
     "output_type": "stream",
     "text": [
      "    *\n",
      "   ***\n",
      "  *****\n",
      " *******\n",
      "*********\n"
     ]
    }
   ],
   "source": [
    "n=5\n",
    "for i in range(1,n+1):\n",
    "    for j in range(n-i):\n",
    "        print(\" \",end=\"\")\n",
    "    for k in range(2*i-1):\n",
    "        print('*',end=\"\")\n",
    "    print()"
   ]
  },
  {
   "cell_type": "code",
   "execution_count": 85,
   "id": "3e32ff61",
   "metadata": {},
   "outputs": [
    {
     "name": "stdout",
     "output_type": "stream",
     "text": [
      " *********\n",
      "  *******\n",
      "   *****\n",
      "    ***\n",
      "     *\n"
     ]
    }
   ],
   "source": [
    "n=5\n",
    "for i in range(1,n+1):\n",
    "    for j in range(i):\n",
    "        print(\" \",end=\"\")\n",
    "    for k in range(2*n-(2*i-1)):\n",
    "        print('*',end=\"\")\n",
    "    print()"
   ]
  },
  {
   "cell_type": "code",
   "execution_count": 86,
   "id": "da44bccd",
   "metadata": {},
   "outputs": [
    {
     "name": "stdout",
     "output_type": "stream",
     "text": [
      "    *\n",
      "   ***\n",
      "  *****\n",
      " *******\n",
      "*********\n",
      " *********\n",
      "  *******\n",
      "   *****\n",
      "    ***\n",
      "     *\n"
     ]
    }
   ],
   "source": [
    "n=5\n",
    "for i in range(1,n+1):\n",
    "    for j in range(n-i):\n",
    "        print(\" \",end=\"\")\n",
    "    for k in range(2*i-1):\n",
    "        print('*',end=\"\")\n",
    "    print()\n",
    "for i in range(1,n+1):\n",
    "    for j in range(i):\n",
    "        print(\" \",end=\"\")\n",
    "    for k in range(2*n-(2*i-1)):\n",
    "        print('*',end=\"\")\n",
    "    print()    "
   ]
  },
  {
   "cell_type": "code",
   "execution_count": 87,
   "id": "b1b553d9",
   "metadata": {},
   "outputs": [
    {
     "name": "stdout",
     "output_type": "stream",
     "text": [
      "     *\n",
      "    **\n",
      "   ***\n",
      "  ****\n",
      " *****\n",
      "******\n",
      "******\n",
      " *****\n",
      "  ****\n",
      "   ***\n",
      "    **\n",
      "     *\n"
     ]
    }
   ],
   "source": [
    "n=6\n",
    "for i in range(1,n+1):\n",
    "    for j in range(n-i):\n",
    "        print(\" \",end=\"\")\n",
    "    for k in range(i):\n",
    "        print('*',end=\"\")\n",
    "    print()\n",
    "for i in range(n,0,-1):\n",
    "    for j in range(n-i):\n",
    "        print(\" \",end=\"\")\n",
    "    for k in range(i):\n",
    "        print('*',end=\"\")\n",
    "    print()"
   ]
  },
  {
   "cell_type": "code",
   "execution_count": 88,
   "id": "68d166e8",
   "metadata": {},
   "outputs": [
    {
     "name": "stdout",
     "output_type": "stream",
     "text": [
      "1\n",
      "01\n",
      "101\n",
      "0101\n",
      "10101\n"
     ]
    }
   ],
   "source": [
    "n=5\n",
    "s=1\n",
    "for i in range(1,n+1):\n",
    "    if (i%2==0):\n",
    "        s=1\n",
    "    else:\n",
    "        s=0\n",
    "    for j in range(1,i+1):\n",
    "        if (s==0):\n",
    "            s=1\n",
    "        else:\n",
    "            s=0\n",
    "        print(s,end=\"\")\n",
    "    print()\n"
   ]
  },
  {
   "cell_type": "code",
   "execution_count": 89,
   "id": "08bfc0b0",
   "metadata": {},
   "outputs": [
    {
     "name": "stdout",
     "output_type": "stream",
     "text": [
      "1\n",
      "10\n",
      "101\n",
      "1010\n",
      "10101\n"
     ]
    }
   ],
   "source": [
    "n=5\n",
    "for i in range(1,n+1):\n",
    "    for j in range(1,i+1):\n",
    "        print(j%2,end=\"\")\n",
    "    print()"
   ]
  },
  {
   "cell_type": "code",
   "execution_count": 90,
   "id": "e047574b",
   "metadata": {},
   "outputs": [
    {
     "name": "stdout",
     "output_type": "stream",
     "text": [
      "1        \n",
      "12      \n",
      "123    \n",
      "1234  \n",
      "12345\n"
     ]
    }
   ],
   "source": [
    "n=5\n",
    "for i in range(1,n+1):\n",
    "    for j in range(1,i+1):\n",
    "        print(j,end=\"\")\n",
    "    s=2*(n-i)\n",
    "    print(\" \"*s,end=\"\")\n",
    "    print()"
   ]
  },
  {
   "cell_type": "code",
   "execution_count": 91,
   "id": "a99d67a3",
   "metadata": {},
   "outputs": [
    {
     "name": "stdout",
     "output_type": "stream",
     "text": [
      "enter a number3456\n",
      "4\n",
      "it is not armstrong number\n"
     ]
    }
   ],
   "source": [
    "num=int(input('enter a number'))\n",
    "sum=0\n",
    "count=0\n",
    "temp=num\n",
    "while temp>0:\n",
    "    digit=temp%10\n",
    "    #sum=sum+(digit**3)\n",
    "    count=count+1\n",
    "    temp=temp//10\n",
    "print(count)\n",
    "temp=num\n",
    "while temp>0:\n",
    "    digit=temp%10\n",
    "    sum=sum+pow(digit,count)\n",
    "    temp=temp//10\n",
    "if num==sum :\n",
    "    print('it is armstrong number')\n",
    "else:\n",
    "    print('it is not armstrong number')"
   ]
  },
  {
   "cell_type": "code",
   "execution_count": 92,
   "id": "b1e04e04",
   "metadata": {},
   "outputs": [
    {
     "name": "stdout",
     "output_type": "stream",
     "text": [
      "True\n"
     ]
    }
   ],
   "source": [
    "if -2 > -4:\n",
    "    print(True)\n",
    "else:\n",
    "    print(False)"
   ]
  },
  {
   "cell_type": "code",
   "execution_count": 93,
   "id": "437bbab3",
   "metadata": {},
   "outputs": [
    {
     "name": "stdout",
     "output_type": "stream",
     "text": [
      "the quick brown fox jumps over the lazy dog\n",
      "False\n",
      "False\n",
      "False\n",
      "False\n",
      "False\n",
      "False\n",
      "False\n",
      "False\n",
      "False\n",
      "False\n",
      "False\n",
      "False\n",
      "False\n",
      "False\n",
      "False\n",
      "False\n",
      "False\n",
      "False\n",
      "False\n",
      "False\n",
      "False\n",
      "False\n",
      "False\n",
      "False\n",
      "False\n",
      "False\n",
      "False\n",
      "False\n",
      "False\n",
      "False\n",
      "False\n",
      "False\n",
      "False\n",
      "False\n",
      "False\n",
      "False\n",
      "False\n",
      "False\n",
      "False\n",
      "False\n",
      "False\n",
      "False\n",
      "False\n"
     ]
    }
   ],
   "source": [
    "s='The quick brown fox jumps over the lazy dog'\n",
    "b=s.lower()\n",
    "print(b)\n",
    "v='abcdefghijklmnopqrstuvwxyz'\n",
    "for v in b:\n",
    "    if v==b:\n",
    "        print(True)\n",
    "    else:\n",
    "        print(False)"
   ]
  },
  {
   "cell_type": "code",
   "execution_count": 94,
   "id": "717b2a91",
   "metadata": {},
   "outputs": [
    {
     "name": "stdout",
     "output_type": "stream",
     "text": [
      "False\n"
     ]
    }
   ],
   "source": [
    "def pengram(s):\n",
    "    alphabet='abcdefghijklmnopqrstuvwxyz'\n",
    "    s_lowercase=s.lower()\n",
    "    for ch in alphabet:\n",
    "        if ch not in s:\n",
    "            return False\n",
    "    return True\n",
    "pen=pengram('dfghjkiuytrdsz')\n",
    "            \n",
    "print(pen)\n",
    "\n"
   ]
  },
  {
   "cell_type": "code",
   "execution_count": 95,
   "id": "e816cccf",
   "metadata": {},
   "outputs": [
    {
     "name": "stdout",
     "output_type": "stream",
     "text": [
      "[1, 3, 12, 0, 0]\n"
     ]
    }
   ],
   "source": [
    "\n",
    "def move_zeros(arr):\n",
    "    zeros=[]\n",
    "    non_zeros=[]\n",
    "    for i in arr:\n",
    "        if i==0:\n",
    "            zeros.append(i)\n",
    "        else:\n",
    "            non_zeros.append(i)\n",
    "    return non_zeros+zeros\n",
    "result=move_zeros([0,1,0,3,12])\n",
    "print(result)\n"
   ]
  },
  {
   "cell_type": "code",
   "execution_count": 24,
   "id": "117136a5",
   "metadata": {},
   "outputs": [
    {
     "name": "stdout",
     "output_type": "stream",
     "text": [
      "[1, 12, 3, 0, 0]\n"
     ]
    }
   ],
   "source": [
    "def move_zeros(arr):\n",
    "    for i in range(0,len(arr)-1):\n",
    "        \n",
    "        if arr[i]!=0 and arr[i+1]==0:\n",
    "            if arr[i-2]==0:\n",
    "                \n",
    "                temp3=arr[i-2]\n",
    "                arr[i-2]=arr[i+1]\n",
    "                arr[i+1]=temp3\n",
    "                \n",
    "            temp1=arr[i] \n",
    "            arr[i]=arr[i+1]\n",
    "            arr[i+1]=temp1\n",
    "            \n",
    "        elif arr[i]==0 and arr[i+1]!=0:\n",
    "            if arr[i-2]==0:\n",
    "                \n",
    "                temp3=arr[i-2]\n",
    "                arr[i-2]=arr[i+1]\n",
    "                arr[i+1]=temp3\n",
    "                \n",
    "            temp=arr[i]\n",
    "            arr[i]=arr[i+1]\n",
    "            arr[i+1]=temp\n",
    "        elif arr[i]==0 and arr[i+1]==0:\n",
    "            if arr[i-2]==0:\n",
    "                \n",
    "                temp3=arr[i-2]\n",
    "                arr[i-2]=arr[i+1]\n",
    "                arr[i+1]=temp3\n",
    "        \n",
    "    return arr\n",
    "result=move_zeros([0,1,0,3,12])\n",
    "print(result)\n",
    "\n",
    "# i=0 i+1=1\n",
    "#'''arr[i]=0 and arr[i+1]=1  temp=0 arr[i]=1 arr[i+1]=0\n",
    "#arr=[1,0,0,3,12] \n",
    "#i=1 i+1=2 arr[i]=0 arr[i+1]=0 \n",
    "# i=2 i+1=3 arr[i]=0 and arr[i+1]=3 second condition temp=0 arr[i]=3 arr[i+1]=0 \n",
    "#arr=[1,0,3,0,12]"
   ]
  },
  {
   "cell_type": "code",
   "execution_count": 2,
   "id": "1fd11d8f",
   "metadata": {},
   "outputs": [
    {
     "name": "stdout",
     "output_type": "stream",
     "text": [
      "[1, 0, 3, 12, 0]\n"
     ]
    }
   ],
   "source": [
    "def move_zeros(arr):\n",
    "    for i in range(len(arr) - 1):  # Avoid out-of-range access\n",
    "        if arr[i] != 0 and arr[i + 1] == 0:  # Non-zero followed by zero\n",
    "            arr[i], arr[i + 1] = arr[i + 1], arr[i]  # Swap values\n",
    "        elif arr[i] == 0 and arr[i + 1] != 0:  # Zero followed by non-zero\n",
    "            arr[i], arr[i + 1] = arr[i + 1], arr[i]  # Swap values\n",
    "    return arr\n",
    "\n",
    "result = move_zeros([0, 1, 0, 3, 12])\n",
    "print(result)\n"
   ]
  },
  {
   "cell_type": "code",
   "execution_count": 3,
   "id": "f4923eb3",
   "metadata": {},
   "outputs": [
    {
     "name": "stdout",
     "output_type": "stream",
     "text": [
      "[1, 3, 12, 0, 0, 0, 0, 0]\n"
     ]
    }
   ],
   "source": [
    "def move_zeros(arr):\n",
    "    count=0\n",
    "    for i in range(0,len(arr)-1):\n",
    "        if arr[count]==0:\n",
    "            arr.append(arr[count])\n",
    "            del arr[count]\n",
    "        else :\n",
    "            count=count+1\n",
    "        \n",
    "    return arr\n",
    "result=move_zeros([0,0,1,0,0,3,0,12])\n",
    "print(result)\n",
    "\n",
    "#count=0 arr[count]=0 arr[0,0,1,0,3,12,0] delete arr=[0,1,0,3,12,0]\n",
    "#count=1"
   ]
  },
  {
   "cell_type": "code",
   "execution_count": 4,
   "id": "71f5a80b",
   "metadata": {},
   "outputs": [
    {
     "name": "stdout",
     "output_type": "stream",
     "text": [
      "odd\n",
      "3\n"
     ]
    }
   ],
   "source": [
    "def check_number(n):\n",
    "    if n%2==0:\n",
    "        print('even')\n",
    "    else :\n",
    "        print('odd')\n",
    "    return n\n",
    "result=check_number(3)\n",
    "print(result)"
   ]
  },
  {
   "cell_type": "code",
   "execution_count": 5,
   "id": "34a9a903",
   "metadata": {},
   "outputs": [
    {
     "name": "stdout",
     "output_type": "stream",
     "text": [
      "True\n"
     ]
    }
   ],
   "source": [
    "def is_prime(n):\n",
    "    if n<=1:\n",
    "        return False\n",
    "    for i in range(2,n):\n",
    "        if n%i==0:\n",
    "            return False\n",
    "    return True\n",
    "result=is_prime(7)\n",
    "print(result)\n",
    "#n=7 "
   ]
  },
  {
   "cell_type": "code",
   "execution_count": 6,
   "id": "edcdcf0c",
   "metadata": {},
   "outputs": [
    {
     "name": "stdout",
     "output_type": "stream",
     "text": [
      "leap year\n",
      "2000\n"
     ]
    }
   ],
   "source": [
    "def leap_year(year):\n",
    "    if (year%4==0) and (year%100==0):\n",
    "        print('leap year')\n",
    "    elif (year%4==0) and (year%100!=0):\n",
    "        print('yes')\n",
    "    else :\n",
    "        print('Not')\n",
    "    return year\n",
    "result=leap_year(2000)\n",
    "print(result)"
   ]
  },
  {
   "cell_type": "code",
   "execution_count": 7,
   "id": "db54855e",
   "metadata": {},
   "outputs": [
    {
     "name": "stdout",
     "output_type": "stream",
     "text": [
      "3\n",
      "Not\n"
     ]
    }
   ],
   "source": [
    "def armstrong(num):\n",
    "    sum=0\n",
    "    count=0\n",
    "    temp=num\n",
    "    while temp>0:\n",
    "        digit=temp%10\n",
    "        count=count+1\n",
    "        temp=temp//10\n",
    "    print(count)\n",
    "    temp=num\n",
    "    while temp>0:\n",
    "        digit=temp%10\n",
    "        sum=sum+pow(digit,count)\n",
    "        temp=temp//10\n",
    "    if num==sum:\n",
    "        print('armstrong')\n",
    "    else:\n",
    "        print('Not')\n",
    "armstrong(163)      "
   ]
  },
  {
   "cell_type": "code",
   "execution_count": 8,
   "id": "09d4ce80",
   "metadata": {},
   "outputs": [
    {
     "name": "stdout",
     "output_type": "stream",
     "text": [
      "[0, 1, 1, 2, 3, 5, 8, 13]\n"
     ]
    }
   ],
   "source": [
    "def fib(n):\n",
    "    sequence=[0,1]\n",
    "    for i in range(2,n):\n",
    "        fib=sequence[i-1]+sequence[i-2]\n",
    "        sequence.append(fib)\n",
    "    return sequence\n",
    "result=fib(8)\n",
    "print(result)"
   ]
  },
  {
   "cell_type": "code",
   "execution_count": 9,
   "id": "32425672",
   "metadata": {},
   "outputs": [
    {
     "name": "stdout",
     "output_type": "stream",
     "text": [
      "True\n"
     ]
    }
   ],
   "source": [
    "def pallindrome(s):\n",
    "    return s==s[::-1]\n",
    "result=pallindrome('racecar')\n",
    "print(result)"
   ]
  },
  {
   "cell_type": "code",
   "execution_count": 3,
   "id": "a4e0236c",
   "metadata": {},
   "outputs": [
    {
     "name": "stdout",
     "output_type": "stream",
     "text": [
      "120\n"
     ]
    }
   ],
   "source": [
    "#Recursional is conditional break\n",
    "\n",
    "def factorial(n):\n",
    "    if n==0:\n",
    "        return 1\n",
    "    else:\n",
    "        return n*factorial(n-1)\n",
    "result=factorial(5)\n",
    "print(result)"
   ]
  },
  {
   "cell_type": "code",
   "execution_count": 4,
   "id": "31138b13",
   "metadata": {},
   "outputs": [
    {
     "data": {
      "text/plain": [
       "0.1"
      ]
     },
     "execution_count": 4,
     "metadata": {},
     "output_type": "execute_result"
    }
   ],
   "source": [
    "#Summing Digits of a Number\n",
    "def sum_number(n):\n",
    "    \n",
    "    sum_digit=0\n",
    "    sum1=0\n",
    "    while n>0:\n",
    "        sum_digit=n%10\n",
    "        n=n//10\n",
    "        sum1=sum1+sum_digit\n",
    "    return sum1\n",
    "sum_number(0.1)\n",
    "\n",
    "#n=1234 temp=n temp=1234 1234>0 sum_digit=4 n=123 sum1=0+4=4\n",
    "#n=123 temp=123 123"
   ]
  },
  {
   "cell_type": "code",
   "execution_count": 5,
   "id": "3e0bcaae",
   "metadata": {},
   "outputs": [
    {
     "data": {
      "text/plain": [
       "6"
      ]
     },
     "execution_count": 5,
     "metadata": {},
     "output_type": "execute_result"
    }
   ],
   "source": [
    "#Finding the Greatest Common Divisor (GCD)\n",
    "def GCD(a,b):\n",
    "    gcd=0\n",
    "    n=min(a,b)\n",
    "    #print(n)\n",
    "    for i in range(1,n+1):\n",
    "        if a%i==0 and b%i==0:\n",
    "            gcd=max(gcd,i)\n",
    "    return gcd\n",
    "GCD(48,18)"
   ]
  },
  {
   "cell_type": "code",
   "execution_count": 6,
   "id": "30edcadd",
   "metadata": {},
   "outputs": [
    {
     "data": {
      "text/plain": [
       "1"
      ]
     },
     "execution_count": 6,
     "metadata": {},
     "output_type": "execute_result"
    }
   ],
   "source": [
    "def factroial(n):\n",
    "    fact=1\n",
    "    for i in range(1,n+1):\n",
    "        fact=fact*i\n",
    "    return fact\n",
    "factroial(0)"
   ]
  },
  {
   "cell_type": "code",
   "execution_count": 7,
   "id": "b03a7509",
   "metadata": {},
   "outputs": [
    {
     "data": {
      "text/plain": [
       "60.0"
      ]
     },
     "execution_count": 7,
     "metadata": {},
     "output_type": "execute_result"
    }
   ],
   "source": [
    "def LCM(a,b):\n",
    "    gcd=0\n",
    "    n=min(a,b)\n",
    "    for i in range(1,n+1):\n",
    "        if a%i==0 and b%i==0:\n",
    "            gcd=max(gcd,i)\n",
    "            lcm=(a*b)/gcd\n",
    "    return lcm\n",
    "LCM(12,15)\n",
    "    "
   ]
  },
  {
   "cell_type": "code",
   "execution_count": 8,
   "id": "a4992bdc",
   "metadata": {},
   "outputs": [
    {
     "data": {
      "text/plain": [
       "(3, 8)"
      ]
     },
     "execution_count": 8,
     "metadata": {},
     "output_type": "execute_result"
    }
   ],
   "source": [
    "vowels=('aeiouAEIOU')\n",
    "def count_vowels(s):\n",
    "    vowels_count=0\n",
    "    consanants=0\n",
    "    for char in s:\n",
    "        if char in vowels:\n",
    "            vowels_count=vowels_count+1\n",
    "        else:\n",
    "            consanants=consanants+1\n",
    "    return vowels_count,consanants\n",
    "count_vowels('hello world')"
   ]
  },
  {
   "cell_type": "code",
   "execution_count": 9,
   "id": "9488764d",
   "metadata": {},
   "outputs": [
    {
     "name": "stdout",
     "output_type": "stream",
     "text": [
      "(3, 7)\n"
     ]
    }
   ],
   "source": [
    "vowels = 'aeiouAEIOU'\n",
    "\n",
    "def count_vowels(s):\n",
    "    vowels_count = 0\n",
    "    consonants = 0\n",
    "    for char in s:\n",
    "        if char.isalpha():  # Only consider alphabetic characters\n",
    "            if char in vowels:\n",
    "                vowels_count += 1\n",
    "            else:\n",
    "                consonants += 1\n",
    "    return vowels_count, consonants\n",
    "\n",
    "result = count_vowels('hello world')\n",
    "print(result)\n"
   ]
  },
  {
   "cell_type": "code",
   "execution_count": 10,
   "id": "fdf7a3fb",
   "metadata": {},
   "outputs": [
    {
     "data": {
      "text/plain": [
       "'gnimmargorp'"
      ]
     },
     "execution_count": 10,
     "metadata": {},
     "output_type": "execute_result"
    }
   ],
   "source": [
    "def reverse_string(s):\n",
    "    s=list(s)\n",
    "    left=0\n",
    "    right=len(s)-1\n",
    "    while left<right:\n",
    "        s[left],s[right]=s[right],s[left]\n",
    "        left=left+1\n",
    "        right=right-1\n",
    "    return ''.join(s)\n",
    "        \n",
    "reverse_string('programming')"
   ]
  },
  {
   "cell_type": "code",
   "execution_count": 11,
   "id": "25c03f22",
   "metadata": {},
   "outputs": [
    {
     "data": {
      "text/plain": [
       "'gnimmargorp'"
      ]
     },
     "execution_count": 11,
     "metadata": {},
     "output_type": "execute_result"
    }
   ],
   "source": [
    "def reverse_string(s):\n",
    "    string=\"\"\n",
    "#     print(s[1::]+s[0])\n",
    "#     print(s[::-1])\n",
    "    for i in range(len(s)-1,-1,-1):\n",
    "        string=string+s[i]\n",
    "    return string\n",
    "reverse_string('programming')"
   ]
  },
  {
   "cell_type": "code",
   "execution_count": 12,
   "id": "18e46ad5",
   "metadata": {},
   "outputs": [
    {
     "data": {
      "text/plain": [
       "'Array is emprty'"
      ]
     },
     "execution_count": 12,
     "metadata": {},
     "output_type": "execute_result"
    }
   ],
   "source": [
    "def large_small(a):\n",
    "    large=float('-inf')\n",
    "    second_large=float('-inf')\n",
    "    empty_var='Array is emprty'\n",
    "    for i in a:\n",
    "        if i>large:\n",
    "            second_large=large\n",
    "            large=i\n",
    "        elif i<second_large and i>large:\n",
    "            second_large=i\n",
    "       # elif large==float('-inf'):\n",
    "            \n",
    "    return empty_var\n",
    "large_small([])\n"
   ]
  },
  {
   "cell_type": "code",
   "execution_count": 13,
   "id": "3284b267",
   "metadata": {},
   "outputs": [
    {
     "name": "stdout",
     "output_type": "stream",
     "text": [
      "this array is empty\n"
     ]
    },
    {
     "data": {
      "text/plain": [
       "'this array is empty'"
      ]
     },
     "execution_count": 13,
     "metadata": {},
     "output_type": "execute_result"
    }
   ],
   "source": [
    "empty_var=\"\"\n",
    "def large_small(a):\n",
    "    large=float('-inf')\n",
    "    second_large=float('-inf')\n",
    "    for i in a:\n",
    "        if i>large:\n",
    "            second_large=large\n",
    "            large=i\n",
    "        elif i<second_large and i>large:\n",
    "            second_large=i\n",
    "    if large==float('-inf'):\n",
    "        empty_var=\"this array is empty\"\n",
    "        print(empty_var) \n",
    "    return empty_var\n",
    "large_small([])\n"
   ]
  },
  {
   "cell_type": "code",
   "execution_count": 14,
   "id": "10522841",
   "metadata": {},
   "outputs": [
    {
     "name": "stdout",
     "output_type": "stream",
     "text": [
      "empty\n"
     ]
    }
   ],
   "source": [
    "a=[]\n",
    "if not a:\n",
    "    print('empty')\n",
    "else:\n",
    "    print('no')"
   ]
  },
  {
   "cell_type": "code",
   "execution_count": 15,
   "id": "8d032aa1",
   "metadata": {},
   "outputs": [
    {
     "name": "stdout",
     "output_type": "stream",
     "text": [
      "True\n"
     ]
    }
   ],
   "source": [
    "a=float('-inf') \n",
    "b=float('inf')\n",
    "print(bool(a and b))"
   ]
  },
  {
   "cell_type": "code",
   "execution_count": 16,
   "id": "511e7af7",
   "metadata": {},
   "outputs": [
    {
     "name": "stdout",
     "output_type": "stream",
     "text": [
      "6\n"
     ]
    },
    {
     "data": {
      "text/plain": [
       "[1, 1, 3, 4, 5, 9]"
      ]
     },
     "execution_count": 16,
     "metadata": {},
     "output_type": "execute_result"
    }
   ],
   "source": [
    "def bubble_sort(arr):\n",
    "    n=len(arr)\n",
    "    print(n)\n",
    "    for i in range(n-1):\n",
    "        for j in range(n-i-1):\n",
    "            if arr[j]>arr[j+1]:\n",
    "                arr[j],arr[j+1] = arr[j+1],arr[j]\n",
    "    return arr\n",
    "bubble_sort([3,1,4,1,5,9])\n",
    "\n",
    "# BUBBLE SORT "
   ]
  },
  {
   "cell_type": "code",
   "execution_count": 17,
   "id": "eec228f0",
   "metadata": {},
   "outputs": [
    {
     "name": "stdout",
     "output_type": "stream",
     "text": [
      "0\n",
      "1\n",
      "2\n",
      "3\n",
      "4\n"
     ]
    }
   ],
   "source": [
    "arr=[3,1,4,1,5,9]\n",
    "for i in range(len(arr)-1):\n",
    "    print(i)"
   ]
  },
  {
   "cell_type": "code",
   "execution_count": 18,
   "id": "606b9d5a",
   "metadata": {},
   "outputs": [
    {
     "name": "stdout",
     "output_type": "stream",
     "text": [
      "['i', 'am', 'nikita']\n",
      "nikita\n"
     ]
    }
   ],
   "source": [
    "dictionary={}\n",
    "s=\"i am nikita\"\n",
    "splitting=s.split()\n",
    "print(splitting)\n",
    "large_word=max(splitting,key=len)\n",
    "print(large_word)"
   ]
  },
  {
   "cell_type": "code",
   "execution_count": 19,
   "id": "1d050524",
   "metadata": {},
   "outputs": [
    {
     "name": "stdout",
     "output_type": "stream",
     "text": [
      "['i', 'am', 'nikita']\n",
      "i\n",
      "am\n",
      "nikita\n",
      "{'i': 1, 'am': 1, 'nikita': 1}\n"
     ]
    }
   ],
   "source": [
    "dictionary={}\n",
    "s=\"i am nikita\"\n",
    "splitting=s.split()\n",
    "print(splitting)\n",
    "for i in splitting:\n",
    "    print(i)\n",
    "    dictionary[i]=dictionary.get(i,0)+1\n",
    "print(dictionary)"
   ]
  },
  {
   "cell_type": "code",
   "execution_count": 20,
   "id": "570815e0",
   "metadata": {},
   "outputs": [
    {
     "name": "stdout",
     "output_type": "stream",
     "text": [
      "['i', 'am', 'nikita']\n",
      "nikita\n"
     ]
    }
   ],
   "source": [
    "large_word=\"\"\n",
    "s=\"i am nikita\"\n",
    "splitting=s.split()\n",
    "print(splitting)\n",
    "for i in splitting:\n",
    "    if len(i) > len(large_word):\n",
    "        large_word=i\n",
    "print(large_word)"
   ]
  },
  {
   "cell_type": "code",
   "execution_count": 21,
   "id": "40d912c6",
   "metadata": {},
   "outputs": [
    {
     "data": {
      "text/plain": [
       "3"
      ]
     },
     "execution_count": 21,
     "metadata": {},
     "output_type": "execute_result"
    }
   ],
   "source": [
    "vowels=('aeiouAEIOU')\n",
    "def count_vowels(s):\n",
    "    vowels_count=0\n",
    "    for char in s:\n",
    "        if char in vowels:\n",
    "            vowels_count=vowels_count+1\n",
    "        \n",
    "    return vowels_count\n",
    "count_vowels('hello world')"
   ]
  },
  {
   "cell_type": "code",
   "execution_count": 22,
   "id": "d3f1fcc6",
   "metadata": {},
   "outputs": [
    {
     "name": "stdout",
     "output_type": "stream",
     "text": [
      "no\n",
      "no\n",
      "no\n",
      "[1, 2, 4, 5, 7, 8]\n"
     ]
    }
   ],
   "source": [
    "def remove_duplicates(arr):\n",
    "    idx=0\n",
    "    for i in range(1,len(arr)):\n",
    "        if arr[i]!=arr[idx]:\n",
    "            idx=idx+1\n",
    "            arr[idx]=arr[i]\n",
    "        else:\n",
    "            print('no')\n",
    "    return arr[:idx+1]\n",
    "arr=[1,2,2,4,5,5,7,7,8]\n",
    "result=remove_duplicates(arr)            \n",
    "print(result)\n",
    "\n",
    "#idx=0 i=1 arr[1]!=arr[0] 1!=2 idx=0+1\n",
    "#idx=1 i=2 arr[2]!=arr[1] 2!=2  no idx=1+1=2\n",
    "#idx=2 i=3 arr[3]!=arr[2] 2!=4 idx=2+1=3\n",
    "#idx=3 i=4 arr[4]!=arr[3] 4!=5 idx="
   ]
  },
  {
   "cell_type": "code",
   "execution_count": 23,
   "id": "f2759f44",
   "metadata": {},
   "outputs": [
    {
     "name": "stdout",
     "output_type": "stream",
     "text": [
      "3\n",
      "3 x 1 = 3\n",
      "3 x 2 = 6\n",
      "3 x 3 = 9\n",
      "3 x 4 = 12\n",
      "3 x 5 = 15\n",
      "3 x 6 = 18\n",
      "3 x 7 = 21\n",
      "3 x 8 = 24\n",
      "3 x 9 = 27\n",
      "3 x 10 = 30\n"
     ]
    },
    {
     "data": {
      "text/plain": [
       "3"
      ]
     },
     "execution_count": 23,
     "metadata": {},
     "output_type": "execute_result"
    }
   ],
   "source": [
    "def generate_number(number,end=10):\n",
    "    print(number)\n",
    "    for i in range(1,end+1):\n",
    "        print(f\"{number} x {i} = {number * i}\")\n",
    "    return number\n",
    "\n",
    "generate_number(3)"
   ]
  },
  {
   "cell_type": "code",
   "execution_count": 24,
   "id": "30818d1c",
   "metadata": {},
   "outputs": [
    {
     "data": {
      "text/plain": [
       "False"
      ]
     },
     "execution_count": 24,
     "metadata": {},
     "output_type": "execute_result"
    }
   ],
   "source": [
    "def prime(n):\n",
    "    if n <= 1:\n",
    "        return False\n",
    "    for i in range(2, n):\n",
    "        if n % i == 0:\n",
    "            return False\n",
    "    return True\n",
    "prime(6) "
   ]
  },
  {
   "cell_type": "code",
   "execution_count": 25,
   "id": "4894c71a",
   "metadata": {},
   "outputs": [
    {
     "name": "stdout",
     "output_type": "stream",
     "text": [
      "[11, 11, 11, 11, 11, 11, 11, 11, 11, 13, 13, 13, 13, 13, 13, 13, 13, 13, 13, 13, 15, 17, 17, 17, 17, 17, 17, 17, 17, 17, 17, 17, 17, 17, 17, 17, 19, 19, 19, 19, 19, 19, 19, 19, 19, 19, 19, 19, 19, 19, 19, 19, 19, 21, 23, 23, 23, 23, 23, 23, 23, 23, 23, 23, 23, 23, 23, 23, 23, 23, 23, 23, 23, 23, 23, 25, 25, 25, 27, 29, 29, 29, 29, 29, 29, 29, 29, 29, 29, 29, 29, 29, 29, 29, 29, 29, 29, 29, 29, 29, 29, 29, 29, 29, 29, 29]\n"
     ]
    }
   ],
   "source": [
    "# prime number=1,3,7,11,13,\n",
    "# A number should not be 0 or 1 and divide itself only\n",
    "num=[10,30]\n",
    "num1=[]\n",
    "def prime_numbers(num):\n",
    "    for i in range(num[0]+1,num[1]):\n",
    "        for j in range(2,num[1]):\n",
    "            if i%j==0:\n",
    "                break\n",
    "       # if i%i==0:\n",
    "            else:\n",
    "                num1.append(i)\n",
    "prime_numbers(num)\n",
    "print(num1)\n",
    "            \n",
    "\n",
    "# i=11 j=2 11%2!=0  \n",
    "# i=21 j=2 21%2==0"
   ]
  },
  {
   "cell_type": "code",
   "execution_count": 26,
   "id": "b81774db",
   "metadata": {},
   "outputs": [
    {
     "name": "stdout",
     "output_type": "stream",
     "text": [
      "11\n",
      "13\n",
      "17\n",
      "19\n",
      "23\n",
      "29\n",
      "[11, 13, 17, 19, 23, 29]\n"
     ]
    }
   ],
   "source": [
    "def prime(n):\n",
    "    if n <= 1:\n",
    "        return False\n",
    "    for k in range(2, n):\n",
    "        if n % k == 0:\n",
    "            return False\n",
    "    return True\n",
    "\n",
    "num=[10,30]\n",
    "num1=[]\n",
    "def prime_numbers(num):\n",
    "    for i in range(num[0]+1,num[1]):\n",
    "        if prime(i)==True:\n",
    "            num1.append(i)\n",
    "            print(i)\n",
    "prime_numbers(num)\n",
    "print(num1)\n",
    "\n",
    "# i = 11  n=i=+ "
   ]
  },
  {
   "cell_type": "code",
   "execution_count": 3,
   "id": "80a3b19e",
   "metadata": {},
   "outputs": [
    {
     "data": {
      "text/plain": [
       "6"
      ]
     },
     "execution_count": 3,
     "metadata": {},
     "output_type": "execute_result"
    }
   ],
   "source": [
    "# 1,2,3=6\n",
    "\n",
    "def perfect_number(n):\n",
    "    result=0\n",
    "    for i in range(1,n):\n",
    "        if n%i==0:\n",
    "            result=result+i\n",
    "    \n",
    "    return result \n",
    "perfect_number(6)\n",
    "                   "
   ]
  },
  {
   "cell_type": "code",
   "execution_count": 40,
   "id": "88737632",
   "metadata": {},
   "outputs": [
    {
     "name": "stdout",
     "output_type": "stream",
     "text": [
      "15\n"
     ]
    }
   ],
   "source": [
    "#1+2+3+4+5=15\n",
    "var=0\n",
    "for i in range(1,6):\n",
    "    var=var+i\n",
    "print(var)"
   ]
  },
  {
   "cell_type": "code",
   "execution_count": 41,
   "id": "1153bba8",
   "metadata": {},
   "outputs": [
    {
     "name": "stdout",
     "output_type": "stream",
     "text": [
      "30\n"
     ]
    }
   ],
   "source": [
    "def even_sum(n):\n",
    "    result1=0\n",
    "    for i in range(n[0],n[1]+1):\n",
    "        if i%2==0:\n",
    "            result1=result1+i\n",
    "    print(result1)\n",
    "even_sum([1,10])"
   ]
  },
  {
   "cell_type": "code",
   "execution_count": 42,
   "id": "a9741d94",
   "metadata": {},
   "outputs": [
    {
     "name": "stdout",
     "output_type": "stream",
     "text": [
      "25\n"
     ]
    }
   ],
   "source": [
    "def odd_sum(n):\n",
    "    result1=0\n",
    "    for i in range(n[0],n[1]+1):\n",
    "        if i%2!=0:\n",
    "            result1=result1+i\n",
    "    print(result1)\n",
    "odd_sum([1,10])"
   ]
  },
  {
   "cell_type": "code",
   "execution_count": 43,
   "id": "7154c2c0",
   "metadata": {},
   "outputs": [
    {
     "name": "stdout",
     "output_type": "stream",
     "text": [
      "25\n"
     ]
    }
   ],
   "source": [
    "def odd_numbers(num):\n",
    "    result2=0\n",
    "    i=num[0]\n",
    "    while i<=num[1]:\n",
    "        if i%2!=0:\n",
    "            result2=result2+i\n",
    "        i=i+1\n",
    "    print(result2)\n",
    "odd_numbers([1,10])\n",
    "       \n"
   ]
  },
  {
   "cell_type": "code",
   "execution_count": 44,
   "id": "2ef79019",
   "metadata": {},
   "outputs": [
    {
     "data": {
      "text/plain": [
       "[0, 1, 1, 2, 3]"
      ]
     },
     "execution_count": 44,
     "metadata": {},
     "output_type": "execute_result"
    }
   ],
   "source": [
    "def fib(n):\n",
    "    seq=[0,1]\n",
    "    for i in range(2,n):\n",
    "        fibo=seq[i-1]+seq[i-2]\n",
    "        seq.append(fibo)\n",
    "    return seq\n",
    "fib(5)"
   ]
  },
  {
   "cell_type": "code",
   "execution_count": 46,
   "id": "dbb33340",
   "metadata": {},
   "outputs": [
    {
     "name": "stdout",
     "output_type": "stream",
     "text": [
      "specific number 5\n"
     ]
    }
   ],
   "source": [
    "def fibonacci(num):\n",
    "    n1=0\n",
    "    n2=1\n",
    "    next=0\n",
    "    for i in range(0,num):\n",
    "        next=n1+n2\n",
    "        n1=n2\n",
    "        n2=next\n",
    "    print('specific number',n1)\n",
    "fibonacci(5)\n",
    "\n",
    "# n1=0 n2=1 next=0 i=0 n1=0 next=0+1=1 n1=n2 0=1 n1=1 next=1"
   ]
  },
  {
   "cell_type": "code",
   "execution_count": 47,
   "id": "33968346",
   "metadata": {},
   "outputs": [
    {
     "name": "stdout",
     "output_type": "stream",
     "text": [
      "2\n",
      "3\n",
      "5\n",
      "7\n",
      "11\n",
      "13\n",
      "17\n",
      "19\n"
     ]
    }
   ],
   "source": [
    "def prime(n):\n",
    "    if n <= 1:\n",
    "        return False\n",
    "    for k in range(2, n):\n",
    "        if n % k == 0:\n",
    "            return False\n",
    "    return True\n",
    "\n",
    "num=20\n",
    "\n",
    "def prime_numbers(num):\n",
    "    for i in range(0,num):\n",
    "        if prime(i)==True:\n",
    "            print(i)\n",
    "prime_numbers(num)\n",
    "\n",
    "# i = 11  n=i=+ "
   ]
  },
  {
   "cell_type": "code",
   "execution_count": 48,
   "id": "a063abc2",
   "metadata": {},
   "outputs": [
    {
     "name": "stdout",
     "output_type": "stream",
     "text": [
      "8\n"
     ]
    }
   ],
   "source": [
    "def digit_count(n):\n",
    "    count=0\n",
    "    while n>=1:\n",
    "        n=n//10\n",
    "        count=count+1\n",
    "    print(count)\n",
    "digit_count(12345678)"
   ]
  },
  {
   "cell_type": "code",
   "execution_count": 49,
   "id": "01589a6f",
   "metadata": {},
   "outputs": [
    {
     "name": "stdout",
     "output_type": "stream",
     "text": [
      "3\n",
      "armstrong\n"
     ]
    }
   ],
   "source": [
    "def armstrong(num):\n",
    "    sum=0\n",
    "    count=0\n",
    "    temp=num\n",
    "    while temp>0:\n",
    "        digit=temp%10\n",
    "        count=count+1\n",
    "        temp=temp//10\n",
    "    print(count)\n",
    "    temp=num\n",
    "    while temp>0:\n",
    "        digit=temp%10\n",
    "        sum=sum+pow(digit,count)\n",
    "        temp=temp//10\n",
    "    if num==sum:\n",
    "        print('armstrong')\n",
    "    else:\n",
    "        print('Not')\n",
    "armstrong(153)      "
   ]
  },
  {
   "cell_type": "code",
   "execution_count": 50,
   "id": "28321bcd",
   "metadata": {},
   "outputs": [
    {
     "name": "stdout",
     "output_type": "stream",
     "text": [
      "yes\n"
     ]
    }
   ],
   "source": [
    "num=153\n",
    "sum=0\n",
    "temp=num\n",
    "while temp>0:\n",
    "    digit=temp%10\n",
    "    sum=sum+(digit**3)\n",
    "    temp=temp//10\n",
    "if num==sum:\n",
    "    print('yes')\n",
    "else:\n",
    "    print('No')\n"
   ]
  },
  {
   "cell_type": "code",
   "execution_count": 51,
   "id": "53bed873",
   "metadata": {},
   "outputs": [
    {
     "name": "stdout",
     "output_type": "stream",
     "text": [
      "3\n",
      "yes\n"
     ]
    }
   ],
   "source": [
    "def armstrong(n):\n",
    "    count=0\n",
    "    sum=0\n",
    "    temp=n\n",
    "    while temp>0:\n",
    "        digit=temp%10\n",
    "        count=count+1\n",
    "        temp=temp//10\n",
    "    print(count)\n",
    "    temp=n\n",
    "    while temp>0:\n",
    "        digit=temp%10\n",
    "       # sum=sum+pow(digit,count)\n",
    "        sum=sum+(digit**count)\n",
    "        temp=temp//10\n",
    "    if n==sum:\n",
    "        print('yes')\n",
    "    else:\n",
    "        print('Not')\n",
    "armstrong(153)"
   ]
  },
  {
   "cell_type": "code",
   "execution_count": 52,
   "id": "9a61ee9c",
   "metadata": {},
   "outputs": [
    {
     "name": "stdout",
     "output_type": "stream",
     "text": [
      "1 \n",
      "2 3 \n",
      "4 5 6 \n"
     ]
    }
   ],
   "source": [
    "n=3\n",
    "n1=1\n",
    "for i in range(1,n+1):\n",
    "    for j in range(1,i+1):\n",
    "        print(n1,end=\" \")\n",
    "        n1=n1+1\n",
    "    print()"
   ]
  },
  {
   "cell_type": "code",
   "execution_count": 53,
   "id": "77e47d10",
   "metadata": {},
   "outputs": [
    {
     "name": "stdout",
     "output_type": "stream",
     "text": [
      "3\n"
     ]
    }
   ],
   "source": [
    "# 4!=3*2*1\n",
    "#24\n",
    "# 2+4=6\n",
    "\n",
    "def fact(n):\n",
    "    facto=1\n",
    "    for i in range(1,n+1):\n",
    "        facto=facto*i\n",
    "    return facto\n",
    "def sumoffactorial(n):\n",
    "    factval=fact(n)\n",
    "    res=0\n",
    "    while factval>=1:\n",
    "        digit=factval%10\n",
    "        factval=(factval-digit)//10\n",
    "        res=res+digit\n",
    "    return res\n",
    "print(sumoffactorial(5))\n",
    "#print(fact(5))"
   ]
  },
  {
   "cell_type": "code",
   "execution_count": 54,
   "id": "de2d9d9e",
   "metadata": {},
   "outputs": [
    {
     "data": {
      "text/plain": [
       "120"
      ]
     },
     "execution_count": 54,
     "metadata": {},
     "output_type": "execute_result"
    }
   ],
   "source": [
    "def factorial(n):\n",
    "    if n<1:\n",
    "        return 1\n",
    "    return n * factorial(n-1)\n",
    "factorial(5)\n",
    "        "
   ]
  },
  {
   "cell_type": "code",
   "execution_count": 55,
   "id": "357782a0",
   "metadata": {},
   "outputs": [
    {
     "data": {
      "text/plain": [
       "True"
      ]
     },
     "execution_count": 55,
     "metadata": {},
     "output_type": "execute_result"
    }
   ],
   "source": [
    "def pallindrome(s):\n",
    "    if s==s[::-1]:\n",
    "        return True\n",
    "    return False\n",
    "pallindrome('racecar')"
   ]
  },
  {
   "cell_type": "code",
   "execution_count": 1,
   "id": "3143c725",
   "metadata": {},
   "outputs": [
    {
     "data": {
      "text/plain": [
       "('ac', 'bd')"
      ]
     },
     "execution_count": 1,
     "metadata": {},
     "output_type": "execute_result"
    }
   ],
   "source": [
    "# SUBSTRING:= a whole string can be substring and part of string is called substring\n",
    "# abc=a,b,c,ab,bc,abc\n",
    "arr=[]\n",
    "arr1=[]\n",
    "arr2=[]\n",
    "def sub_string(s):\n",
    "    for i in s:\n",
    "        arr.append(i)\n",
    "    for j in range(0,len(arr)):\n",
    "        if j%2==0: \n",
    "            arr1.append(arr[j])\n",
    "        else:\n",
    "            arr2.append(arr[j])\n",
    "    return ''.join(arr1),''.join(arr2)\n",
    "sub_string('abcd')"
   ]
  },
  {
   "cell_type": "code",
   "execution_count": 5,
   "id": "878b9030",
   "metadata": {},
   "outputs": [
    {
     "name": "stdout",
     "output_type": "stream",
     "text": [
      "bb\n"
     ]
    }
   ],
   "source": [
    "arr1=[]\n",
    "def subarr(s):\n",
    "    for i in range(0,len(s)):\n",
    "        for j in range(i+1,len(s)+1):\n",
    "            arr1.append(s[i:j])\n",
    "            #print(s[i],s[j]\n",
    "    return arr1\n",
    "subarr(\"cbbd\")\n",
    "\n",
    "def pallindrome(arr1):\n",
    "    longest_substring=''\n",
    "    for i in arr1:\n",
    "        if len(i)>=len(longest_substring) and i==i[::-1]:\n",
    "            longest_substring=i\n",
    "            if len(longest_substring)>1:\n",
    "                \n",
    "                print(longest_substring)\n",
    "    #return longest_substring\n",
    "pallindrome(arr1)\n",
    "#print(arr1)"
   ]
  },
  {
   "cell_type": "code",
   "execution_count": 58,
   "id": "ee341aba",
   "metadata": {},
   "outputs": [
    {
     "name": "stdout",
     "output_type": "stream",
     "text": [
      "7\n"
     ]
    }
   ],
   "source": [
    "a=0\n",
    "arr=[1,2,7,3]\n",
    "for i in arr:\n",
    "    if i>=a:\n",
    "        a=i\n",
    "print(a)\n"
   ]
  },
  {
   "cell_type": "code",
   "execution_count": 59,
   "id": "0e3db253",
   "metadata": {},
   "outputs": [
    {
     "data": {
      "text/plain": [
       "[2, 3, 5, 6, 7, 8, 9]"
      ]
     },
     "execution_count": 59,
     "metadata": {},
     "output_type": "execute_result"
    }
   ],
   "source": [
    "missing_nu=[]\n",
    "def missing_number(seq):\n",
    "    for i in range(1,seq[-1]+1):\n",
    "        if i not in seq:\n",
    "            missing_nu.append(i)\n",
    "    return missing_nu\n",
    "missing_number([1,4,10])\n",
    "        "
   ]
  },
  {
   "cell_type": "code",
   "execution_count": 60,
   "id": "592d9ca1",
   "metadata": {},
   "outputs": [
    {
     "data": {
      "text/plain": [
       "6"
      ]
     },
     "execution_count": 60,
     "metadata": {},
     "output_type": "execute_result"
    }
   ],
   "source": [
    "a=[1,4,6]\n",
    "a[-1]"
   ]
  },
  {
   "cell_type": "code",
   "execution_count": 61,
   "id": "e6902c07",
   "metadata": {},
   "outputs": [
    {
     "data": {
      "text/plain": [
       "[2, 3, 5, 6, 7, 8, 9]"
      ]
     },
     "execution_count": 61,
     "metadata": {},
     "output_type": "execute_result"
    }
   ],
   "source": [
    "missing_nu=[]\n",
    "def missing_number(seq):\n",
    "    diff=seq[0]-0\n",
    "    size=seq[-1]\n",
    "    for i in range(0,len(seq)):\n",
    "        if seq[i]-i!=diff:\n",
    "            while diff<seq[i]-i:\n",
    "                \n",
    "                missing_nu.append(i+diff)\n",
    "                diff=diff+1\n",
    "    return missing_nu\n",
    "missing_number([1,4,10])\n",
    "        "
   ]
  },
  {
   "cell_type": "code",
   "execution_count": 62,
   "id": "cbf26d08",
   "metadata": {},
   "outputs": [
    {
     "name": "stdout",
     "output_type": "stream",
     "text": [
      "    3\n",
      "   222\n",
      "  11111\n",
      " 0000000\n",
      "000000000\n"
     ]
    }
   ],
   "source": [
    "n=5\n",
    "for i in range(1,n+1):\n",
    "    for j in range(n-i):\n",
    "        print(\" \",end=\"\")\n",
    "    for k in range(2*i-1):\n",
    "        print(j,end=\"\")\n",
    "    print()"
   ]
  },
  {
   "cell_type": "code",
   "execution_count": 63,
   "id": "10478f4f",
   "metadata": {},
   "outputs": [
    {
     "name": "stdout",
     "output_type": "stream",
     "text": [
      "0.0\n"
     ]
    }
   ],
   "source": [
    "print(0/1)"
   ]
  },
  {
   "cell_type": "code",
   "execution_count": 64,
   "id": "95f5a23b",
   "metadata": {},
   "outputs": [
    {
     "name": "stdout",
     "output_type": "stream",
     "text": [
      "      1 \n",
      "     1 1 \n",
      "    1 2 1 \n",
      "   1 3 3 1 \n",
      "  1 4 6 4 1 \n"
     ]
    }
   ],
   "source": [
    "# Print Pascal's Triangle in Python\n",
    "from math import factorial\n",
    "\n",
    "# input n\n",
    "n = 5\n",
    "for i in range(n):\n",
    "    for j in range(n-i+1):\n",
    "\n",
    "        # for left spacing\n",
    "        print(end=\" \")\n",
    "\n",
    "    for k in range(i+1):\n",
    "\n",
    "        # nCr = n!/((n-r)!*r!)\n",
    "        print(factorial(i)//(factorial(k)*factorial(i-k)), end=\" \")\n",
    "\n",
    "    # for new line\n",
    "    print()"
   ]
  },
  {
   "cell_type": "code",
   "execution_count": 65,
   "id": "e955a4ac",
   "metadata": {},
   "outputs": [
    {
     "data": {
      "text/plain": [
       "{'s': 3,\n",
       " 'd': 2,\n",
       " 'q': 1,\n",
       " '2': 1,\n",
       " 'a': 1,\n",
       " 'b': 1,\n",
       " 'k': 3,\n",
       " 'j': 1,\n",
       " 'n': 2,\n",
       " 'l': 1,\n",
       " 'f': 2,\n",
       " ' ': 1}"
      ]
     },
     "execution_count": 65,
     "metadata": {},
     "output_type": "execute_result"
    }
   ],
   "source": [
    "\n",
    "def sentence(s):\n",
    "    var=dict()\n",
    "    for i in s:\n",
    "        if i in var:\n",
    "            var[i]=var[i]+1\n",
    "        else:\n",
    "            var[i] = 1     \n",
    "    return var\n",
    "sentence('sdq2abkjdsnklkfnsf ')"
   ]
  },
  {
   "cell_type": "code",
   "execution_count": 66,
   "id": "e5303189",
   "metadata": {},
   "outputs": [
    {
     "data": {
      "text/plain": [
       "'a3b1c3'"
      ]
     },
     "execution_count": 66,
     "metadata": {},
     "output_type": "execute_result"
    }
   ],
   "source": [
    "# s='aaabbc'\n",
    "# ans = \"a3b2c1\"\n",
    "def s1(s):\n",
    "    ans=\"\"\n",
    "    count = 1\n",
    "    for i in range(0,len(s)-1):\n",
    "        \n",
    "        if s[i]==s[i+1]:\n",
    "            count = count+1\n",
    "        else:  \n",
    "            ans = ans + s[i] +str( count)\n",
    "            count = 1\n",
    "    ans += s[-1] + str(count)\n",
    "    return ans\n",
    "s1('aaabccc')"
   ]
  },
  {
   "cell_type": "code",
   "execution_count": 67,
   "id": "0d21c95e",
   "metadata": {},
   "outputs": [
    {
     "name": "stdout",
     "output_type": "stream",
     "text": [
      "HELLO WORLD\n"
     ]
    }
   ],
   "source": [
    "s='Hello World'\n",
    "print(s.upper())"
   ]
  },
  {
   "cell_type": "code",
   "execution_count": 2,
   "id": "29626f79",
   "metadata": {},
   "outputs": [
    {
     "name": "stdout",
     "output_type": "stream",
     "text": [
      "3.0\n"
     ]
    }
   ],
   "source": [
    "# Finding the Median of an Array\n",
    "import numpy as np\n",
    "arr = [3, 1, 2, 4, 5] \n",
    "print(np.median(arr))"
   ]
  },
  {
   "cell_type": "code",
   "execution_count": 5,
   "id": "b24d6e7a",
   "metadata": {},
   "outputs": [
    {
     "data": {
      "text/plain": [
       "3"
      ]
     },
     "execution_count": 5,
     "metadata": {},
     "output_type": "execute_result"
    }
   ],
   "source": [
    " \n",
    "def find_median(arr):\n",
    "    result=0\n",
    "    for i in arr:\n",
    "        result=result+i\n",
    "    return result//len(arr)\n",
    "find_median([3, 1, 2, 4, 5])"
   ]
  },
  {
   "cell_type": "code",
   "execution_count": 2,
   "id": "e342a5f3",
   "metadata": {},
   "outputs": [
    {
     "name": "stdout",
     "output_type": "stream",
     "text": [
      "9\n"
     ]
    }
   ],
   "source": [
    "a=6\n",
    "b=3\n",
    "print(a+b)"
   ]
  },
  {
   "cell_type": "code",
   "execution_count": 3,
   "id": "063efe72",
   "metadata": {},
   "outputs": [
    {
     "data": {
      "text/plain": [
       "8"
      ]
     },
     "execution_count": 3,
     "metadata": {},
     "output_type": "execute_result"
    }
   ],
   "source": [
    "# Calculating the Power of a Number\n",
    "def exponent_number(base,exp):\n",
    "    return base**exp\n",
    "exponent_number(2,3)"
   ]
  },
  {
   "cell_type": "code",
   "execution_count": 12,
   "id": "f46179c1",
   "metadata": {},
   "outputs": [
    {
     "data": {
      "text/plain": [
       "False"
      ]
     },
     "execution_count": 12,
     "metadata": {},
     "output_type": "execute_result"
    }
   ],
   "source": [
    "# Anagram:= if two strings are having same length and same alphabets\n",
    "\n",
    "def anagram(s1,s2):\n",
    "    if len(s1)!=len(s2):\n",
    "        return False\n",
    "    for i in s1:\n",
    "        if i not in s2:\n",
    "            return False\n",
    "    return True\n",
    "anagram('silent','listen')"
   ]
  },
  {
   "cell_type": "code",
   "execution_count": 13,
   "id": "70812c4b",
   "metadata": {},
   "outputs": [
    {
     "data": {
      "text/plain": [
       "10"
      ]
     },
     "execution_count": 13,
     "metadata": {},
     "output_type": "execute_result"
    }
   ],
   "source": [
    "# Finding the N-th Triangular Number\n",
    "# It is sum of numbers of points required to form a triangle\n",
    "\n",
    "def Nth_number(num):\n",
    "    result=0\n",
    "    while num>0:\n",
    "        result=result+num\n",
    "        num=num-1\n",
    "    return result\n",
    "Nth_number(4)"
   ]
  },
  {
   "cell_type": "code",
   "execution_count": 30,
   "id": "b1e602db",
   "metadata": {},
   "outputs": [
    {
     "data": {
      "text/plain": [
       "True"
      ]
     },
     "execution_count": 30,
     "metadata": {},
     "output_type": "execute_result"
    }
   ],
   "source": [
    "# Checking for Perfect Squares\n",
    "# n**2-(n-1)**2=2*n-1\n",
    "def sqrt_number(n):\n",
    "    if n<0:\n",
    "        return False\n",
    "    i=0\n",
    "    while i*i<n:\n",
    "        i=i+1\n",
    "    return i*i==n\n",
    "    \n",
    "sqrt_number(4)\n",
    "# n=4 4**2-(4-1)**2=2*4-1 16-(3)**2=8-1  16-9=7 7=7  "
   ]
  },
  {
   "cell_type": "code",
   "execution_count": 13,
   "id": "55476004",
   "metadata": {},
   "outputs": [
    {
     "data": {
      "text/plain": [
       "14"
      ]
     },
     "execution_count": 13,
     "metadata": {},
     "output_type": "execute_result"
    }
   ],
   "source": [
    "# Finding the Sum of Squares of Digits\n",
    "def sum_squares(num):\n",
    "    result=0\n",
    "    while num>0:\n",
    "        digit=num%10\n",
    "        result=result+digit**2\n",
    "        num=num//10\n",
    "    return result\n",
    "sum_squares(123)\n",
    "        \n",
    "# num=111 111>0 111%10=1 digit=1 count=1  num=11\n",
    "# 111/10=11"
   ]
  },
  {
   "cell_type": "code",
   "execution_count": 73,
   "id": "73d4a671",
   "metadata": {},
   "outputs": [
    {
     "name": "stdout",
     "output_type": "stream",
     "text": [
      "[[1, 1, 1], [1, 1, 1], [2, 2, 2]]\n"
     ]
    },
    {
     "data": {
      "text/plain": [
       "[[1, 2, 3], [4, 5, 6], [7, 8, 9]]"
      ]
     },
     "execution_count": 73,
     "metadata": {},
     "output_type": "execute_result"
    }
   ],
   "source": [
    "def matrix_problem(n):\n",
    "    arr1=[]\n",
    "    count=1\n",
    "    for i in range(1,n+1):\n",
    "        for j in range(1,i):\n",
    "            arr1.append([j]*n)\n",
    "    print(arr1)\n",
    "    for i in range(0,n):\n",
    "        for j in range(0,n):\n",
    "            arr1[i][j]=count\n",
    "            count=count+1\n",
    "    return arr1\n",
    "matrix_problem(3)\n",
    "    "
   ]
  },
  {
   "cell_type": "code",
   "execution_count": 29,
   "id": "114c371c",
   "metadata": {},
   "outputs": [
    {
     "name": "stdout",
     "output_type": "stream",
     "text": [
      "123\n",
      "456\n",
      "789\n"
     ]
    }
   ],
   "source": [
    "n=3\n",
    "count=1\n",
    "for i in range(1,n+1):\n",
    "    for j in range(1,n+1):\n",
    "        print(count,end='')\n",
    "        count=count+1\n",
    "    print()\n",
    "    \n",
    "    \n",
    "# n=3 count=1 i=1 j=1 count=2 \n",
    "# i=2 j=2\n"
   ]
  },
  {
   "cell_type": "code",
   "execution_count": 76,
   "id": "2a192913",
   "metadata": {},
   "outputs": [
    {
     "name": "stdout",
     "output_type": "stream",
     "text": [
      "***\n",
      "***\n",
      "***\n"
     ]
    }
   ],
   "source": [
    "n=3\n",
    "count=1\n",
    "for i in range(1,n+1):\n",
    "    for j in range(1,n+1):\n",
    "        print('*',end='')\n",
    "        count=count+1\n",
    "    print()"
   ]
  },
  {
   "cell_type": "code",
   "execution_count": 8,
   "id": "70b8918b",
   "metadata": {},
   "outputs": [
    {
     "data": {
      "text/plain": [
       "['a', 'ab', 'abc', 'b', 'bc', 'c']"
      ]
     },
     "execution_count": 8,
     "metadata": {},
     "output_type": "execute_result"
    }
   ],
   "source": [
    "# always substring is continuous \n",
    "def substring(s):\n",
    "    sub=[]\n",
    "    for i in range(len(s)):\n",
    "        for j in range(i+1,len(s)+1):\n",
    "            sub.append(s[i:j])\n",
    "    return sub\n",
    "substring('abc')\n",
    "\n",
    "#i=0 j=1 s[0:1]=a\n",
    "#i=1 j=2 s[]"
   ]
  },
  {
   "cell_type": "code",
   "execution_count": 18,
   "id": "adca1603",
   "metadata": {},
   "outputs": [
    {
     "data": {
      "text/plain": [
       "[1, 3, 6, 10, 15, 21, 28]"
      ]
     },
     "execution_count": 18,
     "metadata": {},
     "output_type": "execute_result"
    }
   ],
   "source": [
    "def find_subarray_sum(arr):\n",
    "    sub=[]\n",
    "    temp=0\n",
    "    for i in arr:\n",
    "        temp=temp+i\n",
    "        sub.append(temp)\n",
    "    return sub\n",
    "find_subarray_sum([1,2,3,4,5,6,7])"
   ]
  },
  {
   "cell_type": "code",
   "execution_count": 3,
   "id": "78826d12",
   "metadata": {},
   "outputs": [
    {
     "data": {
      "text/plain": [
       "([7, 13, 18, 22, 25, 27, 28], 15)"
      ]
     },
     "execution_count": 3,
     "metadata": {},
     "output_type": "execute_result"
    }
   ],
   "source": [
    "def find_subarray_sum(arr):\n",
    "    start =2\n",
    "    end = 6\n",
    "    prefix=[]\n",
    "    temp=0\n",
    "    result = 0\n",
    "    for i in arr:\n",
    "        temp=temp+i\n",
    "        prefix.append(temp)\n",
    "    result=prefix[end]-prefix[start-1]\n",
    "    return prefix,result\n",
    "find_subarray_sum([7,6,5,4,3,2,1])\n",
    "\n",
    "# start = 2 end =6 subarr = [3,2,1] = 6\n",
    "# result=0 prefix[end]=28 prefix[4-1]=prefix[3]=22 28-22=6\n"
   ]
  },
  {
   "cell_type": "code",
   "execution_count": 24,
   "id": "ce7bee17",
   "metadata": {},
   "outputs": [
    {
     "data": {
      "text/plain": [
       "0"
      ]
     },
     "execution_count": 24,
     "metadata": {},
     "output_type": "execute_result"
    }
   ],
   "source": [
    "def find_subarray_sum(arr):\n",
    "    start =6\n",
    "    end = 4\n",
    "    if start > end:\n",
    "        return 0\n",
    "    prefix=[]\n",
    "    temp=0\n",
    "    result = 0\n",
    "    for i in arr:\n",
    "        temp=temp+i\n",
    "        prefix.append(temp)\n",
    "    result=prefix[end]-prefix[start-1]\n",
    "    return prefix,result\n",
    "find_subarray_sum([7,6,5,4,3,2,1])"
   ]
  },
  {
   "cell_type": "code",
   "execution_count": 39,
   "id": "5eb061c0",
   "metadata": {},
   "outputs": [
    {
     "data": {
      "text/plain": [
       "6"
      ]
     },
     "execution_count": 39,
     "metadata": {},
     "output_type": "execute_result"
    }
   ],
   "source": [
    "class Numarray:\n",
    "    def __init__(self,arr):\n",
    "        self.arr=arr\n",
    "    def printarr(self):\n",
    "        return self.arr\n",
    "    def find_subarray_sum(self,start,end):\n",
    "        if start > end:\n",
    "            return 0\n",
    "        prefix=[]\n",
    "        temp=0\n",
    "        result = 0\n",
    "        for i in self.arr:\n",
    "            temp=temp+i\n",
    "            prefix.append(temp)\n",
    "        if start==0:\n",
    "            result=prefix[end]\n",
    "        else:\n",
    "            result=prefix[end]-prefix[start-1]\n",
    "        return result\n",
    "arrr = Numarray([7,6,5,4,3,2,1])\n",
    "arrr.printarr()\n",
    "arrr.find_subarray_sum(4,6)"
   ]
  },
  {
   "cell_type": "code",
   "execution_count": 9,
   "id": "b6e6491f",
   "metadata": {},
   "outputs": [
    {
     "data": {
      "text/plain": [
       "[1, 2, 5, 4, 6, 8, 9]"
      ]
     },
     "execution_count": 9,
     "metadata": {},
     "output_type": "execute_result"
    }
   ],
   "source": [
    "class LL:\n",
    "    def __init__(self,arr):\n",
    "        self.arr=arr\n",
    "    def push(self,ele):\n",
    "        self.arr.append(ele)\n",
    "    def pop(self):\n",
    "        self.arr=self.arr[0:len(self.arr)-1]\n",
    "    def add(self,value,idx):\n",
    "        n=[value]\n",
    "        self.arr=self.arr[0:idx]+n+self.arr[idx:len(self.arr)]\n",
    "    def printarr(self):\n",
    "        return self.arr\n",
    "a1=LL([1,2,5,6,8,9]) \n",
    "a1.push(3)\n",
    "a1.pop()\n",
    "a1.add(4,3)\n",
    "a1.printarr()\n"
   ]
  },
  {
   "cell_type": "code",
   "execution_count": 48,
   "id": "f53b630c",
   "metadata": {},
   "outputs": [
    {
     "name": "stdout",
     "output_type": "stream",
     "text": [
      "[1, 2, 3, 4, 5, 6]\n"
     ]
    }
   ],
   "source": [
    "a1=[1,2,3]\n",
    "a2=[4,5,6]\n",
    "result=a1+a2\n",
    "print(result)"
   ]
  },
  {
   "cell_type": "code",
   "execution_count": 11,
   "id": "9eb50402",
   "metadata": {},
   "outputs": [
    {
     "data": {
      "text/plain": [
       "{1: 1, 2: 2, 4: 1, 5: 1}"
      ]
     },
     "execution_count": 11,
     "metadata": {},
     "output_type": "execute_result"
    }
   ],
   "source": [
    "def repeateddictionary(arr):\n",
    "    result={}\n",
    "    for i in arr:\n",
    "        if i in result:\n",
    "            result[i]+=1\n",
    "        else:\n",
    "            result[i]=1\n",
    "    return result\n",
    "repeateddictionary([1,2,4,2,5])\n",
    "\n",
    "#arr=[1,2,3,4,5] i=1 result[1] in 1"
   ]
  },
  {
   "cell_type": "code",
   "execution_count": 12,
   "id": "6348dcab",
   "metadata": {},
   "outputs": [],
   "source": [
    "class Solution(object):\n",
    "    def subarraySum(self, nums, k):\n",
    "        \"\"\"\n",
    "        :type nums: List[int]\n",
    "        :type k: int\n",
    "        :rtype: int\n",
    "        \"\"\"\n",
    "        count=0\n",
    "        prifix=0\n",
    "        dictionary={}\n",
    "        dictionary[0]=1\n",
    "        for i in nums:\n",
    "            prifix=prifix+i\n",
    "            if prifix-k in dictionary:\n",
    "                count=dictionary[prifix-k]\n",
    "            dictionary[prifix]+=1\n",
    "        return count\n",
    "    "
   ]
  },
  {
   "cell_type": "code",
   "execution_count": 4,
   "id": "902a718e",
   "metadata": {},
   "outputs": [
    {
     "data": {
      "text/plain": [
       "(2, {0: 1, 1: 1, 2: 1, 4: 1})"
      ]
     },
     "execution_count": 4,
     "metadata": {},
     "output_type": "execute_result"
    }
   ],
   "source": [
    "def subarraySum(nums, k):\n",
    "        \"\"\"\n",
    "        :type nums: List[int]\n",
    "        :type k: int\n",
    "        :rtype: int\n",
    "        \"\"\"\n",
    "        count=0\n",
    "        prifix=0\n",
    "        dictionary={0:1}\n",
    "        for i in nums:\n",
    "            prifix=prifix+i\n",
    "            if prifix-k in dictionary:\n",
    "                count=count+dictionary[prifix-k]\n",
    "            \n",
    "            if prifix in dictionary:\n",
    "                dictionary[prifix]+=1\n",
    "            else:\n",
    "                dictionary[prifix]=1\n",
    "        return count,dictionary\n",
    "subarraySum([1,1,2],2)\n",
    "\n",
    "# count=0 prifix=0 i=1 prifix=0+1=1 if 1-2=-1 in dictionary ={0:1} 1 in {0:1} else {0:1,1:1}\n",
    "# count=0 prifix=1 i=1 prifix=2 if 2-2=0 in dictionary{0:1,1:1} count=0+dictionary[2-2]=0+dictionary[0]=0+1=1 dictionary{0:1,1:1,2:1}\n",
    "# count=1 prifix=2 i=1 prifix=3 if 3-2=1 in di count=1+di[3-2]=1+di[1]=1+1=2 if 3 in dictionary d[3]=1 {0:1,1:1,2:1,3:1}"
   ]
  },
  {
   "cell_type": "code",
   "execution_count": 2,
   "id": "a74e258f",
   "metadata": {},
   "outputs": [
    {
     "data": {
      "text/plain": [
       "[[1, 3]]"
      ]
     },
     "execution_count": 2,
     "metadata": {},
     "output_type": "execute_result"
    }
   ],
   "source": [
    "def twonumbers(nums,target):\n",
    "    start=0\n",
    "    end=len(nums)-1\n",
    "    sum=0\n",
    "    arr=[]\n",
    "    while start < end:\n",
    "        sum=nums[start]+nums[end]\n",
    "        if sum==target:\n",
    "            arr.append([start,end])\n",
    "            end-=1\n",
    "            start+=1\n",
    "        elif sum> target:\n",
    "            end=end-1\n",
    "        else:\n",
    "            start=start+1\n",
    "    return arr\n",
    "twonumbers([1,2,3,4,6],6)"
   ]
  },
  {
   "cell_type": "code",
   "execution_count": 26,
   "id": "a147b9a9",
   "metadata": {},
   "outputs": [
    {
     "data": {
      "text/plain": [
       "True"
      ]
     },
     "execution_count": 26,
     "metadata": {},
     "output_type": "execute_result"
    }
   ],
   "source": [
    "def anagram(s1,s2):\n",
    "    if len(s1)!=len(s2):\n",
    "        return False\n",
    "    for i in s1:\n",
    "        if i not in s2:\n",
    "            return False\n",
    "    return True\n",
    "anagram('silent','listen')\n",
    "\n",
    "# s1='aacc'"
   ]
  },
  {
   "cell_type": "code",
   "execution_count": 5,
   "id": "92636e5e",
   "metadata": {},
   "outputs": [
    {
     "name": "stdout",
     "output_type": "stream",
     "text": [
      "aet\n",
      "aet\n",
      "ant\n",
      "aet\n",
      "ant\n",
      "abt\n"
     ]
    },
    {
     "data": {
      "text/plain": [
       "dict_values([['eat', 'tea', 'ate'], ['tan', 'nat'], ['bat']])"
      ]
     },
     "execution_count": 5,
     "metadata": {},
     "output_type": "execute_result"
    }
   ],
   "source": [
    "def groupAnagrams(strs):\n",
    "    dictionary={}\n",
    "    for i in strs:\n",
    "        sorted_string=''.join(sorted(i))\n",
    "        if sorted_string in dictionary:\n",
    "            dictionary[sorted_string].append(i)\n",
    "        else:\n",
    "             dictionary[sorted_string]=[i]\n",
    "    return dictionary.values()\n",
    "groupAnagrams([\"eat\",\"tea\",\"tan\",\"ate\",\"nat\",\"bat\"])    "
   ]
  },
  {
   "cell_type": "code",
   "execution_count": 27,
   "id": "2595f37a",
   "metadata": {},
   "outputs": [
    {
     "name": "stdout",
     "output_type": "stream",
     "text": [
      "abcd\n"
     ]
    }
   ],
   "source": [
    "strs='abcd'\n",
    "print(''.join(sorted(strs)))"
   ]
  },
  {
   "cell_type": "code",
   "execution_count": 13,
   "id": "c5ac4b5b",
   "metadata": {},
   "outputs": [
    {
     "name": "stdout",
     "output_type": "stream",
     "text": [
      "dict_values([1, 2, 3, 4])\n",
      "1\n"
     ]
    }
   ],
   "source": [
    "d={'a':1,'b':2,'c':3,'d':4}\n",
    "print(d.values())\n",
    "str1='a'\n",
    "if str1 in d:\n",
    "    print(d[str1])"
   ]
  },
  {
   "cell_type": "code",
   "execution_count": 6,
   "id": "c9dfa49e",
   "metadata": {},
   "outputs": [
    {
     "name": "stdout",
     "output_type": "stream",
     "text": [
      "abcd\n"
     ]
    }
   ],
   "source": [
    "str2='dcba'\n",
    "result=sorted(str2)\n",
    "print(''.join(result))"
   ]
  },
  {
   "cell_type": "code",
   "execution_count": 7,
   "id": "871fc73b",
   "metadata": {},
   "outputs": [
    {
     "data": {
      "text/plain": [
       "False"
      ]
     },
     "execution_count": 7,
     "metadata": {},
     "output_type": "execute_result"
    }
   ],
   "source": [
    "def anagram(s1,s2):\n",
    "    if len(s1)!=len(s2):\n",
    "        return False\n",
    "    dictionary={}\n",
    "    for i in s1:\n",
    "        if i in dictionary:\n",
    "            dictionary[i]+=1\n",
    "        else:\n",
    "            dictionary[i]=1 #d={a:2,b:2} \n",
    "    for j in s2:\n",
    "        if j not in dictionary or dictionary[j]==0:\n",
    "            return False\n",
    "        else:\n",
    "            dictionary[j]-=1\n",
    "    return True\n",
    "            \n",
    "anagram('abyz','aabb')\n",
    "\n",
    "# s1='aacc' s2='abyz' d={a:2,b:2}\n",
    "#i=a\n",
    "# j=a if a not in d or d[a]==0 else 2-1=1 d{a:1,b:1}\n",
    "#j=b 2-1 \n",
    "#j=y \n",
    "\n",
    "# d={a:1,b:1,y:1,z:1}\n",
    "#j=a d={a:0,b:1,y:1,z:1}\n",
    "# j=a"
   ]
  },
  {
   "cell_type": "code",
   "execution_count": 34,
   "id": "dc93f4d7",
   "metadata": {},
   "outputs": [
    {
     "name": "stdout",
     "output_type": "stream",
     "text": [
      "abcd\n"
     ]
    }
   ],
   "source": [
    "s='ascd'\n",
    "print(s.replace('s','b'))"
   ]
  },
  {
   "cell_type": "code",
   "execution_count": 3,
   "id": "21275e53",
   "metadata": {},
   "outputs": [
    {
     "data": {
      "text/plain": [
       "[[-1, -1, 2], [-1, 0, 1]]"
      ]
     },
     "execution_count": 3,
     "metadata": {},
     "output_type": "execute_result"
    }
   ],
   "source": [
    "def threesum(nums):\n",
    "    result=[]\n",
    "    nums.sort()\n",
    "    for i in range(0,len(nums)):\n",
    "        if i>0 and nums[i]==nums[i-1]:\n",
    "            continue\n",
    "        start=i+1\n",
    "        end=len(nums)-1\n",
    "        sum=0\n",
    "        \n",
    "        while start < end:\n",
    "            sum=nums[i]+nums[start]+nums[end]\n",
    "            if sum >0:\n",
    "                end-=1\n",
    "            elif sum<0:\n",
    "                start+=1\n",
    "            else:\n",
    "                result.append([nums[i],nums[start],nums[end]])\n",
    "                start+=1\n",
    "                end-=1\n",
    "    return result\n",
    "threesum([-1,0,1,2,-1,-4])\n",
    "\n",
    "# [-4,-1,-1,0,1,2] i=-4 -4>0 "
   ]
  },
  {
   "cell_type": "code",
   "execution_count": 7,
   "id": "4aafe461",
   "metadata": {},
   "outputs": [
    {
     "data": {
      "text/plain": [
       "(4, 3, 2, 1)"
      ]
     },
     "execution_count": 7,
     "metadata": {},
     "output_type": "execute_result"
    }
   ],
   "source": [
    "def foursum(arr):\n",
    "    i= 0\n",
    "    j=1\n",
    "    k=2\n",
    "    l=3\n",
    "    target = 10\n",
    "\n",
    "    for z  in range(0,len(arr)):\n",
    "        if arr[i]+arr[j]+arr[k]+arr[l]==10:\n",
    "            return arr[i],arr[j],arr[k],arr[l]\n",
    "        else:\n",
    "            i+=1\n",
    "            j+=1\n",
    "            k+=1\n",
    "            l+=1\n",
    "    return 0\n",
    "foursum([9,8,7,6,5,4,3,2,1])"
   ]
  },
  {
   "cell_type": "code",
   "execution_count": 1,
   "id": "3295dfbe",
   "metadata": {},
   "outputs": [
    {
     "data": {
      "text/plain": [
       "[[0, 4], [1, 3]]"
      ]
     },
     "execution_count": 1,
     "metadata": {},
     "output_type": "execute_result"
    }
   ],
   "source": [
    "def twosum(nums,target):\n",
    "    start=0\n",
    "    end=len(nums)-1\n",
    "    arr=[]\n",
    "    sum=0\n",
    "    while start < end:\n",
    "        sum=nums[start]+nums[end]\n",
    "        if sum==target:\n",
    "            arr.append([start,end])\n",
    "            start+=1\n",
    "            end-=1\n",
    "        elif sum>end:\n",
    "            end-=1\n",
    "        else:\n",
    "            start+=1\n",
    "    return arr\n",
    "twosum([1,2,3,4,5],6)"
   ]
  },
  {
   "cell_type": "code",
   "execution_count": 49,
   "id": "2351e616",
   "metadata": {},
   "outputs": [
    {
     "data": {
      "text/plain": [
       "2"
      ]
     },
     "execution_count": 49,
     "metadata": {},
     "output_type": "execute_result"
    }
   ],
   "source": [
    "def threesumcloset(nums,target):\n",
    "    nums.sort()\n",
    "    result=0\n",
    "    temp=float('inf')\n",
    "    for i in range(len(nums)):\n",
    "        start=i+1\n",
    "        end=len(nums)-1\n",
    "        sum=0\n",
    "        \n",
    "        while start < end:\n",
    "            sum=nums[i]+nums[start]+nums[end]\n",
    "            if abs(sum-target)<temp:\n",
    "                temp=abs(sum-target)\n",
    "                result=sum\n",
    "\n",
    "            elif (sum-target)==temp:\n",
    "                result=max(result,sum)\n",
    "            if sum>temp:\n",
    "                end-=1\n",
    "            else:\n",
    "                start+=1\n",
    "    return result\n",
    "threesumcloset([-1,2,1,-4],1)\n",
    "\n",
    "# i=0 2==-1\n",
    "# start=1 end=3-1=2 sum=0 1<2  sum=nums[0]+nums[1]+nums[2]=-1+2+1=2 sum=2 target=1 sum >target=2>1 end=2-1=1 "
   ]
  },
  {
   "cell_type": "code",
   "execution_count": 34,
   "id": "3a7eb573",
   "metadata": {},
   "outputs": [
    {
     "data": {
      "text/plain": [
       "False"
      ]
     },
     "execution_count": 34,
     "metadata": {},
     "output_type": "execute_result"
    }
   ],
   "source": [
    "nums=[-1,2,1,-4]\n",
    "nums[0]==nums[0-1]"
   ]
  },
  {
   "cell_type": "code",
   "execution_count": 14,
   "id": "30c476e2",
   "metadata": {},
   "outputs": [
    {
     "data": {
      "text/plain": [
       "9"
      ]
     },
     "execution_count": 14,
     "metadata": {},
     "output_type": "execute_result"
    }
   ],
   "source": [
    "def maximum_subarray_sum(nums,k):\n",
    "    maximum=float('-inf')\n",
    "    for i in range(0,len(nums)-k+1):\n",
    "        sum=0\n",
    "        for j in range(i,k+i):\n",
    "            sum=sum+nums[j]\n",
    "        maximum=max(maximum,sum)\n",
    "    return maximum\n",
    "maximum_subarray_sum([2, 1, 5, 1, 3, 2],3)\n",
    "\n",
    "# i=0 j=i=0 "
   ]
  },
  {
   "cell_type": "code",
   "execution_count": 12,
   "id": "3c162bac",
   "metadata": {},
   "outputs": [
    {
     "data": {
      "text/plain": [
       "9"
      ]
     },
     "execution_count": 12,
     "metadata": {},
     "output_type": "execute_result"
    }
   ],
   "source": [
    "def maximum_subarray_sum(nums,k):\n",
    "    maximum=float('-inf')\n",
    "    current_sum=sum(nums[0:k])\n",
    "    maximum=max(maximum,current_sum)\n",
    "    for i in range(k,len(nums)):\n",
    "        current_sum+=nums[i]-nums[i-k]\n",
    "        maximum=max(maximum,current_sum)\n",
    "    return maximum\n",
    "        \n",
    "maximum_subarray_sum([2, 1, 5, 1, 3, 2],3)        \n",
    "# num[0:3]  maximum=8 current_sum=8 i=3 current_sum=8+nums[3]-nums[3-3]=8+1-2=7 maximum=max(8,7)  \n",
    "# maximum=8 current_sum=7 i=4 cureen_sum=7+3-1=9 maximum=max(8,9)=9\n",
    "#maximum=9 current_sum=9 i=5 current_sum=9+2-5=6 maximum=max(9,6)=9\n"
   ]
  },
  {
   "cell_type": "code",
   "execution_count": 16,
   "id": "014b824a",
   "metadata": {},
   "outputs": [
    {
     "data": {
      "text/plain": [
       "12.75"
      ]
     },
     "execution_count": 16,
     "metadata": {},
     "output_type": "execute_result"
    }
   ],
   "source": [
    "def maximum_average_subarray(nums,k):\n",
    "    if not nums or k>len(nums):\n",
    "        return 0\n",
    "    maximum=float('-inf')\n",
    "    current_sum=sum(nums[0:k])\n",
    "    maximum=max(maximum,current_sum)\n",
    "    for i in range(k,len(nums)):\n",
    "        current_sum+=nums[i]-nums[i-k]\n",
    "        maximum=max(maximum,current_sum)\n",
    "    return maximum/k\n",
    "        \n",
    "maximum_average_subarray([1,12,-5,-6,50,3],4)"
   ]
  },
  {
   "cell_type": "code",
   "execution_count": 2,
   "id": "576a839e",
   "metadata": {},
   "outputs": [
    {
     "data": {
      "text/plain": [
       "12.75"
      ]
     },
     "execution_count": 2,
     "metadata": {},
     "output_type": "execute_result"
    }
   ],
   "source": [
    "def maximum_average_subarray(nums,k):\n",
    "    if not nums or k>len(nums):\n",
    "        return 0\n",
    "    \n",
    "    current_sum=sum(nums[0:k])\n",
    "    maximum=current_sum\n",
    "    for i in range(k,len(nums)):\n",
    "        current_sum+=nums[i]-nums[i-k]\n",
    "        maximum=max(maximum,current_sum)\n",
    "    return float(maximum)/k\n",
    "        \n",
    "maximum_average_subarray([1,12,-5,-6,50,3],4)"
   ]
  },
  {
   "cell_type": "code",
   "execution_count": 49,
   "id": "270edaae",
   "metadata": {},
   "outputs": [
    {
     "data": {
      "text/plain": [
       "'abcd'"
      ]
     },
     "execution_count": 49,
     "metadata": {},
     "output_type": "execute_result"
    }
   ],
   "source": [
    "def longest_substring(s):\n",
    "    sub=\"\"\n",
    "    for i in range(0,len(s)):\n",
    "        for j in range(i,len(s)):\n",
    "            if s[j] in sub:\n",
    "                break \n",
    "            sub=sub+s[j]\n",
    "           \n",
    "                \n",
    "    return sub\n",
    "longest_substring('abcdac')\n",
    "\n"
   ]
  },
  {
   "cell_type": "code",
   "execution_count": 10,
   "id": "ae97f07f",
   "metadata": {},
   "outputs": [
    {
     "data": {
      "text/plain": [
       "['a',\n",
       " 'ab',\n",
       " 'b',\n",
       " 'abc',\n",
       " 'bc',\n",
       " 'c',\n",
       " 'abcd',\n",
       " 'bcd',\n",
       " 'cd',\n",
       " 'd',\n",
       " 'abcda',\n",
       " 'bcda',\n",
       " 'cda',\n",
       " 'da']"
      ]
     },
     "execution_count": 10,
     "metadata": {},
     "output_type": "execute_result"
    }
   ],
   "source": [
    "def longest_substring(s):\n",
    "    arr=[]\n",
    "    for i in range(0,len(s)):\n",
    "        for j in range(0,i): \n",
    "            if s[j:i] in arr:\n",
    "                continue\n",
    "            arr.append(s[j:i])         \n",
    "    return arr\n",
    "longest_substring('abcdac')\n",
    "\n"
   ]
  },
  {
   "cell_type": "code",
   "execution_count": 50,
   "id": "9a2da69f",
   "metadata": {},
   "outputs": [
    {
     "data": {
      "text/plain": [
       "3"
      ]
     },
     "execution_count": 50,
     "metadata": {},
     "output_type": "execute_result"
    }
   ],
   "source": [
    "def printLongestSubstring(s) :\n",
    "    n = len(s)\n",
    "    l, r = 0, 0\n",
    "    visited = set()\n",
    "    maxStr = 0\n",
    "    maxL, maxR = 0, 0\n",
    "    while r < n:\n",
    "        if s[r] not in visited:\n",
    "            visited.add(s[r])\n",
    "            if r - l + 1 > maxStr:\n",
    "                maxStr = r - l + 1\n",
    "                maxL, maxR = l, r\n",
    "            r += 1\n",
    "        else:\n",
    "            visited.remove(s[l])\n",
    "            l += 1\n",
    "    return maxStr\n",
    "printLongestSubstring(\"abcabcbb\")"
   ]
  },
  {
   "cell_type": "code",
   "execution_count": 18,
   "id": "935c3f7d",
   "metadata": {},
   "outputs": [
    {
     "data": {
      "text/plain": [
       "2"
      ]
     },
     "execution_count": 18,
     "metadata": {},
     "output_type": "execute_result"
    }
   ],
   "source": [
    "def caluculate_sum(num):\n",
    "    sum=0\n",
    "    while num > 0 or sum >=10:\n",
    "        if num==0:\n",
    "            num=sum\n",
    "            sum=0\n",
    "        sum+=num%10\n",
    "        num=num//10\n",
    "    return sum\n",
    "caluculate_sum(9875)\n",
    "\n",
    "# 9875 >0 sum=0+5 sum=5 num=987 \n",
    "# 987 >0  sum=5+7=12 num=98 \n",
    "# 98 >0 sum=12+7=19 num=9\n",
    "# 9>0 sum=19+9=28 num=0\n",
    "# 0==0 num=28 sum=0"
   ]
  },
  {
   "cell_type": "code",
   "execution_count": 28,
   "id": "65e6c211",
   "metadata": {},
   "outputs": [
    {
     "data": {
      "text/plain": [
       "3"
      ]
     },
     "execution_count": 28,
     "metadata": {},
     "output_type": "execute_result"
    }
   ],
   "source": [
    "def count_digit(n,digit):\n",
    "    count=0\n",
    "    while n > 0:\n",
    "        if n%10==digit:\n",
    "            count=count+1\n",
    "        n=n//10\n",
    "    return count\n",
    "count_digit(122333,3)"
   ]
  },
  {
   "cell_type": "code",
   "execution_count": 29,
   "id": "e59aa5a8",
   "metadata": {},
   "outputs": [
    {
     "data": {
      "text/plain": [
       "[1, 2, 3, 4, 6, 12]"
      ]
     },
     "execution_count": 29,
     "metadata": {},
     "output_type": "execute_result"
    }
   ],
   "source": [
    "def divisors_number(n):\n",
    "    div=[]\n",
    "    for i in range(1,n+1):\n",
    "        if n%i==0:\n",
    "            div.append(i)\n",
    "    return div\n",
    "divisors_number(12)"
   ]
  },
  {
   "cell_type": "code",
   "execution_count": 34,
   "id": "60a65e23",
   "metadata": {},
   "outputs": [
    {
     "data": {
      "text/plain": [
       "3"
      ]
     },
     "execution_count": 34,
     "metadata": {},
     "output_type": "execute_result"
    }
   ],
   "source": [
    "def average_number(arr):\n",
    "    avg=0\n",
    "    for i in arr:\n",
    "        avg=avg+i\n",
    "    return int(avg/len(arr))\n",
    "average_number([1,2,3,4,5])"
   ]
  },
  {
   "cell_type": "code",
   "execution_count": 37,
   "id": "c91732d9",
   "metadata": {},
   "outputs": [
    {
     "data": {
      "text/plain": [
       "({1: 1, 2: 2, 3: 1, 4: 3}, 3)"
      ]
     },
     "execution_count": 37,
     "metadata": {},
     "output_type": "execute_result"
    }
   ],
   "source": [
    "def mode_number(arr):\n",
    "    mode={}\n",
    "    for i in arr:\n",
    "        if i in mode:\n",
    "            mode[i]+=1\n",
    "        else:\n",
    "            mode[i]=1\n",
    "    return mode,max(mode.values())\n",
    "mode_number([1,2,2,3,4,4,4])"
   ]
  },
  {
   "cell_type": "code",
   "execution_count": 44,
   "id": "260efb59",
   "metadata": {},
   "outputs": [
    {
     "data": {
      "text/plain": [
       "5"
      ]
     },
     "execution_count": 44,
     "metadata": {},
     "output_type": "execute_result"
    }
   ],
   "source": [
    "def length_of_string(s):\n",
    "    count=0\n",
    "    for i in s:\n",
    "        count=count+1\n",
    "    return count\n",
    "length_of_string('hello')\n",
    "\n",
    "# i=0 count=0 0+0=0"
   ]
  },
  {
   "cell_type": "code",
   "execution_count": 48,
   "id": "ebb8eb85",
   "metadata": {},
   "outputs": [
    {
     "name": "stdout",
     "output_type": "stream",
     "text": [
      "1 \n",
      "12 \n",
      "123 \n",
      "1234 \n"
     ]
    }
   ],
   "source": [
    "def pyramid(n):\n",
    "    for i in range(1,n+1):\n",
    "        for j in range(1,i+1):\n",
    "            print(j,end=\"\")\n",
    "        print(\" \")\n",
    "pyramid(4)"
   ]
  },
  {
   "cell_type": "code",
   "execution_count": 9,
   "id": "875a7ce1",
   "metadata": {},
   "outputs": [
    {
     "data": {
      "text/plain": [
       "6"
      ]
     },
     "execution_count": 9,
     "metadata": {},
     "output_type": "execute_result"
    }
   ],
   "source": [
    "def factorial(n):\n",
    "    fact=1\n",
    "    sum=0\n",
    "    if n==0:\n",
    "        return 0\n",
    "    for i in range(1,n+1):\n",
    "        fact=fact*i\n",
    "    while fact > 0:  \n",
    "        sum = sum + (fact % 10)  \n",
    "        fact = fact // 10\n",
    "    return sum\n",
    "factorial(4)\n",
    "\n",
    "# 24 >0 sum=0+4=4 "
   ]
  },
  {
   "cell_type": "code",
   "execution_count": 1,
   "id": "e08ccf98",
   "metadata": {},
   "outputs": [
    {
     "data": {
      "text/plain": [
       "True"
      ]
     },
     "execution_count": 1,
     "metadata": {},
     "output_type": "execute_result"
    }
   ],
   "source": [
    "def pallindrome(s):\n",
    "    return s==s[::-1]\n",
    "pallindrome('racecar')"
   ]
  },
  {
   "cell_type": "code",
   "execution_count": 9,
   "id": "770f7b7c",
   "metadata": {},
   "outputs": [
    {
     "data": {
      "text/plain": [
       "10"
      ]
     },
     "execution_count": 9,
     "metadata": {},
     "output_type": "execute_result"
    }
   ],
   "source": [
    "def sum_digit(n):\n",
    "    sum=0\n",
    "    while n>0:\n",
    "        sum=sum+(n%10)\n",
    "        n=n//10\n",
    "    return sum\n",
    "sum_digit(1234)\n",
    "\n",
    "# sum=0+4=4 n=123 sum=4+3=7 n=12 sum=7+2=9 n=1 sum=9+1=10 sum=10"
   ]
  },
  {
   "cell_type": "code",
   "execution_count": 13,
   "id": "9e3e7d02",
   "metadata": {},
   "outputs": [
    {
     "data": {
      "text/plain": [
       "6"
      ]
     },
     "execution_count": 13,
     "metadata": {},
     "output_type": "execute_result"
    }
   ],
   "source": [
    "def GCD(a,b):\n",
    "    gcd=0\n",
    "    n=min(a,b)\n",
    "    for i in range(1,n+1):\n",
    "        if a%i==0 and b%i==0:\n",
    "            gcd=max(gcd,i)\n",
    "    return gcd\n",
    "GCD(48,18)"
   ]
  },
  {
   "cell_type": "code",
   "execution_count": 15,
   "id": "00f69da4",
   "metadata": {},
   "outputs": [
    {
     "data": {
      "text/plain": [
       "60"
      ]
     },
     "execution_count": 15,
     "metadata": {},
     "output_type": "execute_result"
    }
   ],
   "source": [
    "def LCM(a,b):\n",
    "    lcm=0\n",
    "    gcd=0\n",
    "    n=min(a,b)\n",
    "    for i in range(1,n+1):\n",
    "        if a%i==0 and b%i==0:\n",
    "            gcd=max(gcd,i)\n",
    "            lcm=(a*b)/gcd\n",
    "    return int(lcm)\n",
    "LCM(12,15)"
   ]
  },
  {
   "cell_type": "code",
   "execution_count": 18,
   "id": "98f43e30",
   "metadata": {},
   "outputs": [
    {
     "data": {
      "text/plain": [
       "(3, 8)"
      ]
     },
     "execution_count": 18,
     "metadata": {},
     "output_type": "execute_result"
    }
   ],
   "source": [
    "vowels='aeiouAEIOU'\n",
    "def vowels_consonants(s):\n",
    "    vowels_count=0\n",
    "    consonants=0\n",
    "    for char in s:\n",
    "        if char in vowels:\n",
    "            vowels_count=vowels_count+1\n",
    "        else:\n",
    "            consonants=consonants+1\n",
    "    return vowels_count,consonants\n",
    "vowels_consonants('hello world')"
   ]
  },
  {
   "cell_type": "code",
   "execution_count": 10,
   "id": "0842ee9c",
   "metadata": {},
   "outputs": [
    {
     "data": {
      "text/plain": [
       "'gnimmargorp'"
      ]
     },
     "execution_count": 10,
     "metadata": {},
     "output_type": "execute_result"
    }
   ],
   "source": [
    "def reverse_string(s):\n",
    "    s2=''\n",
    "    for i in s:\n",
    "        s2=i+s2\n",
    "    return s2\n",
    "reverse_string(\"programming\")"
   ]
  },
  {
   "cell_type": "code",
   "execution_count": 22,
   "id": "92066363",
   "metadata": {},
   "outputs": [
    {
     "data": {
      "text/plain": [
       "datetime.datetime(2025, 2, 3, 14, 50, 42, 53358)"
      ]
     },
     "execution_count": 22,
     "metadata": {},
     "output_type": "execute_result"
    }
   ],
   "source": [
    "from datetime import datetime\n",
    "result=datetime.now()\n",
    "result"
   ]
  },
  {
   "cell_type": "code",
   "execution_count": 24,
   "id": "f723c7b5",
   "metadata": {},
   "outputs": [
    {
     "name": "stdout",
     "output_type": "stream",
     "text": [
      "2025-02-03 15:07:40.375148+05:30\n"
     ]
    }
   ],
   "source": [
    "from datetime import datetime\n",
    "import pytz\n",
    "ist=pytz.timezone('Asia/Kolkata')\n",
    "result=datetime.now(ist)\n",
    "print(result)"
   ]
  },
  {
   "cell_type": "code",
   "execution_count": 27,
   "id": "5baca74e",
   "metadata": {},
   "outputs": [
    {
     "data": {
      "text/plain": [
       "8"
      ]
     },
     "execution_count": 27,
     "metadata": {},
     "output_type": "execute_result"
    }
   ],
   "source": [
    "def largest_number(arr):\n",
    "    large=arr[0]\n",
    "    for i in arr[1:]:\n",
    "        if i > large:\n",
    "            large=i\n",
    "    return large\n",
    "largest_number([4, 7, 1, 8, 5] )"
   ]
  },
  {
   "cell_type": "code",
   "execution_count": 29,
   "id": "2ed0e06d",
   "metadata": {},
   "outputs": [
    {
     "data": {
      "text/plain": [
       "'Monday'"
      ]
     },
     "execution_count": 29,
     "metadata": {},
     "output_type": "execute_result"
    }
   ],
   "source": [
    "from datetime import datetime\n",
    "result=datetime.now().strftime(\"%A\")\n",
    "result"
   ]
  },
  {
   "cell_type": "code",
   "execution_count": 3,
   "id": "6d88e793",
   "metadata": {},
   "outputs": [
    {
     "data": {
      "text/plain": [
       "(9, 0)"
      ]
     },
     "execution_count": 3,
     "metadata": {},
     "output_type": "execute_result"
    }
   ],
   "source": [
    "def large_small_number(arr):\n",
    "    large=arr[0]\n",
    "    small=arr[0]\n",
    "    for i in arr[1:]:\n",
    "        if i > large:\n",
    "            large=i\n",
    "        elif i < small:\n",
    "            small=i\n",
    "    return large,small\n",
    "    \n",
    "    \n",
    "large_number([5,8,0,8,5,9])"
   ]
  },
  {
   "cell_type": "code",
   "execution_count": 7,
   "id": "1267a97f",
   "metadata": {},
   "outputs": [
    {
     "data": {
      "text/plain": [
       "[1, 1, 3, 4, 5, 9]"
      ]
     },
     "execution_count": 7,
     "metadata": {},
     "output_type": "execute_result"
    }
   ],
   "source": [
    "def sorting_array(arr):\n",
    "    n=len(arr)\n",
    "    for i in range(n):\n",
    "        for j in range(0,n-i-1):\n",
    "            if arr[j] > arr[j+1]:\n",
    "                arr[j],arr[j+1] = arr[j+1],arr[j]\n",
    "    return arr\n",
    "sorting_array([3, 1, 4, 1, 5, 9])"
   ]
  },
  {
   "cell_type": "code",
   "execution_count": 8,
   "id": "0ea1ca01",
   "metadata": {},
   "outputs": [
    {
     "data": {
      "text/plain": [
       "15"
      ]
     },
     "execution_count": 8,
     "metadata": {},
     "output_type": "execute_result"
    }
   ],
   "source": [
    "def sum_elements(arr):\n",
    "    sum=0\n",
    "    for i in arr:\n",
    "        sum=sum+i\n",
    "    return sum\n",
    "sum_elements([1, 2, 3, 4, 5])"
   ]
  },
  {
   "cell_type": "code",
   "execution_count": 20,
   "id": "663b39fd",
   "metadata": {},
   "outputs": [
    {
     "data": {
      "text/plain": [
       "[1, 2, 3, 4, 5, 6, 7, 8, 9, 153, 370, 371, 407]"
      ]
     },
     "execution_count": 20,
     "metadata": {},
     "output_type": "execute_result"
    }
   ],
   "source": [
    "def armstrong(n):\n",
    "    count=0\n",
    "    sum=0\n",
    "    temp=n\n",
    "    while temp>0:\n",
    "        digit=temp%10\n",
    "\n",
    "        count=count+1\n",
    "        temp=temp//10\n",
    "\n",
    "    temp=n\n",
    "    while temp>0:\n",
    "        digit=temp%10\n",
    "        sum=sum+(digit**count)\n",
    "        temp=temp//10\n",
    "    if sum==n:\n",
    "        return True\n",
    "    else:\n",
    "        return False\n",
    "def range_armstrong(arr):\n",
    "    result=[]\n",
    "    for i in range(arr[0],arr[1]):\n",
    "        if armstrong(i)==True:\n",
    "            result.append(i)\n",
    "    return result\n",
    "range_armstrong([1,500])"
   ]
  },
  {
   "cell_type": "code",
   "execution_count": 27,
   "id": "d0d6cffb",
   "metadata": {},
   "outputs": [
    {
     "name": "stdout",
     "output_type": "stream",
     "text": [
      "4\n",
      "8\n",
      "12\n",
      "16\n",
      "20\n",
      "24\n",
      "28\n",
      "32\n",
      "36\n",
      "40\n"
     ]
    }
   ],
   "source": [
    "def multiplication_tables(n):\n",
    "    for i in range(1,11):\n",
    "        print(n*i)\n",
    "multiplication_tables(4)"
   ]
  },
  {
   "cell_type": "code",
   "execution_count": 11,
   "id": "933fd825",
   "metadata": {},
   "outputs": [
    {
     "data": {
      "text/plain": [
       "[11, 13, 17, 19, 23, 29]"
      ]
     },
     "execution_count": 11,
     "metadata": {},
     "output_type": "execute_result"
    }
   ],
   "source": [
    "def prime(n):\n",
    "    if n<2:\n",
    "        return False\n",
    "    for i in range(2,n):\n",
    "        if n%i==0:\n",
    "            return False\n",
    "    return True\n",
    "def is_prime(arr):\n",
    "    result=[]\n",
    "    for i in range(arr[0],arr[1]):\n",
    "        if prime(i)==True:\n",
    "            result.append(i)\n",
    "    return result\n",
    "is_prime([10,30])    "
   ]
  },
  {
   "cell_type": "code",
   "execution_count": 40,
   "id": "302c0072",
   "metadata": {},
   "outputs": [
    {
     "data": {
      "text/plain": [
       "True"
      ]
     },
     "execution_count": 40,
     "metadata": {},
     "output_type": "execute_result"
    }
   ],
   "source": [
    "def perfect_number(n):\n",
    "    result=0\n",
    "    for i in range(1,n):\n",
    "        if n%i==0:\n",
    "            result=result+i\n",
    "    if result==n:\n",
    "        return True\n",
    "    return False\n",
    "perfect_number(28)"
   ]
  },
  {
   "cell_type": "code",
   "execution_count": 13,
   "id": "5d0a2aab",
   "metadata": {},
   "outputs": [
    {
     "data": {
      "text/plain": [
       "0"
      ]
     },
     "execution_count": 13,
     "metadata": {},
     "output_type": "execute_result"
    }
   ],
   "source": [
    "'''n this problem, a String S is composed of lowercase alphabets and wildcard characters i.e. '?'. Here, '?' can be replaced by any of the lowercase alphabets. Now you have to classify the given String on the basis of following rules:\n",
    "If there are more than 3 consonants together or more than 5 vowels together, the String is considered to be \"BAD\". A String is considered \"GOOD\" only if it is not “BAD”.\n",
    "NOTE: String is considered as \"BAD\" if the above condition is satisfied even once. Else it is \"GOOD\" and the task is to make the string \"BAD\".\n",
    "\n",
    "Example 1:\n",
    "Input:S = aeioup??Output:1Explanation: The String doesn't contain morethan 3 consonants or more than 5 vowels together.So, it's a GOOD string.\n",
    "Example 2:\n",
    "Input:S = bodaeioc\n",
    "You don't need to read input or print anything. Your task is to complete the function isGoodorBad() which takes the String S as input and returns 0 or 1.\n",
    "'''\n",
    "\n",
    "vowels='aeiouAEIOU'\n",
    "def string_Good_Bad(s):\n",
    "    v_count=0\n",
    "    c_count=0\n",
    "    for char in s:\n",
    "        if char in vowels:\n",
    "            v_count+=1\n",
    "        else:\n",
    "            c_count+=1\n",
    "    if v_count>5 or c_count>3:\n",
    "        return 0\n",
    "    return 1\n",
    "string_Good_Bad('?????aei')"
   ]
  },
  {
   "cell_type": "code",
   "execution_count": 16,
   "id": "5b979dfb",
   "metadata": {},
   "outputs": [
    {
     "data": {
      "text/plain": [
       "1"
      ]
     },
     "execution_count": 16,
     "metadata": {},
     "output_type": "execute_result"
    }
   ],
   "source": [
    "vowels='aeiouAEIOU'\n",
    "def string_Good_Bad(s):\n",
    "    v_count=0\n",
    "    c_count=0\n",
    "    for char in s:\n",
    "        if char=='?':\n",
    "            v_count+=1\n",
    "        elif char in vowels:\n",
    "            v_count+=1\n",
    "        else:\n",
    "            c_count+=1\n",
    "    if v_count>5 or c_count>3:\n",
    "        return 0\n",
    "    return 1\n",
    "string_Good_Bad('?????bcd')"
   ]
  },
  {
   "cell_type": "code",
   "execution_count": 2,
   "id": "4f1b3837",
   "metadata": {},
   "outputs": [
    {
     "data": {
      "text/plain": [
       "30"
      ]
     },
     "execution_count": 2,
     "metadata": {},
     "output_type": "execute_result"
    }
   ],
   "source": [
    "def cal_even_sum(arr):\n",
    "    result=0\n",
    "    for i in range(arr[0],arr[1]+1):\n",
    "        if i%2==0:\n",
    "            result=result+i\n",
    "    return result\n",
    "cal_even_sum([1,10])"
   ]
  },
  {
   "cell_type": "code",
   "execution_count": 5,
   "id": "10e6ab9c",
   "metadata": {},
   "outputs": [
    {
     "data": {
      "text/plain": [
       "25"
      ]
     },
     "execution_count": 5,
     "metadata": {},
     "output_type": "execute_result"
    }
   ],
   "source": [
    "def cal_odd_sum(arr):\n",
    "    result=0\n",
    "    for i in range(arr[0],arr[1]+1):\n",
    "        if i%2!=0:\n",
    "            result=result+i\n",
    "    return result\n",
    "cal_odd_sum([1,10])"
   ]
  },
  {
   "cell_type": "code",
   "execution_count": 28,
   "id": "7d121308",
   "metadata": {},
   "outputs": [
    {
     "data": {
      "text/plain": [
       "3"
      ]
     },
     "execution_count": 28,
     "metadata": {},
     "output_type": "execute_result"
    }
   ],
   "source": [
    "def lengthOfLongestSubstring(s):\n",
    "        n = len(s)\n",
    "        l, r = 0, 0\n",
    "        visited = set()\n",
    "        maxStr = 0\n",
    "        maxL, maxR = 0, 0\n",
    "        while r < n:\n",
    "            if s[r] not in visited:\n",
    "                visited.add(s[r])\n",
    "                if r - l + 1 > maxStr:\n",
    "                    maxStr = r - l + 1\n",
    "                    maxL, maxR = l, r\n",
    "                r += 1\n",
    "            else:\n",
    "                visited.remove(s[l])\n",
    "                l += 1\n",
    "        return maxStr\n",
    "lengthOfLongestSubstring(\"abcabcbb\")\n",
    "\n",
    "# n=8 l=0 r=0 v=set() maxstr=0 maxL=0 maxR=0 0<8 s[0] =a visited=a 0-0+1=1>0 maxstr=1\n",
    "#max=l=0 maxR=r=0 r=1\n"
   ]
  },
  {
   "cell_type": "code",
   "execution_count": 19,
   "id": "203a1cf8",
   "metadata": {},
   "outputs": [
    {
     "data": {
      "text/plain": [
       "45"
      ]
     },
     "execution_count": 19,
     "metadata": {},
     "output_type": "execute_result"
    }
   ],
   "source": [
    "def second_largest_number(arr):\n",
    "    large=arr[0]\n",
    "    second_large=float('-inf')\n",
    "    for i in arr[1:]:\n",
    "        if i > large:\n",
    "            second_large=large\n",
    "            large=i\n",
    "        elif i > second_large and i < large:\n",
    "            second_large=i\n",
    "    return second_large\n",
    "second_largest_number([10, 20, 4, 45, 99])"
   ]
  },
  {
   "cell_type": "code",
   "execution_count": 40,
   "id": "cbb2fa8d",
   "metadata": {},
   "outputs": [
    {
     "data": {
      "text/plain": [
       "['my na', 'me is', ' pawa', 'n i f', 'rom h', 'umnab', 'ad___']"
      ]
     },
     "execution_count": 40,
     "metadata": {},
     "output_type": "execute_result"
    }
   ],
   "source": [
    "def string_append(s,k):\n",
    "    result=[]\n",
    "    s2=\"\"\n",
    "    for char in s:\n",
    "        if len(s2) <k:\n",
    "            s2+=char\n",
    "        else:\n",
    "            result.append(s2)\n",
    "            s2=char\n",
    "    if s2:\n",
    "        s2+='_'*(k-len(s2))\n",
    "        result.append(s2)\n",
    "    return result\n",
    "    \n",
    "string_append('my name is pawan i from humnabad',5)\n",
    "\n",
    "# m 0<k =0<5 =s2=m\n",
    "#y s2 =my na s2"
   ]
  },
  {
   "cell_type": "code",
   "execution_count": 17,
   "id": "a0147d75",
   "metadata": {},
   "outputs": [
    {
     "name": "stdout",
     "output_type": "stream",
     "text": [
      "nikita\n"
     ]
    }
   ],
   "source": [
    "def string_long(s):\n",
    "    words = s.split()\n",
    "    result = ''\n",
    "\n",
    "    for word in words:\n",
    "        if len(word) > len(result): \n",
    "            result = word \n",
    "\n",
    "    return result\n",
    "\n",
    "print(string_long('i am nikita'))  \n"
   ]
  },
  {
   "cell_type": "code",
   "execution_count": 46,
   "id": "fcfd0299",
   "metadata": {},
   "outputs": [
    {
     "data": {
      "text/plain": [
       "{'hello': 2, 'world!': 1, 'everyone': 1}"
      ]
     },
     "execution_count": 46,
     "metadata": {},
     "output_type": "execute_result"
    }
   ],
   "source": [
    "def ss(s):\n",
    "    s2=s.split()\n",
    "    result={}\n",
    "    for i in s2:\n",
    "        if i in result:\n",
    "            result[i]+=1\n",
    "        else:\n",
    "            result[i]=1\n",
    "    return result\n",
    "ss('hello world! hello everyone')"
   ]
  },
  {
   "cell_type": "code",
   "execution_count": 47,
   "id": "c149b727",
   "metadata": {},
   "outputs": [
    {
     "data": {
      "text/plain": [
       "'abc'"
      ]
     },
     "execution_count": 47,
     "metadata": {},
     "output_type": "execute_result"
    }
   ],
   "source": [
    "def lengthOfLongestSubstring(s):\n",
    "    l,r = 0,0\n",
    "    string = \"\"\n",
    "    long_string=\"\"\n",
    "    while(r<len(s)):\n",
    "        if s[r] in string:\n",
    "            string = string[l:r]\n",
    "            l+=1\n",
    "        else:\n",
    "            string+=s[r]\n",
    "            r+=1\n",
    "        if len(string)>len(long_string):\n",
    "            long_string=string\n",
    "            \n",
    "    return long_string\n",
    "lengthOfLongestSubstring(\"abcabcbb\")\n"
   ]
  },
  {
   "cell_type": "code",
   "execution_count": 48,
   "id": "1d96ba52",
   "metadata": {},
   "outputs": [
    {
     "data": {
      "text/plain": [
       "'k'"
      ]
     },
     "execution_count": 48,
     "metadata": {},
     "output_type": "execute_result"
    }
   ],
   "source": [
    "def sentence_string(s):\n",
    "    result={}\n",
    "    unique=\"\"\n",
    "    for char in s:\n",
    "        if char in result:\n",
    "            result[char]+=1\n",
    "        else:\n",
    "            result[char]=1\n",
    "    for k in result.keys():\n",
    "\n",
    "        if result[k]==1:\n",
    "            unique=k\n",
    "            return unique\n",
    "    \n",
    "    return result,unique\n",
    "sentence_string('aabbckce')"
   ]
  },
  {
   "cell_type": "code",
   "execution_count": 2,
   "id": "4bc7b6f5",
   "metadata": {},
   "outputs": [
    {
     "data": {
      "text/plain": [
       "[1, 3, 6, 10, 15, 21, 28]"
      ]
     },
     "execution_count": 2,
     "metadata": {},
     "output_type": "execute_result"
    }
   ],
   "source": [
    "def subarray_sum(arr):\n",
    "    result=[]\n",
    "    temp=0\n",
    "    for i in arr:\n",
    "        temp=temp+i\n",
    "        result.append(temp)\n",
    "    return result\n",
    "subarray_sum([1,2,3,4,5,6,7])"
   ]
  },
  {
   "cell_type": "code",
   "execution_count": null,
   "id": "b064af91",
   "metadata": {},
   "outputs": [],
   "source": [
    "def lengthOfLongestSubstring(s):\n",
    "    l,r = 0,0\n",
    "    string = \"\"\n",
    "    long_string=\"\"\n",
    "    while(r<len(s)):\n",
    "        if s[r] in string:\n",
    "            string = string[l:r]\n",
    "            l+=1\n",
    "        else:\n",
    "            string+=s[r]\n",
    "            r+=1\n",
    "        if len(string)>len(long_string):\n",
    "            long_string=string\n",
    "            \n",
    "    return long_string\n",
    "lengthOfLongestSubstring(\"abcabcbb\")\n"
   ]
  },
  {
   "cell_type": "code",
   "execution_count": 14,
   "id": "c25f9d47",
   "metadata": {},
   "outputs": [
    {
     "data": {
      "text/plain": [
       "['b',\n",
       " 'ba',\n",
       " 'bab',\n",
       " 'baba',\n",
       " 'babad',\n",
       " 'a',\n",
       " 'ab',\n",
       " 'aba',\n",
       " 'abad',\n",
       " 'b',\n",
       " 'ba',\n",
       " 'bad',\n",
       " 'a',\n",
       " 'ad',\n",
       " 'd']"
      ]
     },
     "execution_count": 14,
     "metadata": {},
     "output_type": "execute_result"
    }
   ],
   "source": [
    "def substring(s):\n",
    "    sub=[]\n",
    "    for i in range(len(s)):\n",
    "        for j in range(i+1,len(s)+1):\n",
    "            sub.append(s[i:j])\n",
    "        \n",
    "    return sub\n",
    "substring(\"babad\")"
   ]
  },
  {
   "cell_type": "code",
   "execution_count": 23,
   "id": "0dfc8949",
   "metadata": {},
   "outputs": [
    {
     "data": {
      "text/plain": [
       "'bab'"
      ]
     },
     "execution_count": 23,
     "metadata": {},
     "output_type": "execute_result"
    }
   ],
   "source": [
    "def longest_pallindrome(s):\n",
    "    result=''\n",
    "    result_len=0\n",
    "    for i in range(len(s)):\n",
    "        start=i\n",
    "        end=i\n",
    "        while start >= 0 and end < len(s) and s[start]==s[end]:\n",
    "            if (end-start+1) > result_len:\n",
    "                result=s[start:end+1]\n",
    "                result_len=len(result)\n",
    "            start-=1\n",
    "            end+=1\n",
    "        start=i\n",
    "        end=i+1\n",
    "        while start >= 0 and end < len(s) and s[start]==s[end]:\n",
    "            if (end-start+1) > result_len:\n",
    "                result=s[start:end+1]\n",
    "                result_len=len(result)\n",
    "            start-=1\n",
    "            end+=1 \n",
    "    return result\n",
    "longest_pallindrome(\"babad\")\n",
    " \n",
    "# i=0strt=0 end=0 0>=0 and 0<5 and s[0]==s[0] b==b\n",
    "# if (0-0+1)>0 1>0 True result=s[0:0+1]=s[0:1]=b result_len=0-0+1=1\n"
   ]
  },
  {
   "cell_type": "code",
   "execution_count": 49,
   "id": "f2d8882f",
   "metadata": {},
   "outputs": [
    {
     "data": {
      "text/plain": [
       "4"
      ]
     },
     "execution_count": 49,
     "metadata": {},
     "output_type": "execute_result"
    }
   ],
   "source": [
    "def search_insert(nums,target):\n",
    "    start=0\n",
    "    end=len(nums)-1\n",
    "    mid=0\n",
    "    while start <= end:\n",
    "        mid=(start+end)//2\n",
    "        if mid==target:\n",
    "            return mid\n",
    "        elif mid < target:\n",
    "            start+=1\n",
    "        else:\n",
    "            end-=1\n",
    "    return start\n",
    "search_insert([1,3,5,6],7)"
   ]
  },
  {
   "cell_type": "code",
   "execution_count": 50,
   "id": "0aed4cb2",
   "metadata": {},
   "outputs": [
    {
     "name": "stdout",
     "output_type": "stream",
     "text": [
      "1\n",
      "2\n"
     ]
    },
    {
     "data": {
      "text/plain": [
       "(2, [1, 2, '_'])"
      ]
     },
     "execution_count": 50,
     "metadata": {},
     "output_type": "execute_result"
    }
   ],
   "source": [
    "def remove_duplicates(nums):\n",
    "    k=1\n",
    "    for i in range(1,len(nums)):\n",
    "        print(i)\n",
    "        if nums[i]!=nums[i-1]:\n",
    "            nums[k]=nums[i]\n",
    "            k+=1\n",
    "    for j in range(k, len(nums)):\n",
    "        nums[j] = \"_\"\n",
    "    return k,nums\n",
    "remove_duplicates([1,1,2])\n",
    "\n",
    "# i=1 nums[i]=nums[1]=1!=1\n",
    "# "
   ]
  },
  {
   "cell_type": "code",
   "execution_count": 11,
   "id": "f68aeca1",
   "metadata": {},
   "outputs": [
    {
     "name": "stdout",
     "output_type": "stream",
     "text": [
      "1\n",
      "2\n",
      "3\n"
     ]
    },
    {
     "data": {
      "text/plain": [
       "(2, [2, 2, '_', '_'])"
      ]
     },
     "execution_count": 11,
     "metadata": {},
     "output_type": "execute_result"
    }
   ],
   "source": [
    "def remove_duplicates(nums,val):\n",
    "    k=0\n",
    "    for i in range(1,len(nums)):\n",
    "        print(i)\n",
    "        if nums[i]!=val:\n",
    "            nums[k]=nums[i]\n",
    "            k+=1\n",
    "    for j in range(k, len(nums)):\n",
    "        nums[j] = \"_\"\n",
    "    return k,nums\n",
    "remove_duplicates([3,2,2,3],3)\n",
    "\n",
    "# i=1 nums[i]=nums[1]=1!=1\n",
    "# "
   ]
  },
  {
   "cell_type": "code",
   "execution_count": null,
   "id": "83729fb2",
   "metadata": {},
   "outputs": [],
   "source": []
  },
  {
   "cell_type": "code",
   "execution_count": 26,
   "id": "0a35bec9",
   "metadata": {},
   "outputs": [
    {
     "name": "stdout",
     "output_type": "stream",
     "text": [
      "Sorted Array: [3, 9, 10, 25, 27, 38, 43, 82]\n"
     ]
    }
   ],
   "source": [
    "def merge_sort(arr):\n",
    "    # Base case: A list of zero or one elements is already sorted\n",
    "    if len(arr) <= 1:\n",
    "        return arr\n",
    "\n",
    "    # Divide the array into two halves\n",
    "    mid = len(arr) // 2\n",
    "    left_half = merge_sort(arr[:mid])\n",
    "    right_half = merge_sort(arr[mid:])\n",
    "\n",
    "    # Merge the sorted halves\n",
    "    return merge(left_half, right_half)\n",
    "\n",
    "def merge(left, right):\n",
    "    sorted_array = []\n",
    "    i = j = 0\n",
    "\n",
    "    # Compare elements from both halves and add the smaller one to the result\n",
    "    while i < len(left) and j < len(right):\n",
    "        if left[i] <= right[j]:\n",
    "            sorted_array.append(left[i])\n",
    "            i += 1\n",
    "        else:\n",
    "            sorted_array.append(right[j])\n",
    "            j += 1\n",
    "\n",
    "    # Append any remaining elements from the left half\n",
    "    while i < len(left):\n",
    "        sorted_array.append(left[i])\n",
    "        i += 1\n",
    "\n",
    "    # Append any remaining elements from the right half\n",
    "    while j < len(right):\n",
    "        sorted_array.append(right[j])\n",
    "        j += 1\n",
    "\n",
    "    return sorted_array\n",
    "\n",
    "# Example usage\n",
    "arr = [38,25, 27, 43, 3, 9, 82, 10]\n",
    "sorted_arr = merge_sort(arr)\n",
    "print(\"Sorted Array:\", sorted_arr)"
   ]
  },
  {
   "cell_type": "code",
   "execution_count": 31,
   "id": "40aeec00",
   "metadata": {},
   "outputs": [
    {
     "name": "stdout",
     "output_type": "stream",
     "text": [
      "[1, 2, 4]\n",
      "[4, 3, 2, 2]\n",
      "[1, 0, 0, 0]\n"
     ]
    }
   ],
   "source": [
    "def plus_one(digits):\n",
    "    n=len(digits)\n",
    "    for i in range(n-1,-1,-1):\n",
    "        if digits[i]<9:\n",
    "            digits[i]+=1\n",
    "            return digits\n",
    "        digits[i]=0\n",
    "    return [1]+digits\n",
    "# Example usage\n",
    "digits1 = [1, 2, 3]\n",
    "digits2 = [4, 3, 2, 1]\n",
    "digits3 = [9,9,9]\n",
    "\n",
    "print(plus_one(digits1))  # Output: [1, 2, 4]\n",
    "print(plus_one(digits2))  # Output: [4, 3, 2, 2]\n",
    "print(plus_one(digits3))"
   ]
  },
  {
   "cell_type": "code",
   "execution_count": 30,
   "id": "9754046e",
   "metadata": {},
   "outputs": [
    {
     "name": "stdout",
     "output_type": "stream",
     "text": [
      "1\n",
      "12\n",
      "123\n"
     ]
    }
   ],
   "source": [
    "digits1 = [1, 2, 3]\n",
    "digits2 = [4, 3, 2, 1] \n",
    "digits3 = [9,9]\n",
    "result=0\n",
    "for digit in digits1:\n",
    "    result = (result*10) + digit\n",
    "    print(result)"
   ]
  },
  {
   "cell_type": "code",
   "execution_count": 30,
   "id": "3f32fa30",
   "metadata": {},
   "outputs": [
    {
     "data": {
      "text/plain": [
       "''"
      ]
     },
     "execution_count": 30,
     "metadata": {},
     "output_type": "execute_result"
    }
   ],
   "source": [
    "def clear_digits(s):\n",
    "    arr=[]\n",
    "    for i in s:\n",
    "        if i.isdigit():\n",
    "            if arr:\n",
    "                arr.pop()\n",
    "        else:\n",
    "            arr.append(i)\n",
    "    return ''.join(arr)\n",
    "clear_digits('ee34')\n",
    "\n",
    "# i=c c.digit() Flaseelse arr=[]\n",
    "#i=3"
   ]
  },
  {
   "cell_type": "code",
   "execution_count": 15,
   "id": "da5e205f",
   "metadata": {},
   "outputs": [
    {
     "data": {
      "text/plain": [
       "4"
      ]
     },
     "execution_count": 15,
     "metadata": {},
     "output_type": "execute_result"
    }
   ],
   "source": [
    "def roman_to_integer(s):\n",
    "    total=0\n",
    "    roman_numerals = {\n",
    "    'I': 1,\n",
    "    'V': 5,\n",
    "    'X': 10,\n",
    "    'L': 50,\n",
    "    'C': 100,\n",
    "    'D': 500,\n",
    "    'M': 1000\n",
    "}\n",
    "    for i in range(len(s)):\n",
    "        current=roman_numerals[s[i]] \n",
    "        if i+1>=len(s):\n",
    "            next=0\n",
    "        else:\n",
    "            \n",
    "            next=roman_numerals[s[i+1]]  #next='V'=5\n",
    "        total+= -current if current< next else current   #1<5 True -1 ,5\n",
    "        \n",
    "        \n",
    "    return total\n",
    "roman_to_integer('IV')"
   ]
  },
  {
   "cell_type": "code",
   "execution_count": 22,
   "id": "ff992db1",
   "metadata": {},
   "outputs": [
    {
     "data": {
      "text/plain": [
       "'II'"
      ]
     },
     "execution_count": 22,
     "metadata": {},
     "output_type": "execute_result"
    }
   ],
   "source": [
    "def integer_to_roman(n):\n",
    "\n",
    "    roman = {\n",
    "       1000: \"M\", 900: \"CM\", 500: \"D\", 400: \"CD\",\n",
    "        100: \"C\", 90: \"XC\", 50: \"L\", 40: \"XL\",\n",
    "        10: \"X\", 9: \"IX\", 5: \"V\", 4: \"IV\",\n",
    "        1: \"I\"}\n",
    "    roman_str=\"\"\n",
    "    for i,j in roman.items():\n",
    "        while n>=i:\n",
    "            roman_str+=j\n",
    "            n-=i\n",
    "    return roman_str\n",
    "integer_to_roman(2)"
   ]
  },
  {
   "cell_type": "code",
   "execution_count": 29,
   "id": "510eb73e",
   "metadata": {},
   "outputs": [
    {
     "data": {
      "text/plain": [
       "'fl'"
      ]
     },
     "execution_count": 29,
     "metadata": {},
     "output_type": "execute_result"
    }
   ],
   "source": [
    "def longest_common_prefix(s):\n",
    "    s1=s[0]\n",
    "    if len(s)==0:\n",
    "        return \"\"\n",
    "    for i in s[1:]:\n",
    "        while i[:len(s1)]!=s1:\n",
    "            s1=s1[:-1]\n",
    "            if not s1:\n",
    "                return \"\"\n",
    "    return s1    \n",
    "longest_common_prefix([\"flower\",\"flow\",\"flight\"])\n",
    "\n",
    "#s1=flower\n",
    "# i = flow flow[:6]!=flower s1"
   ]
  },
  {
   "cell_type": "code",
   "execution_count": 38,
   "id": "f062dc37",
   "metadata": {},
   "outputs": [
    {
     "data": {
      "text/plain": [
       "False"
      ]
     },
     "execution_count": 38,
     "metadata": {},
     "output_type": "execute_result"
    }
   ],
   "source": [
    "def isvalid(s):\n",
    "    arr=[]\n",
    "    d={')':'(', '}':'{', ']':'['}\n",
    "    for i in s:\n",
    "        if i not in d:\n",
    "            arr.append(i)\n",
    "        else:\n",
    "            if not arr or arr.pop()!=d[i]:\n",
    "                return False\n",
    "    return len(arr)==0\n",
    "isvalid('())))')\n",
    "\n",
    "# i=( ("
   ]
  },
  {
   "cell_type": "code",
   "execution_count": 36,
   "id": "59f7bf6f",
   "metadata": {},
   "outputs": [
    {
     "name": "stdout",
     "output_type": "stream",
     "text": [
      ")\n"
     ]
    }
   ],
   "source": [
    "s=')'\n",
    "d={')':'(', '}':'{', ']':'['}\n",
    "for i in s:\n",
    "    if i in d:\n",
    "        print(i)"
   ]
  },
  {
   "cell_type": "code",
   "execution_count": 54,
   "id": "f01afb84",
   "metadata": {},
   "outputs": [
    {
     "data": {
      "text/plain": [
       "[3, 9, 10, 25, 27, 38, 43, 82]"
      ]
     },
     "execution_count": 54,
     "metadata": {},
     "output_type": "execute_result"
    }
   ],
   "source": [
    "def merge_sort(arr):\n",
    "    if len(arr)<=1:\n",
    "        return arr\n",
    "    mid=len(arr)//2\n",
    "    left_half=merge_sort(arr[:mid])\n",
    "    right_half=merge_sort(arr[mid:])\n",
    "    return merge(left_half,right_half)\n",
    "def merge(left,right):\n",
    "    arr2=[]\n",
    "    i=0\n",
    "    j=0\n",
    "    while i < len(left) and j < len(right):\n",
    "        if left[i]<=right[j]:\n",
    "            arr2.append(left[i])\n",
    "            i+=1\n",
    "        else:\n",
    "            arr2.append(right[j])\n",
    "            j+=1\n",
    "    while i< len(left):\n",
    "        arr2.append(left[i])\n",
    "        i+=1\n",
    "    while j < len(right):\n",
    "        arr2.append(right[j])\n",
    "        j+=1\n",
    "    return arr2\n",
    "merge_sort([38,25, 27, 43, 3, 9, 82, 10])"
   ]
  },
  {
   "cell_type": "code",
   "execution_count": 6,
   "id": "6e4a09c8",
   "metadata": {},
   "outputs": [
    {
     "data": {
      "text/plain": [
       "''"
      ]
     },
     "execution_count": 6,
     "metadata": {},
     "output_type": "execute_result"
    }
   ],
   "source": [
    "def reomve_substring(s,p):\n",
    "    result=\"\"\n",
    "    for i in range(len(s[0])):\n",
    "        for j in s:\n",
    "            if i==len(j) or j[i]!=s[0][i]:\n",
    "                return result\n",
    "        reult+=s[0][i]\n",
    "    return result\n",
    "reomve_substring(\"daabcbaabcbc\",\"abc\")"
   ]
  },
  {
   "cell_type": "code",
   "execution_count": null,
   "id": "94e4246f",
   "metadata": {},
   "outputs": [],
   "source": [
    "def remove_sub_string(s,p):\n",
    "    while p in s:\n",
    "        s=s.replace(p,\"\",1)\n",
    "    return s\n",
    "remove_sub_string(\"daabcbaabcbc\",\"abc\")"
   ]
  },
  {
   "cell_type": "code",
   "execution_count": 16,
   "id": "e4bea8f0",
   "metadata": {},
   "outputs": [
    {
     "data": {
      "text/plain": [
       "5"
      ]
     },
     "execution_count": 16,
     "metadata": {},
     "output_type": "execute_result"
    }
   ],
   "source": [
    "def remove_duplicates(nums,val):\n",
    "    k=0\n",
    "    for i in range(len(nums)):\n",
    "        if nums[i]!=val:\n",
    "            nums[k]=nums[i]\n",
    "            k+=1\n",
    "    \n",
    "    return k\n",
    "remove_duplicates([0,1,2,2,3,0,4,2],2)\n",
    "\n",
    "# i=1 nums[i]=nums[1]=1!=1\n",
    "# "
   ]
  },
  {
   "cell_type": "code",
   "execution_count": null,
   "id": "6cdf43e6",
   "metadata": {},
   "outputs": [],
   "source": []
  },
  {
   "cell_type": "code",
   "execution_count": null,
   "id": "52efba6d",
   "metadata": {},
   "outputs": [],
   "source": []
  }
 ],
 "metadata": {
  "kernelspec": {
   "display_name": "Python 3 (ipykernel)",
   "language": "python",
   "name": "python3"
  },
  "language_info": {
   "codemirror_mode": {
    "name": "ipython",
    "version": 3
   },
   "file_extension": ".py",
   "mimetype": "text/x-python",
   "name": "python",
   "nbconvert_exporter": "python",
   "pygments_lexer": "ipython3",
   "version": "3.11.4"
  }
 },
 "nbformat": 4,
 "nbformat_minor": 5
}
